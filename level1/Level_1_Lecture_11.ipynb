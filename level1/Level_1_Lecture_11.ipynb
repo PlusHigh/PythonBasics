{
 "cells": [
  {
   "cell_type": "markdown",
   "metadata": {},
   "source": [
    "# Turtle 库"
   ]
  },
  {
   "attachments": {},
   "cell_type": "markdown",
   "metadata": {},
   "source": [
    "### 介绍\n",
    "在1966年，Seymour Papert和Wally Feurzig发明了一种专门给儿童学习编程的语言——LOGO语言，它的特色就是通过编程指挥一个小海龟（turtle）在屏幕上绘图。Turtle Graphics后来被移植到各种高级语言中，Python内置了turtle库，基本上100%复制了原始的Turtle Graphics的所有功能。"
   ]
  },
  {
   "attachments": {},
   "cell_type": "markdown",
   "metadata": {},
   "source": [
    "## Turtle基本知识\n",
    "### 坐标系统\n",
    "在Turtle库中，笛卡尔坐标系的原点在画布的中心，向右是x轴正方向，向上是y轴正方向。\n",
    "\n",
    "## 导入和对象创建\n",
    "使用Turtle库需要先导入turtle包，然后使用Turtle()方法创建一个画笔对象，例如：\n",
    "\n"
   ]
  },
  {
   "cell_type": "code",
   "execution_count": 2,
   "metadata": {},
   "outputs": [
    {
     "ename": "",
     "evalue": "",
     "output_type": "error",
     "traceback": [
      "\u001b[1;31mThe Kernel crashed while executing code in the the current cell or a previous cell. Please review the code in the cell(s) to identify a possible cause of the failure. Click <a href='https://aka.ms/vscodeJupyterKernelCrash'>here</a> for more info. View Jupyter <a href='command:jupyter.viewOutput'>log</a> for further details."
     ]
    },
    {
     "ename": "",
     "evalue": "",
     "output_type": "error",
     "traceback": [
      "\u001b[1;31mCanceled future for execute_request message before replies were done"
     ]
    }
   ],
   "source": [
    "import turtle\n",
    "my_turtle = turtle.Turtle()\n"
   ]
  },
  {
   "attachments": {},
   "cell_type": "markdown",
   "metadata": {},
   "source": [
    "## 示例\n",
    "来看一个简单的例子，绘制一个正方形："
   ]
  },
  {
   "cell_type": "code",
   "execution_count": 1,
   "metadata": {},
   "outputs": [],
   "source": [
    "# 使用turtle库绘制一个正方形\n",
    "import turtle\n",
    "\n",
    "# 创建画布和画笔对象\n",
    "my_turtle = turtle.Turtle()\n",
    "\n",
    "# 画笔宽度设置\n",
    "my_turtle.width(4)\n",
    "\n",
    "# 前进200\n",
    "my_turtle.forward(200)\n",
    "\n",
    "# 向右转\n",
    "my_turtle.right(90)\n",
    "\n",
    "# 设置画笔颜色为红色\n",
    "my_turtle.pencolor('red')\n",
    "\n",
    "# 前进100\n",
    "my_turtle.forward(100)\n",
    "\n",
    "# 向右转\n",
    "my_turtle.right(90)\n",
    "\n",
    "# 设置画笔颜色为绿色\n",
    "my_turtle.pencolor('green')\n",
    "\n",
    "# 前进200\n",
    "my_turtle.forward(200)\n",
    "\n",
    "# 向右转\n",
    "my_turtle.right(90)\n",
    "\n",
    "# 设置画笔颜色为蓝色\n",
    "my_turtle.pencolor('blue')\n",
    "\n",
    "# 前进100\n",
    "my_turtle.forward(100)\n",
    "\n",
    "# 结束绘图\n",
    "turtle.done()\n",
    "\n"
   ]
  },
  {
   "attachments": {},
   "cell_type": "markdown",
   "metadata": {},
   "source": [
    "# 进阶应用\n",
    "### 循环\n",
    "使用循环可以绘制更复杂的图形，例如绘制一个五角星："
   ]
  },
  {
   "cell_type": "code",
   "execution_count": 2,
   "metadata": {},
   "outputs": [
    {
     "ename": "Terminator",
     "evalue": "",
     "output_type": "error",
     "traceback": [
      "\u001b[0;31m---------------------------------------------------------------------------\u001b[0m",
      "\u001b[0;31mTerminator\u001b[0m                                Traceback (most recent call last)",
      "\u001b[1;32m/Users/zenghao/Library/Mobile Documents/com~apple~CloudDocs/WorkSpace/pythonbasics/level1/Level_1_Lecture_11.ipynb Cell 9\u001b[0m in \u001b[0;36m<cell line: 4>\u001b[0;34m()\u001b[0m\n\u001b[1;32m      <a href='vscode-notebook-cell:/Users/zenghao/Library/Mobile%20Documents/com~apple~CloudDocs/WorkSpace/pythonbasics/level1/Level_1_Lecture_11.ipynb#X52sZmlsZQ%3D%3D?line=0'>1</a>\u001b[0m \u001b[39mimport\u001b[39;00m \u001b[39mturtle\u001b[39;00m\n\u001b[1;32m      <a href='vscode-notebook-cell:/Users/zenghao/Library/Mobile%20Documents/com~apple~CloudDocs/WorkSpace/pythonbasics/level1/Level_1_Lecture_11.ipynb#X52sZmlsZQ%3D%3D?line=2'>3</a>\u001b[0m \u001b[39m# 创建画布和画笔对象\u001b[39;00m\n\u001b[0;32m----> <a href='vscode-notebook-cell:/Users/zenghao/Library/Mobile%20Documents/com~apple~CloudDocs/WorkSpace/pythonbasics/level1/Level_1_Lecture_11.ipynb#X52sZmlsZQ%3D%3D?line=3'>4</a>\u001b[0m my_turtle \u001b[39m=\u001b[39m turtle\u001b[39m.\u001b[39;49mTurtle()\n\u001b[1;32m      <a href='vscode-notebook-cell:/Users/zenghao/Library/Mobile%20Documents/com~apple~CloudDocs/WorkSpace/pythonbasics/level1/Level_1_Lecture_11.ipynb#X52sZmlsZQ%3D%3D?line=5'>6</a>\u001b[0m \u001b[39m# 绘制一个五角星的函数\u001b[39;00m\n\u001b[1;32m      <a href='vscode-notebook-cell:/Users/zenghao/Library/Mobile%20Documents/com~apple~CloudDocs/WorkSpace/pythonbasics/level1/Level_1_Lecture_11.ipynb#X52sZmlsZQ%3D%3D?line=6'>7</a>\u001b[0m \u001b[39mdef\u001b[39;00m \u001b[39mdraw_star\u001b[39m(x, y):\n\u001b[1;32m      <a href='vscode-notebook-cell:/Users/zenghao/Library/Mobile%20Documents/com~apple~CloudDocs/WorkSpace/pythonbasics/level1/Level_1_Lecture_11.ipynb#X52sZmlsZQ%3D%3D?line=7'>8</a>\u001b[0m     \u001b[39m# 抬起画笔移动到指定位置\u001b[39;00m\n",
      "File \u001b[0;32m~/miniforge3/lib/python3.9/turtle.py:3815\u001b[0m, in \u001b[0;36mTurtle.__init__\u001b[0;34m(self, shape, undobuffersize, visible)\u001b[0m\n\u001b[1;32m   3813\u001b[0m \u001b[39mif\u001b[39;00m Turtle\u001b[39m.\u001b[39m_screen \u001b[39mis\u001b[39;00m \u001b[39mNone\u001b[39;00m:\n\u001b[1;32m   3814\u001b[0m     Turtle\u001b[39m.\u001b[39m_screen \u001b[39m=\u001b[39m Screen()\n\u001b[0;32m-> 3815\u001b[0m RawTurtle\u001b[39m.\u001b[39;49m\u001b[39m__init__\u001b[39;49m(\u001b[39mself\u001b[39;49m, Turtle\u001b[39m.\u001b[39;49m_screen,\n\u001b[1;32m   3816\u001b[0m                    shape\u001b[39m=\u001b[39;49mshape,\n\u001b[1;32m   3817\u001b[0m                    undobuffersize\u001b[39m=\u001b[39;49mundobuffersize,\n\u001b[1;32m   3818\u001b[0m                    visible\u001b[39m=\u001b[39;49mvisible)\n",
      "File \u001b[0;32m~/miniforge3/lib/python3.9/turtle.py:2558\u001b[0m, in \u001b[0;36mRawTurtle.__init__\u001b[0;34m(self, canvas, shape, undobuffersize, visible)\u001b[0m\n\u001b[1;32m   2556\u001b[0m \u001b[39mself\u001b[39m\u001b[39m.\u001b[39m_undobuffersize \u001b[39m=\u001b[39m undobuffersize\n\u001b[1;32m   2557\u001b[0m \u001b[39mself\u001b[39m\u001b[39m.\u001b[39mundobuffer \u001b[39m=\u001b[39m Tbuffer(undobuffersize)\n\u001b[0;32m-> 2558\u001b[0m \u001b[39mself\u001b[39;49m\u001b[39m.\u001b[39;49m_update()\n",
      "File \u001b[0;32m~/miniforge3/lib/python3.9/turtle.py:2661\u001b[0m, in \u001b[0;36mRawTurtle._update\u001b[0;34m(self)\u001b[0m\n\u001b[1;32m   2659\u001b[0m     \u001b[39mreturn\u001b[39;00m\n\u001b[1;32m   2660\u001b[0m \u001b[39melif\u001b[39;00m screen\u001b[39m.\u001b[39m_tracing \u001b[39m==\u001b[39m \u001b[39m1\u001b[39m:\n\u001b[0;32m-> 2661\u001b[0m     \u001b[39mself\u001b[39;49m\u001b[39m.\u001b[39;49m_update_data()\n\u001b[1;32m   2662\u001b[0m     \u001b[39mself\u001b[39m\u001b[39m.\u001b[39m_drawturtle()\n\u001b[1;32m   2663\u001b[0m     screen\u001b[39m.\u001b[39m_update()                  \u001b[39m# TurtleScreenBase\u001b[39;00m\n",
      "File \u001b[0;32m~/miniforge3/lib/python3.9/turtle.py:2647\u001b[0m, in \u001b[0;36mRawTurtle._update_data\u001b[0;34m(self)\u001b[0m\n\u001b[1;32m   2646\u001b[0m \u001b[39mdef\u001b[39;00m \u001b[39m_update_data\u001b[39m(\u001b[39mself\u001b[39m):\n\u001b[0;32m-> 2647\u001b[0m     \u001b[39mself\u001b[39;49m\u001b[39m.\u001b[39;49mscreen\u001b[39m.\u001b[39;49m_incrementudc()\n\u001b[1;32m   2648\u001b[0m     \u001b[39mif\u001b[39;00m \u001b[39mself\u001b[39m\u001b[39m.\u001b[39mscreen\u001b[39m.\u001b[39m_updatecounter \u001b[39m!=\u001b[39m \u001b[39m0\u001b[39m:\n\u001b[1;32m   2649\u001b[0m         \u001b[39mreturn\u001b[39;00m\n",
      "File \u001b[0;32m~/miniforge3/lib/python3.9/turtle.py:1293\u001b[0m, in \u001b[0;36mTurtleScreen._incrementudc\u001b[0;34m(self)\u001b[0m\n\u001b[1;32m   1291\u001b[0m \u001b[39mif\u001b[39;00m \u001b[39mnot\u001b[39;00m TurtleScreen\u001b[39m.\u001b[39m_RUNNING:\n\u001b[1;32m   1292\u001b[0m     TurtleScreen\u001b[39m.\u001b[39m_RUNNING \u001b[39m=\u001b[39m \u001b[39mTrue\u001b[39;00m\n\u001b[0;32m-> 1293\u001b[0m     \u001b[39mraise\u001b[39;00m Terminator\n\u001b[1;32m   1294\u001b[0m \u001b[39mif\u001b[39;00m \u001b[39mself\u001b[39m\u001b[39m.\u001b[39m_tracing \u001b[39m>\u001b[39m \u001b[39m0\u001b[39m:\n\u001b[1;32m   1295\u001b[0m     \u001b[39mself\u001b[39m\u001b[39m.\u001b[39m_updatecounter \u001b[39m+\u001b[39m\u001b[39m=\u001b[39m \u001b[39m1\u001b[39m\n",
      "\u001b[0;31mTerminator\u001b[0m: "
     ]
    }
   ],
   "source": [
    "import turtle\n",
    "\n",
    "# 创建画布和画笔对象\n",
    "my_turtle = turtle.Turtle()\n",
    "\n",
    "# 绘制一个五角星的函数\n",
    "def draw_star(x, y):\n",
    "    # 抬起画笔移动到指定位置\n",
    "    my_turtle.penup()\n",
    "    my_turtle.goto(x, y)\n",
    "    my_turtle.pendown()\n",
    "    \n",
    "    # 计算五角星的角度\n",
    "    angle = 180 - 36\n",
    "    \n",
    "    # 绘制五角星\n",
    "    for i in range(5):\n",
    "        my_turtle.forward(100)\n",
    "        my_turtle.right(angle*2)\n",
    "        my_turtle.forward(100)\n",
    "        my_turtle.right(72 - angle)\n",
    "        \n",
    "# 使用循环绘制五个五角星\n",
    "for x in range(0, 200, 50):\n",
    "    draw_star(x, 0)\n",
    "\n",
    "# 结束绘图\n",
    "turtle.done()\n"
   ]
  },
  {
   "attachments": {},
   "cell_type": "markdown",
   "metadata": {},
   "source": [
    "## Python Turtle库的常用函数的更详细的解释：\n",
    "### 画笔控制函数"
   ]
  },
  {
   "cell_type": "code",
   "execution_count": 3,
   "metadata": {},
   "outputs": [
    {
     "ename": "NameError",
     "evalue": "name 'width' is not defined",
     "output_type": "error",
     "traceback": [
      "\u001b[0;31m---------------------------------------------------------------------------\u001b[0m",
      "\u001b[0;31mNameError\u001b[0m                                 Traceback (most recent call last)",
      "\u001b[1;32m/Users/zenghao/Library/Mobile Documents/com~apple~CloudDocs/WorkSpace/pythonbasics/level1/Level_1_Lecture_11.ipynb Cell 11\u001b[0m in \u001b[0;36m<cell line: 11>\u001b[0;34m()\u001b[0m\n\u001b[1;32m      <a href='vscode-notebook-cell:/Users/zenghao/Library/Mobile%20Documents/com~apple~CloudDocs/WorkSpace/pythonbasics/level1/Level_1_Lecture_11.ipynb#X60sZmlsZQ%3D%3D?line=7'>8</a>\u001b[0m turtle\u001b[39m.\u001b[39mpenup()\n\u001b[1;32m     <a href='vscode-notebook-cell:/Users/zenghao/Library/Mobile%20Documents/com~apple~CloudDocs/WorkSpace/pythonbasics/level1/Level_1_Lecture_11.ipynb#X60sZmlsZQ%3D%3D?line=9'>10</a>\u001b[0m \u001b[39m# 设置画笔宽度（默认为 1）\u001b[39;00m\n\u001b[0;32m---> <a href='vscode-notebook-cell:/Users/zenghao/Library/Mobile%20Documents/com~apple~CloudDocs/WorkSpace/pythonbasics/level1/Level_1_Lecture_11.ipynb#X60sZmlsZQ%3D%3D?line=10'>11</a>\u001b[0m turtle\u001b[39m.\u001b[39mpensize(width)\n\u001b[1;32m     <a href='vscode-notebook-cell:/Users/zenghao/Library/Mobile%20Documents/com~apple~CloudDocs/WorkSpace/pythonbasics/level1/Level_1_Lecture_11.ipynb#X60sZmlsZQ%3D%3D?line=12'>13</a>\u001b[0m \u001b[39m# 设置画笔颜色\u001b[39;00m\n\u001b[1;32m     <a href='vscode-notebook-cell:/Users/zenghao/Library/Mobile%20Documents/com~apple~CloudDocs/WorkSpace/pythonbasics/level1/Level_1_Lecture_11.ipynb#X60sZmlsZQ%3D%3D?line=13'>14</a>\u001b[0m turtle\u001b[39m.\u001b[39mpencolor(color)\n",
      "\u001b[0;31mNameError\u001b[0m: name 'width' is not defined"
     ]
    }
   ],
   "source": [
    "# 重置画笔的状态为默认值\n",
    "turtle.pen()\n",
    "\n",
    "# 画笔落下，开始绘制轨迹\n",
    "turtle.pendown()\n",
    "\n",
    "# 画笔抬起，不再绘制轨迹\n",
    "turtle.penup()\n",
    "\n",
    "# 设置画笔宽度（默认为 1）\n",
    "turtle.pensize(width)\n",
    "\n",
    "# 设置画笔颜色\n",
    "turtle.pencolor(color)\n",
    "\n",
    "# 设置填充类型为描边、填充或描边加填充\n",
    "turtle.pen(filltype='solid')\n",
    "\n",
    "# 返回画笔是否处于下落状态\n",
    "turtle.isdown()\n",
    "\n",
    "# 设置画笔绘制的速度（0-10之间，0为最快，10为最慢）\n",
    "turtle.speed(speed)\n"
   ]
  },
  {
   "cell_type": "markdown",
   "metadata": {},
   "source": [
    "## 转向控制函数"
   ]
  },
  {
   "cell_type": "code",
   "execution_count": null,
   "metadata": {},
   "outputs": [],
   "source": [
    "# 向左旋转指定的角度\n",
    "turtle.left(angle)\n",
    "\n",
    "# 向右旋转指定的角度\n",
    "turtle.right(angle)\n",
    "\n",
    "# 设置当前方向\n",
    "turtle.setheading(angle)\n",
    "\n",
    "# 设置当前方向\n",
    "turtle.seth(angle)\n",
    "\n",
    "# 返回海龟当前行进方向的角度值\n",
    "turtle.heading()\n",
    "\n",
    "# 绘制一个圆弧\n",
    "turtle.circle(radius, extent=None)\n"
   ]
  },
  {
   "attachments": {},
   "cell_type": "markdown",
   "metadata": {},
   "source": [
    "## 其他控制函数"
   ]
  },
  {
   "cell_type": "code",
   "execution_count": null,
   "metadata": {},
   "outputs": [],
   "source": [
    "# 返回画笔的起始点（0,0）\n",
    "turtle.home()\n",
    "\n",
    "# 删除海龟绘制的轨迹\n",
    "turtle.clear()\n",
    "\n",
    "# 撤销上一次海龟绘制的动作\n",
    "turtle.undo()\n",
    "\n",
    "# 设置海龟的位置\n",
    "turtle.setposition(x, y=None)\n",
    "\n",
    "# 返回当前海龟位置的坐标\n",
    "turtle.pos()\n",
    "\n",
    "# 设置海龟的形状和大小\n",
    "turtle.shapesize(stretch_wid=None, stretch_len=None, outline=None)\n",
    "\n",
    "# 显示海龟图像\n",
    "turtle.showturtle()\n",
    "\n",
    "# 隐藏海龟图像\n",
    "turtle.hideturtle()\n",
    "\n",
    "# 在当前海龟的位置放置一点\n",
    "turtle.dot(size=None, *color)\n",
    "\n",
    "# 在画布上输出文本\n",
    "turtle.write(arg, move=False, align=\"left\", font=(\"Arial\", 8, \"normal\"))\n"
   ]
  },
  {
   "attachments": {},
   "cell_type": "markdown",
   "metadata": {},
   "source": [
    "## 图形绘制函数"
   ]
  },
  {
   "cell_type": "code",
   "execution_count": null,
   "metadata": {},
   "outputs": [],
   "source": [
    "# 向当前方向移动指定的距离\n",
    "turtle.forward(distance)\n",
    "\n",
    "# 向当前反方向移动指定的距离\n",
    "turtle.backward(distance)\n",
    "\n",
    "# 将画笔移动到海龟指定的位置\n",
    "turtle.goto(x, y=None)\n",
    "\n",
    "# 绘制一个圆弧\n",
    "turtle.circle(radius, extent=None)\n",
    "\n",
    "# 在当前海龟的位置放置一点\n",
    "turtle.dot(size=None, *color)\n",
    "\n",
    "# 在当前位置放置一个海龟印记\n",
    "turtle.stamp()\n",
    "\n",
    "# 设置海龟或图形的颜色\n",
    "turtle.color(*args)\n",
    "\n",
    "# 开始填充封闭图形\n",
    "turtle.begin_fill()\n",
    "\n",
    "# 结束填充封闭图形\n",
    "turtle.end_fill()\n"
   ]
  },
  {
   "attachments": {},
   "cell_type": "markdown",
   "metadata": {},
   "source": [
    "## 易错点：\n",
    "\n",
    "- 在初始化 turtle 时，需要设置画布大小，否则可能会出现绘制图形时部分图案被遮挡的情况。\n",
    "- 在绘制完一段路径时，记得抬起画笔，否则可能会出现不希望的连线。\n",
    "- 绘制图形时，注意角度、距离和形状大小的设置，否则可能会绘制出不理想的形状。\n",
    "- 在使用填充颜色时，需要在 begin_fill() 和 end_fill() 之间绘制封闭图形，否则填充颜色可能无法正常显示。\n",
    "- Screen() 的实例对象必须赋值给一个变量，不然程序未执行完毕，图形窗口未关闭将无法进行下一步操作。"
   ]
  },
  {
   "cell_type": "markdown",
   "metadata": {},
   "source": []
  }
 ],
 "metadata": {
  "kernelspec": {
   "display_name": "Python 3 (ipykernel)",
   "language": "python",
   "name": "python3"
  },
  "language_info": {
   "codemirror_mode": {
    "name": "ipython",
    "version": 3
   },
   "file_extension": ".py",
   "mimetype": "text/x-python",
   "name": "python",
   "nbconvert_exporter": "python",
   "pygments_lexer": "ipython3",
   "version": "3.9.10"
  },
  "vscode": {
   "interpreter": {
    "hash": "3074f2e904c6b7a89af99873f8e1ecbdf160478a34cbd2d7f433f81be0da20a7"
   }
  }
 },
 "nbformat": 4,
 "nbformat_minor": 2
}
