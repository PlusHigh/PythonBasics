{
 "cells": [
  {
   "cell_type": "markdown",
   "id": "2258154a",
   "metadata": {},
   "source": [
    "# 字典 dictionary\n",
    "我们将会学到：\n",
    "\n",
    "1. 字典是什么\n",
    "\n",
    "2. 字典跟列表和元组有什么不同\n",
    "\n",
    "3. 如何在你的代码中定义并且使用字典\n",
    "\n",
    "\n",
    "其实这东西在javascipt中叫做对象，是一种通用的用于数据交换的形式，比如以后如果你写一个既有python代码又有java代码的项目，json就是语言之间交换数据的数据结构。https://www.w3schools.com/js/js_json_intro.asp"
   ]
  },
  {
   "cell_type": "markdown",
   "id": "55f0e965",
   "metadata": {},
   "source": [
    "### 什么是字典\n",
    "\n",
    "字典就是键值对，key 和value 的一种对应，是对你所使用的什么牛津字典之类的更高级的一种抽象，或者说是\n",
    "\n",
    "- 映射 映射代表了这个世界上任何两个集合之间的关系（集合就是一堆或者一坨人或者物，人的集合，数字的集合等等等）"
   ]
  },
  {
   "cell_type": "markdown",
   "id": "7eb889e2",
   "metadata": {},
   "source": [
    "### 创建字典"
   ]
  },
  {
   "cell_type": "code",
   "execution_count": 1,
   "id": "f05e88a2",
   "metadata": {},
   "outputs": [],
   "source": [
    "# 1. 字面量创建\n",
    "capitals = { \n",
    "    \"California\": \"Sacramento\", \n",
    "    \"New York\": \"Albany\", \n",
    "    \"Texas\": \"Austin\",\n",
    "}"
   ]
  },
  {
   "cell_type": "code",
   "execution_count": 1,
   "id": "bc52179d",
   "metadata": {},
   "outputs": [],
   "source": [
    "# 2.从序列中使用构造函数dict()创建\n",
    "\n",
    "key_value_pairs = [\n",
    "    (\"California\", \"Sacramento\"),\n",
    "    (\"New York\", \"Albany\"),\n",
    "    (\"Texas\", \"Austin\"),\n",
    "]\n",
    "# tuple of tuples 元组的元组"
   ]
  },
  {
   "cell_type": "code",
   "execution_count": 2,
   "id": "6a99ce2b",
   "metadata": {},
   "outputs": [],
   "source": [
    " capitals = dict(key_value_pairs)"
   ]
  },
  {
   "cell_type": "code",
   "execution_count": 3,
   "id": "d0213ed1",
   "metadata": {},
   "outputs": [
    {
     "data": {
      "text/plain": [
       "{'California': 'Sacramento', 'New York': 'Albany', 'Texas': 'Austin'}"
      ]
     },
     "execution_count": 3,
     "metadata": {},
     "output_type": "execute_result"
    }
   ],
   "source": [
    "capitals"
   ]
  },
  {
   "cell_type": "code",
   "execution_count": 6,
   "id": "f6fb84b8",
   "metadata": {},
   "outputs": [
    {
     "data": {
      "text/plain": [
       "({}, {})"
      ]
     },
     "execution_count": 6,
     "metadata": {},
     "output_type": "execute_result"
    }
   ],
   "source": [
    "# 3. 创建空的字典\n",
    "(),tuple()\n",
    "[],list()\n",
    "{},dict()"
   ]
  },
  {
   "cell_type": "markdown",
   "id": "7cbd7e70",
   "metadata": {},
   "source": [
    "### 访问字典的值\n",
    "\n",
    "想一想我们在学字符串，元组和列表的时候都是怎么访问的？"
   ]
  },
  {
   "cell_type": "code",
   "execution_count": 6,
   "id": "43460f1f",
   "metadata": {},
   "outputs": [
    {
     "data": {
      "text/plain": [
       "'Austin'"
      ]
     },
     "execution_count": 6,
     "metadata": {},
     "output_type": "execute_result"
    }
   ],
   "source": [
    "capitals_list = [\"Sacramento\", \"Albany\", \"Austin\"]\n",
    "# index 索引 或者叫下标 \n",
    "capitals_list[-1]"
   ]
  },
  {
   "cell_type": "code",
   "execution_count": 8,
   "id": "3f01ef36",
   "metadata": {},
   "outputs": [
    {
     "data": {
      "text/plain": [
       "'Austin'"
      ]
     },
     "execution_count": 8,
     "metadata": {},
     "output_type": "execute_result"
    }
   ],
   "source": [
    "capitals[\"Texas\"]"
   ]
  },
  {
   "cell_type": "markdown",
   "id": "8350864b",
   "metadata": {},
   "source": [
    "### 增加和删除元素\n",
    "\n",
    "他可以增加和删除元素也就意味着，他是可变的还是不可变的？\n",
    "\n",
    "<b>immutable</b>\n",
    "<b>mutable</b>"
   ]
  },
  {
   "cell_type": "code",
   "execution_count": 11,
   "id": "523f20c4",
   "metadata": {},
   "outputs": [],
   "source": [
    "capitals[\"Colorado\"] = \"Huston\""
   ]
  },
  {
   "cell_type": "code",
   "execution_count": 12,
   "id": "4e93457a",
   "metadata": {},
   "outputs": [
    {
     "data": {
      "text/plain": [
       "{'California': 'Sacramento',\n",
       " 'New York': 'Albany',\n",
       " 'Texas': 'Austin',\n",
       " 'Colorado': 'Huston'}"
      ]
     },
     "execution_count": 12,
     "metadata": {},
     "output_type": "execute_result"
    }
   ],
   "source": [
    "capitals"
   ]
  },
  {
   "cell_type": "markdown",
   "id": "11bf7c8c",
   "metadata": {},
   "source": [
    "如果对已有的某个键重新赋值，他是会增加一个值，还是会对原来的值进行覆盖？"
   ]
  },
  {
   "cell_type": "code",
   "execution_count": 13,
   "id": "625346b5",
   "metadata": {},
   "outputs": [],
   "source": [
    "capitals[\"Texas\"] = \"Houston\""
   ]
  },
  {
   "cell_type": "code",
   "execution_count": 14,
   "id": "15bdfbdd",
   "metadata": {},
   "outputs": [
    {
     "data": {
      "text/plain": [
       "{'California': 'Sacramento',\n",
       " 'New York': 'Albany',\n",
       " 'Texas': 'Houston',\n",
       " 'Colorado': 'Huston'}"
      ]
     },
     "execution_count": 14,
     "metadata": {},
     "output_type": "execute_result"
    }
   ],
   "source": [
    "capitals\n"
   ]
  },
  {
   "cell_type": "code",
   "execution_count": 15,
   "id": "fe3088c7",
   "metadata": {},
   "outputs": [
    {
     "data": {
      "text/plain": [
       "{'California': 'Sacramento', 'New York': 'Albany', 'Colorado': 'Huston'}"
      ]
     },
     "execution_count": 15,
     "metadata": {},
     "output_type": "execute_result"
    }
   ],
   "source": [
    "# 删除用del关键字\n",
    "# delete\n",
    "del capitals['Texas']\n",
    "capitals"
   ]
  },
  {
   "cell_type": "markdown",
   "id": "960f74ba",
   "metadata": {},
   "source": [
    "### 查看某一元素是否存在\n",
    "\n",
    "想一想，以前用什么来判断？\n",
    "\n",
    "membership expression"
   ]
  },
  {
   "cell_type": "code",
   "execution_count": 17,
   "id": "86fcf9e1",
   "metadata": {},
   "outputs": [
    {
     "ename": "KeyError",
     "evalue": "'Arizona'",
     "output_type": "error",
     "traceback": [
      "\u001b[0;31m---------------------------------------------------------------------------\u001b[0m",
      "\u001b[0;31mKeyError\u001b[0m                                  Traceback (most recent call last)",
      "\u001b[1;32m/Users/zenghao/Library/Mobile Documents/com~apple~CloudDocs/WorkSpace/pythonbasics/level1/Level_1_Lecture_16_Dict.ipynb Cell 20\u001b[0m in \u001b[0;36m<cell line: 1>\u001b[0;34m()\u001b[0m\n\u001b[0;32m----> <a href='vscode-notebook-cell:/Users/zenghao/Library/Mobile%20Documents/com~apple~CloudDocs/WorkSpace/pythonbasics/level1/Level_1_Lecture_16_Dict.ipynb#X25sZmlsZQ%3D%3D?line=0'>1</a>\u001b[0m capitals[\u001b[39m\"\u001b[39;49m\u001b[39mArizona\u001b[39;49m\u001b[39m\"\u001b[39;49m]\n",
      "\u001b[0;31mKeyError\u001b[0m: 'Arizona'"
     ]
    }
   ],
   "source": [
    " capitals[\"Arizona\"]"
   ]
  },
  {
   "cell_type": "code",
   "execution_count": 16,
   "id": "8b7be6c1",
   "metadata": {},
   "outputs": [
    {
     "data": {
      "text/plain": [
       "False"
      ]
     },
     "execution_count": 16,
     "metadata": {},
     "output_type": "execute_result"
    }
   ],
   "source": [
    "\"Arizona\" in capitals"
   ]
  },
  {
   "cell_type": "markdown",
   "id": "93f037a2",
   "metadata": {},
   "source": [
    "但是in只能判断key是否存在\n"
   ]
  },
  {
   "cell_type": "code",
   "execution_count": 18,
   "id": "8d593996",
   "metadata": {},
   "outputs": [
    {
     "ename": "KeyError",
     "evalue": "'Sacramento'",
     "output_type": "error",
     "traceback": [
      "\u001b[0;31m---------------------------------------------------------------------------\u001b[0m",
      "\u001b[0;31mKeyError\u001b[0m                                  Traceback (most recent call last)",
      "\u001b[1;32m/Users/zenghao/Library/Mobile Documents/com~apple~CloudDocs/WorkSpace/pythonbasics/level1/Level_1_Lecture_16_Dict.ipynb Cell 23\u001b[0m in \u001b[0;36m<cell line: 1>\u001b[0;34m()\u001b[0m\n\u001b[0;32m----> <a href='vscode-notebook-cell:/Users/zenghao/Library/Mobile%20Documents/com~apple~CloudDocs/WorkSpace/pythonbasics/level1/Level_1_Lecture_16_Dict.ipynb#X31sZmlsZQ%3D%3D?line=0'>1</a>\u001b[0m capitals[\u001b[39m'\u001b[39;49m\u001b[39mSacramento\u001b[39;49m\u001b[39m'\u001b[39;49m]\n",
      "\u001b[0;31mKeyError\u001b[0m: 'Sacramento'"
     ]
    }
   ],
   "source": [
    "capitals['Sacramento']"
   ]
  },
  {
   "attachments": {},
   "cell_type": "markdown",
   "id": "6f1ec580",
   "metadata": {},
   "source": [
    "### 遍历字典\n",
    "#  traves \n"
   ]
  },
  {
   "cell_type": "code",
   "execution_count": 20,
   "id": "109d0168",
   "metadata": {},
   "outputs": [
    {
     "name": "stdout",
     "output_type": "stream",
     "text": [
      "California\n",
      "New York\n",
      "Colorado\n"
     ]
    }
   ],
   "source": [
    "for value in capitals : \n",
    "    print(value)"
   ]
  },
  {
   "cell_type": "markdown",
   "id": "a01ec769",
   "metadata": {},
   "source": [
    "那我要是想既遍历键，又遍历值呢？\n",
    "\n",
    "- 回想访问字典的值，我们可以根据键来获取值"
   ]
  },
  {
   "cell_type": "code",
   "execution_count": 21,
   "id": "13820c72",
   "metadata": {},
   "outputs": [
    {
     "name": "stdout",
     "output_type": "stream",
     "text": [
      "The capital of California is Sacramento\n",
      "The capital of New York is Albany\n",
      "The capital of Colorado is Huston\n"
     ]
    }
   ],
   "source": [
    "for state in capitals:\n",
    "    print(f\"The capital of {state} is {capitals[state]}\")\n",
    "    \n",
    "# format"
   ]
  },
  {
   "cell_type": "markdown",
   "id": "15353463",
   "metadata": {},
   "source": [
    "那有没有更加简便的方法？\n",
    "\n",
    "有，那就是dict.items()"
   ]
  },
  {
   "cell_type": "code",
   "execution_count": 22,
   "id": "4d7d1656",
   "metadata": {},
   "outputs": [
    {
     "data": {
      "text/plain": [
       "dict_items([('California', 'Sacramento'), ('New York', 'Albany'), ('Colorado', 'Huston')])"
      ]
     },
     "execution_count": 22,
     "metadata": {},
     "output_type": "execute_result"
    }
   ],
   "source": [
    "capitals.items()\n",
    "# capitals.keys()\n",
    "#capitals.values()"
   ]
  },
  {
   "cell_type": "code",
   "execution_count": 24,
   "id": "f36d2e2b",
   "metadata": {},
   "outputs": [
    {
     "name": "stdout",
     "output_type": "stream",
     "text": [
      "<class 'tuple'>\n",
      "1 2\n"
     ]
    }
   ],
   "source": [
    "a = 1 , 2\n",
    "print(type(a))\n",
    "b,c = a \n",
    "print(b,c)"
   ]
  },
  {
   "cell_type": "markdown",
   "id": "7b965f0a",
   "metadata": {},
   "source": [
    "unpacking \n",
    "解封装"
   ]
  },
  {
   "cell_type": "code",
   "execution_count": 25,
   "id": "b99fa591",
   "metadata": {},
   "outputs": [
    {
     "name": "stdout",
     "output_type": "stream",
     "text": [
      "The capital of California is Sacramento\n",
      "The capital of New York is Albany\n",
      "The capital of Colorado is Huston\n"
     ]
    }
   ],
   "source": [
    "for state,capital in capitals.items():\n",
    "    print(f\"The capital of {state} is {capital}\")"
   ]
  },
  {
   "cell_type": "markdown",
   "id": "3fb7d149",
   "metadata": {},
   "source": [
    "键的类型其实也不用非得是字符串，只要是不可变的类型就可以，所以，哪些类型不可以用做键呢？\n"
   ]
  },
  {
   "cell_type": "code",
   "execution_count": 26,
   "id": "e8c25ca9",
   "metadata": {},
   "outputs": [],
   "source": [
    "capitals[50] = \"Honolulu\""
   ]
  },
  {
   "cell_type": "code",
   "execution_count": 27,
   "id": "50a3460b",
   "metadata": {},
   "outputs": [
    {
     "data": {
      "text/plain": [
       "{'California': 'Sacramento',\n",
       " 'New York': 'Albany',\n",
       " 'Colorado': 'Huston',\n",
       " 50: 'Honolulu'}"
      ]
     },
     "execution_count": 27,
     "metadata": {},
     "output_type": "execute_result"
    }
   ],
   "source": [
    "capitals"
   ]
  },
  {
   "cell_type": "markdown",
   "id": "da4116fd",
   "metadata": {},
   "source": [
    "想想为什么不可以用可变类型作为字典的键？\n",
    "\n",
    "- 如果一个列表被作为key在一个字典中使用，而在之后这个列表改变了，那么：\n",
    "\n",
    "- 这个键应该与原来的键的值相关联，还是说原来的键的值应该被移除掉呢？\n",
    "\n",
    "我们来试一试：\n"
   ]
  },
  {
   "cell_type": "code",
   "execution_count": 28,
   "id": "78cbda34",
   "metadata": {},
   "outputs": [
    {
     "ename": "TypeError",
     "evalue": "unhashable type: 'list'",
     "output_type": "error",
     "traceback": [
      "\u001b[0;31m---------------------------------------------------------------------------\u001b[0m",
      "\u001b[0;31mTypeError\u001b[0m                                 Traceback (most recent call last)",
      "\u001b[1;32m/Users/zenghao/Library/Mobile Documents/com~apple~CloudDocs/WorkSpace/pythonbasics/level1/Level_1_Lecture_16_Dict.ipynb Cell 37\u001b[0m in \u001b[0;36m<cell line: 1>\u001b[0;34m()\u001b[0m\n\u001b[0;32m----> <a href='vscode-notebook-cell:/Users/zenghao/Library/Mobile%20Documents/com~apple~CloudDocs/WorkSpace/pythonbasics/level1/Level_1_Lecture_16_Dict.ipynb#X50sZmlsZQ%3D%3D?line=0'>1</a>\u001b[0m capitals[[\u001b[39m1\u001b[39m, \u001b[39m2\u001b[39m, \u001b[39m3\u001b[39m]] \u001b[39m=\u001b[39m \u001b[39m\"\u001b[39m\u001b[39mBad\u001b[39m\u001b[39m\"\u001b[39m\n",
      "\u001b[0;31mTypeError\u001b[0m: unhashable type: 'list'"
     ]
    }
   ],
   "source": [
    "capitals[[1, 2, 3]] = \"Bad\"\n",
    "# 哈希，根据一定的规则计算值"
   ]
  },
  {
   "cell_type": "markdown",
   "id": "40301c1d",
   "metadata": {},
   "source": [
    "但是值不一样，值是任意的，所以值可以是其他的字典。"
   ]
  },
  {
   "cell_type": "markdown",
   "id": "a51156e6",
   "metadata": {},
   "source": [
    "### 嵌套 Nested 字典"
   ]
  },
  {
   "cell_type": "code",
   "execution_count": 29,
   "id": "91648f04",
   "metadata": {},
   "outputs": [],
   "source": [
    "states = {\n",
    "\n",
    "\"California\": {\n",
    "    \"capital\": \"Sacramento\",\n",
    "    \"flower\": \"California Poppy\"\n",
    "},\n",
    "\"New York\": {\n",
    "    \"capital\": \"Albany\",\n",
    "    \"flower\": \"Rose\"\n",
    "},\n",
    "\"Texas\": {\n",
    "    \"capital\": \"Austin\",\n",
    "    \"flower\": \"Bluebonnet\"\n",
    "      }, \n",
    "}"
   ]
  },
  {
   "cell_type": "code",
   "execution_count": 30,
   "id": "feb9a2e1",
   "metadata": {},
   "outputs": [
    {
     "data": {
      "text/plain": [
       "{'capital': 'Austin', 'flower': 'Bluebonnet'}"
      ]
     },
     "execution_count": 30,
     "metadata": {},
     "output_type": "execute_result"
    }
   ],
   "source": [
    "states['Texas']"
   ]
  },
  {
   "cell_type": "code",
   "execution_count": 31,
   "id": "311bdaca",
   "metadata": {},
   "outputs": [
    {
     "data": {
      "text/plain": [
       "'Bluebonnet'"
      ]
     },
     "execution_count": 31,
     "metadata": {},
     "output_type": "execute_result"
    }
   ],
   "source": [
    "states['Texas']['flower']"
   ]
  },
  {
   "cell_type": "markdown",
   "id": "883a7a3b",
   "metadata": {},
   "source": [
    "# Exercise"
   ]
  },
  {
   "cell_type": "markdown",
   "id": "af4820f8",
   "metadata": {},
   "source": [
    "- 1. Create an empty dictionary named captains.\n",
    "    \n",
    "    创建一个叫做captains的空字典\n",
    "- 2. Using the square bracket notation, enter the following data into the dictionary, one item at a time:\n",
    "\n",
    "- 'Enterprise': 'Picard'\n",
    "- 'Voyager': 'Janeway'\n",
    "- 'Defiant': 'Sisko'\n",
    "\n",
    "    使用方括号将上述数据添加进你刚刚创建的字典中，每次加入一个数据项。\n",
    "\n",
    "- 3. Write two if statements that check if \"Enterprise\" and \"Discovery\" exist as keys in the dictionary. Set their values to \"unknown\" if the key does not exist. \n",
    "    \n",
    "   写两个if语句检查是否enterprise和discovery作为键在字典中存在，如果键不存在则设置他们的值为unknown.\n",
    "- 4. Write a for loop to display the ship and captain names contained in the dictionary. For example, the output should look something like this:\n",
    "\n",
    "  The Enterprise is captained by Picard.\n",
    "   \n",
    "   写一个for循环展示在字典中的船和船长的名字，例如，结果应如下所示：\n",
    "    \n",
    "   The Enterprise is captained by Picard.\n",
    "\n",
    "- 5. 从字典中删除Discovery项\n",
    "\n",
    "- 6. 使用dict()函数创建并传入与原来的字典相同的键值对\n"
   ]
  },
  {
   "cell_type": "code",
   "execution_count": 9,
   "id": "3ecb5262",
   "metadata": {},
   "outputs": [],
   "source": [
    "captains = dict(\n",
    "    (\n",
    "        (\"Enterprise\", \"Picard\"),\n",
    "        [\"Voyager\", \"Janeway\"],\n",
    "        [\"Defiant\", \"Sisko\"],\n",
    "    )\n",
    ")"
   ]
  },
  {
   "cell_type": "code",
   "execution_count": 10,
   "id": "ebdf5530",
   "metadata": {},
   "outputs": [
    {
     "data": {
      "text/plain": [
       "{'Enterprise': 'Picard', 'Voyager': 'Janeway', 'Defiant': 'Sisko'}"
      ]
     },
     "execution_count": 10,
     "metadata": {},
     "output_type": "execute_result"
    }
   ],
   "source": [
    "captains"
   ]
  },
  {
   "cell_type": "code",
   "execution_count": null,
   "id": "cab38cb6",
   "metadata": {},
   "outputs": [],
   "source": []
  }
 ],
 "metadata": {
  "kernelspec": {
   "display_name": "Python 3.9.12 ('env_tf')",
   "language": "python",
   "name": "python3"
  },
  "language_info": {
   "codemirror_mode": {
    "name": "ipython",
    "version": 3
   },
   "file_extension": ".py",
   "mimetype": "text/x-python",
   "name": "python",
   "nbconvert_exporter": "python",
   "pygments_lexer": "ipython3",
   "version": "3.9.10"
  },
  "vscode": {
   "interpreter": {
    "hash": "b816af80ce6e57c39048368ff3aa3448b5b147bd154d524c2f8f356fb26241bb"
   }
  }
 },
 "nbformat": 4,
 "nbformat_minor": 5
}
