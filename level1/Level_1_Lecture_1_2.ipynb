{
 "cells": [
  {
   "cell_type": "markdown",
   "id": "da506d93",
   "metadata": {},
   "source": [
    "# 变量\n",
    "\n",
    "## 什么是变量\n",
    "\n",
    "变量就是标签\n",
    "对象就是盒子\n",
    "标签存储着对象或者说盒子在内存中的相应的地址"
   ]
  },
  {
   "cell_type": "code",
   "execution_count": null,
   "id": "d600445d",
   "metadata": {},
   "outputs": [],
   "source": [
    "message = 'Hello world!'\n",
    "print(message)\n",
    "mes = message\n",
    "print(mes)"
   ]
  },
  {
   "cell_type": "markdown",
   "id": "f5a1dc82",
   "metadata": {},
   "source": [
    "= 是什么?\n",
    "\n",
    "\n",
    "在数学中， = 是一个逻辑运算符，表示相等 \n",
    "\n",
    "在python中等号是赋值， 相等用 2个等号 =="
   ]
  },
  {
   "cell_type": "code",
   "execution_count": 2,
   "id": "5120725a",
   "metadata": {},
   "outputs": [
    {
     "data": {
      "text/plain": [
       "True"
      ]
     },
     "execution_count": 2,
     "metadata": {},
     "output_type": "execute_result"
    }
   ],
   "source": [
    "1+2 == 3"
   ]
  },
  {
   "cell_type": "code",
   "execution_count": 3,
   "id": "fdcb2231",
   "metadata": {},
   "outputs": [
    {
     "name": "stdout",
     "output_type": "stream",
     "text": [
      "11\n"
     ]
    }
   ],
   "source": [
    "a = 5 \n",
    "b = 6 \n",
    "print( a + b )"
   ]
  },
  {
   "cell_type": "code",
   "execution_count": 7,
   "id": "539de358",
   "metadata": {},
   "outputs": [
    {
     "data": {
      "text/plain": [
       "(1, [1, 2], {1: 'a'}, 'abc')"
      ]
     },
     "execution_count": 7,
     "metadata": {},
     "output_type": "execute_result"
    }
   ],
   "source": [
    "n = 1\n",
    "l = [1,2]\n",
    "d = {1:'a'}\n",
    "s = \"abc\"\n",
    "n,l,d,s"
   ]
  },
  {
   "cell_type": "markdown",
   "id": "2e255905",
   "metadata": {},
   "source": [
    "变量 = 对象\n",
    "\n",
    "\n",
    "变量是对象的别名\n",
    "\n",
    "\n",
    "变量的创建: 是在第一次赋值的时候生成的。\n",
    "\n",
    "其实保存的对象是保存它在内存中的引用，也就是地址，这个以后再说。\n"
   ]
  },
  {
   "cell_type": "markdown",
   "id": "5563a6cd",
   "metadata": {},
   "source": [
    "### 命明规则:（变量的名字是我们自己定义的，但是我们也不能随便定义）\n",
    "  * 字母、数字、下划线\n",
    "  * 只能以字母或下划线开头\n",
    "  * 不能包含空格 \n",
    "  * 避免python关键字(保留字)或函数\n",
    "  * 简短且具有描述性\n",
    "  * 区分大小写\n",
    "  \n",
    "  规范:小写字母，多个单词时，之间用_连接\n",
    "  \n",
    "  \n",
    "secondsPerMiniute java \n",
    "\n",
    "\n",
    "seconds_per_minute 每分多少秒  "
   ]
  },
  {
   "cell_type": "markdown",
   "id": "4bee7f33",
   "metadata": {},
   "source": [
    "<b>b 和B是不同的两个变量，可以保存不同的值</b>\n",
    "\n",
    "\n",
    "\n",
    "当变量内保存不同的内容的时候，他们在内存中的地址是不同的。"
   ]
  },
  {
   "cell_type": "code",
   "execution_count": null,
   "id": "5f14bff6",
   "metadata": {},
   "outputs": [],
   "source": [
    "b = 128\n",
    "B = 129 \n",
    "print(id(b))\n",
    "print(id(B))\n"
   ]
  },
  {
   "cell_type": "markdown",
   "id": "a371cef5",
   "metadata": {},
   "source": [
    "#### 保留字:\n",
    "\n",
    "\n",
    "必须知道的:\n",
    " > <b> and as def del elif else False for from if in is None not Or True while </b>\n",
    " \n",
    " \n",
    "其余:\n",
    ">  assert async await break class continue except finally global lambda\n",
    "   nonlocal pass raise return try with yield"
   ]
  },
  {
   "cell_type": "markdown",
   "id": "5887ccdd",
   "metadata": {},
   "source": [
    "### as 关键字的用法，就是给指定的一些包起一个别名。 \n",
    "\n",
    "import tensorflow as tf\n",
    "tf.\n",
    "tensorflow."
   ]
  },
  {
   "cell_type": "code",
   "execution_count": 1,
   "id": "af9603f7",
   "metadata": {},
   "outputs": [
    {
     "name": "stdout",
     "output_type": "stream",
     "text": [
      "['False', 'None', 'True', 'and', 'as', 'assert', 'async', 'await', 'break', 'class', 'continue', 'def', 'del', 'elif', 'else', 'except', 'finally', 'for', 'from', 'global', 'if', 'import', 'in', 'is', 'lambda', 'nonlocal', 'not', 'or', 'pass', 'raise', 'return', 'try', 'while', 'with', 'yield']\n"
     ]
    }
   ],
   "source": [
    "import keyword\n",
    "print(keyword.kwlist)"
   ]
  },
  {
   "cell_type": "markdown",
   "id": "c3029add",
   "metadata": {},
   "source": [
    "int()函数可以进行浮点数和整数之间的转换，但是无法接收一个‘12.1’这样的字符串进行转换，可以接收‘12’"
   ]
  },
  {
   "cell_type": "code",
   "execution_count": null,
   "id": "d0892bde",
   "metadata": {},
   "outputs": [],
   "source": [
    "a = int('12')\n",
    "b = int(12.1)\n",
    "c = str(123)\n",
    "a,b,c"
   ]
  },
  {
   "cell_type": "markdown",
   "id": "b18b6968",
   "metadata": {},
   "source": [
    "int 是 integer 的缩写，表示整数。"
   ]
  },
  {
   "cell_type": "code",
   "execution_count": 34,
   "id": "e3eb4e42",
   "metadata": {},
   "outputs": [
    {
     "data": {
      "text/plain": [
       "(12, 12)"
      ]
     },
     "execution_count": 34,
     "metadata": {},
     "output_type": "execute_result"
    }
   ],
   "source": [
    "a,b"
   ]
  },
  {
   "cell_type": "code",
   "execution_count": null,
   "id": "5013fbf1",
   "metadata": {},
   "outputs": [],
   "source": [
    "name = input(\"我可以称呼你什么\") \n",
    "hometown = input(\"你的家乡在哪里\") \n",
    "age = input(\"你今年几岁\\\n",
    "            了\")\n",
    "\n",
    "print(\"大家好，我叫\", name, \"来自\", hometown, \"今年\",age, \"岁了。\")\n"
   ]
  },
  {
   "cell_type": "markdown",
   "id": "fbf858da",
   "metadata": {},
   "source": [
    "折行符只有在terminal 终端环境中才有用，在jupyter、idle的脚本环境中不需要折行符。"
   ]
  },
  {
   "cell_type": "markdown",
   "id": "385607af",
   "metadata": {},
   "source": [
    "decimal 是十进制的意思\n"
   ]
  },
  {
   "cell_type": "markdown",
   "id": "be49c956",
   "metadata": {},
   "source": []
  }
 ],
 "metadata": {
  "kernelspec": {
   "display_name": "Python 3.10.8 64-bit",
   "language": "python",
   "name": "python3"
  },
  "language_info": {
   "codemirror_mode": {
    "name": "ipython",
    "version": 3
   },
   "file_extension": ".py",
   "mimetype": "text/x-python",
   "name": "python",
   "nbconvert_exporter": "python",
   "pygments_lexer": "ipython3",
   "version": "3.10.8"
  },
  "vscode": {
   "interpreter": {
    "hash": "b0fa6594d8f4cbf19f97940f81e996739fb7646882a419484c72d19e05852a7e"
   }
  }
 },
 "nbformat": 4,
 "nbformat_minor": 5
}
