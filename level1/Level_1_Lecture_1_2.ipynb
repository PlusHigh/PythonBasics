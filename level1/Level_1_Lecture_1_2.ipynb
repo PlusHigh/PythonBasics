{
 "cells": [
  {
   "attachments": {},
   "cell_type": "markdown",
   "id": "da506d93",
   "metadata": {},
   "source": [
    "##  变量 Variable 和  对象 Object \n",
    "\n",
    "\n",
    "- 为了解决现实生活中的问题，我们需要将现实生活中的事物映射（转换、对应）为在计算机中的表示，在许多编程语言中，都给我们提供了这样的一个可以表示事物的抽象，这个抽象概念就叫做 \"变量\" 由基本的变量，组成了复杂的数据结构，而复杂的数据结构又可以组成更复杂的数据结构，对象就是这样的一种复杂的数据结构\n",
    "\n",
    "- 我们会随着学习的深入，不断地改变、更新我们对于某一个抽象概念的认知，而现在，我们可以先 \"浅薄\"的认为，变量就是一个可以存储数据的 \"盒子\"，而这个盒子的名字就是变量的名字\n",
    "\n",
    "- 但是盒子里面的东西和盒子的名字不是绑定的，变量的名字是一个标签，一个盒子可以有多个标签，而一个标签只能对应一个盒子，这么说有些绕，我们会在交换变量的时候，再来详细的讲解这个问题\n",
    "\n",
    "- 变量或者说标签的本质是什么？他的本质是盒子的地址或者说编号，而盒子的地址是一个数字，这个数字是一个内存地址或者在内存中的编号，我们可以通过这个内存地址或者编号来访问盒子里面的数据\n",
    "\n",
    "- 所以，变量和对象本质都是内存中的数据，变量只是一个标签，而对象是一个数据结构，这个数据结构包含了数据和一些操作数据的方法"
   ]
  },
  {
   "cell_type": "code",
   "execution_count": null,
   "id": "d600445d",
   "metadata": {},
   "outputs": [],
   "source": [
    "# 使用变量来存储数据 \n",
    "\n",
    "message = 'Hello world!'\n",
    "\n",
    "# 等号的右边是一个字符串，左边是一个变量名，将字符串赋值给变量\n",
    "# 在内存中有一个字符串对象，变量message指向这个对象\n",
    "\n",
    "# 使用变量名来访问变量的值\n",
    "print(message)\n",
    "\n",
    "# 因为变量名本质是地址，所以可以将变量名赋值给另一个变量，这样有两个变量指向同一个对象\n",
    "# 换句话说，一个盒子现在有两个名字，标签\n",
    "mes = message\n",
    "\n",
    "print(mes)\n",
    "\n",
    " "
   ]
  },
  {
   "attachments": {},
   "cell_type": "markdown",
   "id": "f5a1dc82",
   "metadata": {},
   "source": [
    "# 同样的符号在数学和python中的含义不同\n",
    "\n",
    "- = 在数学中是逻辑运算符，表示相等 \n",
    "\n",
    "- 在python中等号是赋值，完成值与标签的映射\n",
    "\n",
    "- 那我们要是想实现数学上是否相等这个概念呢？ 在python中判断相等用 2个等号 =="
   ]
  },
  {
   "cell_type": "code",
   "execution_count": 2,
   "id": "5120725a",
   "metadata": {},
   "outputs": [
    {
     "data": {
      "text/plain": [
       "True"
      ]
     },
     "execution_count": 2,
     "metadata": {},
     "output_type": "execute_result"
    }
   ],
   "source": [
    "# 判断1 + 2 是否等于 3\n",
    "1+2 == 3"
   ]
  },
  {
   "cell_type": "code",
   "execution_count": 3,
   "id": "fdcb2231",
   "metadata": {},
   "outputs": [
    {
     "name": "stdout",
     "output_type": "stream",
     "text": [
      "11\n"
     ]
    }
   ],
   "source": [
    "# 使用变量来存储数据 并计算\n",
    "a = 5 \n",
    "b = 6 \n",
    "print( a + b )"
   ]
  },
  {
   "cell_type": "code",
   "execution_count": 7,
   "id": "539de358",
   "metadata": {},
   "outputs": [
    {
     "data": {
      "text/plain": [
       "(1, [1, 2], {1: 'a'}, 'abc')"
      ]
     },
     "execution_count": 7,
     "metadata": {},
     "output_type": "execute_result"
    }
   ],
   "source": [
    "# python中的变量是弱类型的，可以存储任意类型的数据，其实存储的是对象的地址\n",
    "# 弱类型的含义是，变量名本身没有类型，只有变量指向的对象才有类型\n",
    "# 变量名本身只是一个地址，指向一个对象，这个对象有类型，变量名没有类型\n",
    "\n",
    "\n",
    "n = 1\n",
    "l = [1,2]\n",
    "d = {1:'a'}\n",
    "s = \"abc\"\n",
    "n,l,d,s"
   ]
  },
  {
   "attachments": {},
   "cell_type": "markdown",
   "id": "2e255905",
   "metadata": {},
   "source": [
    "### 变量和对象是不同的概念\n",
    "    变量是一个用于引用内存地址的标识符，可以指向存储数据对象的地址。对象是数据的实际存在，由属性和方法组成。\n",
    "\n",
    "### 变量的创建可以通过多种方式实现\n",
    "    变量的创建不仅仅是在第一次赋值时，也可以通过其他方法创建变量，如函数参数传递等。\n",
    "\n",
    "### 对象在内存中具有自己的地址，变量可以引用该对象，但并不等同于对象本身\n",
    "    在计算机内存中，每个对象都有自己的地址，在变量中引用该对象时，实际上是使用该对象的地址。变量可以引用一个对象，但它不是对象本身。"
   ]
  },
  {
   "attachments": {},
   "cell_type": "markdown",
   "id": "5563a6cd",
   "metadata": {},
   "source": [
    "### 命名规则\n",
    "- 变量的名字是我们自己定义的，但是我们也不能随便定义。\n",
    "- 变量名可以由字母、数字、下划线组成。\n",
    "- 变量名只能以字母或下划线开头，不能以数字开头。\n",
    "- 变量名不能包含空格。\n",
    "- 应避免使用Python关键字（保留字）或函数。\n",
    "- 变量名应简短且具有描述性。\n",
    "- 变量名区分大小写。\n",
    "- 对于多个单词的变量名，应使用下划线连接，且所有字母应为小写。\n",
    "- 根据以上规则，建议使用 seconds_per_minute 作为变量名，其中表示“每分钟的秒数”。"
   ]
  },
  {
   "attachments": {},
   "cell_type": "markdown",
   "id": "4bee7f33",
   "metadata": {},
   "source": [
    "> 当我们声明一个变量并为其分配内存空间时，我们可以使用变量名来访问它在内存中的值。\n",
    "\n",
    "> 例如，在Python中，我们可以这样声明两个不同的变量并为它们赋值：\n",
    "在这个例子中，我们使用了不同的变量名并为它们分配了不同的内存地址。因此，b 和 B 是两个不同的变量，它们可以保存不同的值。当我们在程序中使用它们时，Python会根据变量名来访问它们在内存中的地址，并检索它们保存的值。"
   ]
  },
  {
   "cell_type": "code",
   "execution_count": null,
   "id": "5f14bff6",
   "metadata": {},
   "outputs": [],
   "source": [
    "b = 128\n",
    "B = 129"
   ]
  },
  {
   "attachments": {},
   "cell_type": "markdown",
   "id": "a371cef5",
   "metadata": {},
   "source": [
    "### Python中保留字的释义:\n",
    "\n",
    "\n",
    "# 必须知道的保留字:\n",
    "- `and`：逻辑操作符 AND，用于组合条件语句。\n",
    "- `as`：用于别名定义，可以将模块或类名简写，提升代码的简洁性。\n",
    "- `def`：定义函数时使用。\n",
    "- `del`：删除一个变量或对象，释放内存空间。\n",
    "- `elif`：条件语句的一部分，用于判断第一个条件为 False，而执行下一条件语句。\n",
    "- `else`：条件语句的一部分，用于当所有条件都不满足时执行的语句块。\n",
    "- `False`：用于声明一个布尔类型变量，表示值为假。\n",
    "- `for`：循环语句的一种，用于遍历一个序列（字符串、列表或元组）或其他可迭代对象。\n",
    "- `from`：语句用于从模块中导入一个指定的部分到当前命名空间中。\n",
    "- `if`：条件语句的一部分，用于判断条件，如果条件成立，则执行 if 语句块中的代码。\n",
    "- `in`：用于判断指定的值是否存在于一个序列中，如果存在返回 True，否则返回 False。\n",
    "- `is`：用于判断两个对象是否为同一个对象。\n",
    "- `None`：表示对象不存在的值，类似于 C 语言中的 NULL 值。\n",
    "- `not`：逻辑操作符 NOT，用于翻转逻辑值。\n",
    "- `or`：逻辑操作符 OR，用于组合条件语句。\n",
    "- `True`：用于声明一个布尔类型变量，表示值为真。\n",
    "- `while`：循环语句中的一种，只要满足指定的条件，就会执行语句块。\n",
    "\n",
    " \n",
    "### 其余保留字:\n",
    "- `assert`：断言语句，用于测试条件是否为 True，如果为 False，就会引发异常。\n",
    "- `async`：用于声明异步函数。\n",
    "- `await`：用于阻塞等待异步任务的结果。\n",
    "- `break`：用于跳出当前循环。\n",
    "- `class`：用于定义一个类。\n",
    "- `continue`：用于跳出当前循环的当前迭代并继续下一个迭代。\n",
    "- `except`：异常处理语句中的一部分，表示捕获指定类型的异常。\n",
    "- `finally`：try...except...else 语句中的一部分，无论异常是否发生都会执行。\n",
    "- `global`：用于声明函数内全局变量。\n",
    "- `lambda`：用于声明匿名函数。\n",
    "- `nonlocal`：用于在函数内部声明一个外部嵌套函数中使用的变量。\n",
    "- `pass`：用于占位符的语句，表示什么都不做。\n",
    "- `raise`：用于抛出指定类型的异常。\n",
    "- `return`：用于函数中返回一个值。\n",
    "- `try`：异常处理语句，包含 try 语句块、except 语句块和 finally 语句块。\n",
    "- `with`：与上下文管理器一起使用，用于在代码块开始时获取资源，并在代码块结束时释放资源。\n",
    "- `yield`：用于生成器函数中，将结果返回给调用者，并在函数中暂停执行，直到调用者请求下一个结果。\n"
   ]
  },
  {
   "attachments": {},
   "cell_type": "markdown",
   "id": "5887ccdd",
   "metadata": {},
   "source": [
    "在 Python 中，我可以使用 `as` 关键字来给模块、变量、函数、类等起别名，从而简化代码，提高代码的可读性。\n",
    "\n",
    "例如，在我的代码中，我可以使用 `import` 语句导入 TensorFlow 模块，并将其指定的别名设置为 `tf`。这样，我可以在后续的代码中使用 `tf` 来代替 `tensorflow`。\n",
    "\n",
    "在我的代码中，如果我需要使用 TensorFlow 模块中的属性、方法或者类，可以在它们前面使用 `tf.` 这个前缀。使用别名可以让我的代码变得更加简洁易懂。以下是一个使用别名的例子：\n",
    "\n",
    "```python\n",
    "# 导入 TensorFlow 并指定别名\n",
    "import tensorflow as tf\n",
    "\n",
    "# 定义一个简单的计算图（Graph）\n",
    "a = tf.constant(2)\n",
    "b = tf.constant(3)\n",
    "c = tf.add(a, b)\n",
    "\n",
    "# 创建一个 Session\n",
    "with tf.Session() as sess:\n",
    "    # 运行计算图并打印结果\n",
    "    print(sess.run(c))\n"
   ]
  },
  {
   "cell_type": "code",
   "execution_count": 1,
   "id": "af9603f7",
   "metadata": {},
   "outputs": [
    {
     "name": "stdout",
     "output_type": "stream",
     "text": [
      "['False', 'None', 'True', 'and', 'as', 'assert', 'async', 'await', 'break', 'class', 'continue', 'def', 'del', 'elif', 'else', 'except', 'finally', 'for', 'from', 'global', 'if', 'import', 'in', 'is', 'lambda', 'nonlocal', 'not', 'or', 'pass', 'raise', 'return', 'try', 'while', 'with', 'yield']\n"
     ]
    }
   ],
   "source": [
    "import keyword\n",
    "print(keyword.kwlist)"
   ]
  },
  {
   "attachments": {},
   "cell_type": "markdown",
   "id": "2b25c189",
   "metadata": {},
   "source": [
    "这段代码的作用是打印出Python的关键字列表。关键字是Python中预定义的、具有特殊意义的单词，不能用作变量名或函数名等标识符。使用import keyword导入keyword模块后，调用kwlist属性可以返回Python中的所有关键字。print(keyword.kwlist)即将关键字列表打印输出。"
   ]
  },
  {
   "attachments": {},
   "cell_type": "markdown",
   "id": "c3029add",
   "metadata": {},
   "source": [
    "### int 函数介绍\n",
    "int()函数可以进行浮点数和整数之间的转换，并返回转换后的整数类型。但是，如果给int()函数传递一个包含小数点的字符串（如：‘12.1’），它将无法正确地转换字符串，并会触发ValueError异常。\n",
    "\n"
   ]
  },
  {
   "cell_type": "code",
   "execution_count": 1,
   "id": "d0892bde",
   "metadata": {},
   "outputs": [
    {
     "name": "stdout",
     "output_type": "stream",
     "text": [
      "12\n",
      "12\n",
      "123\n"
     ]
    }
   ],
   "source": [
    "a = int('12')\n",
    "b = int(12.1)\n",
    "c = str(123)\n",
    "\n",
    "print(a)  # 输出：12\n",
    "print(b)  # 输出：12\n",
    "print(c)  # 输出：'123'\n"
   ]
  },
  {
   "cell_type": "markdown",
   "id": "b18b6968",
   "metadata": {},
   "source": [
    "int 是 integer 的缩写，表示整数。"
   ]
  },
  {
   "cell_type": "markdown",
   "id": "5013fbf1",
   "metadata": {},
   "source": [
    "### 1. 练习说明：\n",
    "\n",
    "- 提示用户输入姓名、家乡和年龄，将结果储存在变量name、hometown和age中。\n",
    "- 将用户的输入组成一个字符串输出，并使用逗号分隔不同的变量。\n",
    "- 输出的字符串包含“大家好，我叫[姓名]，来自[家乡]，今年[年龄]岁了。”\n"
   ]
  },
  {
   "cell_type": "code",
   "execution_count": 3,
   "id": "85e971fb",
   "metadata": {},
   "outputs": [
    {
     "name": "stdout",
     "output_type": "stream",
     "text": [
      "大家好，我叫  来自 日照 今年 23 岁了。\n"
     ]
    }
   ],
   "source": [
    "# 2. 代码实现：\n",
    "\n",
    "name = input(\"我可以称呼你什么？\")\n",
    "hometown = input(\"你的家乡在哪里？\")\n",
    "age = input(\"你今年几岁了？\")\n",
    "\n",
    "print(\"大家好，我叫\", name, \"来自\", hometown, \"今年\",age, \"岁了。\")\n"
   ]
  },
  {
   "attachments": {},
   "cell_type": "markdown",
   "id": "fbf858da",
   "metadata": {},
   "source": [
    "### 折行符只有在terminal 终端环境中才有用，在jupyter、idle的脚本环境中不需要折行符。\n",
    "\n",
    " - 折行符（line continuations）是用于把代码分行书写时，让 Python 解析器将多行代码解析为一行的字符。在 Python 中，可以使用倒斜杠字符 \\ 来表示折行符。但是需要注意的是，这种方式通常只在 Terminal 终端环境中使用，而在 Jupyter Notebook、IDLE 或其他文本编辑器等脚本环境中是不必要的。\n",
    "\n",
    " - 在 Jupyter Notebook、IDLE 等脚本环境中，Python 的解析器会自动将分行的代码块合并成一行。因此，可以完全省略折行符，在代码书写时直接换行即可。但是，在 Terminal 终端环境中，必须使用折行符才能正确表示多行代码。这是因为 Terminal 终端环境中没有代码自动合并的功能。\n",
    "\n",
    " - 总之，折行符是为了让代码有更好的可读性而出现的，但在不同的环境中使用方式有所不同。在 Terminal 终端环境中使用折行符可以使代码更易读，而在 Jupyter Notebook、IDLE 或其他脚本环境中则可以省略折行符，但需要注意不应过度分行影响代码的可读性。"
   ]
  },
  {
   "cell_type": "markdown",
   "id": "385607af",
   "metadata": {},
   "source": [
    "decimal 是十进制的意思\n"
   ]
  },
  {
   "cell_type": "markdown",
   "id": "be49c956",
   "metadata": {},
   "source": []
  }
 ],
 "metadata": {
  "kernelspec": {
   "display_name": "Python 3.10.8 64-bit",
   "language": "python",
   "name": "python3"
  },
  "language_info": {
   "codemirror_mode": {
    "name": "ipython",
    "version": 3
   },
   "file_extension": ".py",
   "mimetype": "text/x-python",
   "name": "python",
   "nbconvert_exporter": "python",
   "pygments_lexer": "ipython3",
   "version": "3.9.10"
  },
  "vscode": {
   "interpreter": {
    "hash": "b0fa6594d8f4cbf19f97940f81e996739fb7646882a419484c72d19e05852a7e"
   }
  }
 },
 "nbformat": 4,
 "nbformat_minor": 5
}
