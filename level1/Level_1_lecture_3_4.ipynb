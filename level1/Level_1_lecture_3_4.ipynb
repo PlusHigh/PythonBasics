{
 "cells": [
  {
   "cell_type": "markdown",
   "id": "de61be5a",
   "metadata": {},
   "source": [
    "# print函数\n",
    "\n",
    "在数学上也有一个函数的概念，数学上的函数比如y=x+1，就是将一个未知的变量通过一定的运算返回一个值。或者说是将一系列的复杂的操作或者连续的指令打包。\n",
    "\n",
    "联系一下去餐厅吃饭，你只需要点菜（给厨师发出指令），厨师就会给我们做出美味佳肴，而我们不需要知道这个菜是怎么做出来的。\n",
    "\n",
    "要打印一句话在屏幕上其实要很多复杂的操作，但是你只需要发一行指令，这是因为写python的的那个人已经把这些东西都给你封装好了，你只需要调用函数就可以了。\n",
    "\n",
    "<b>调用的标志是函数名加上一个括号（）。</b>\n",
    "\n",
    "call"
   ]
  },
  {
   "cell_type": "code",
   "execution_count": 1,
   "id": "7f3a5e08",
   "metadata": {},
   "outputs": [
    {
     "data": {
      "text/plain": [
       "<function print>"
      ]
     },
     "execution_count": 1,
     "metadata": {},
     "output_type": "execute_result"
    }
   ],
   "source": [
    "print"
   ]
  },
  {
   "cell_type": "markdown",
   "id": "b05b3075",
   "metadata": {},
   "source": [
    "### 函数的分类：\n",
    "- 内置函数： int()、float()等python自带的函数。\n",
    "- 自定义函数： 编程者自己设计的函数，先定义后调用。\n",
    "\n",
    "\n",
    "### 参数\n",
    "\n",
    "函数括号里面的内容称之为参数，参数就好比你点菜时告诉厨师的菜名，你点不同的菜，厨师就做不同的菜。\n"
   ]
  },
  {
   "cell_type": "code",
   "execution_count": 4,
   "id": "f2b18eec",
   "metadata": {},
   "outputs": [
    {
     "name": "stdout",
     "output_type": "stream",
     "text": [
      "hello，world！\n",
      "hello,2022!\n"
     ]
    }
   ],
   "source": [
    "\n",
    "print(\"hello，world！\")\n",
    "print(\"hello,2022!\")"
   ]
  },
  {
   "cell_type": "markdown",
   "id": "60d669be",
   "metadata": {},
   "source": [
    "不仅可以打印文本，还可以打印数字，如果你不向其传递参数，他就什么都不打印，然后得到一个空行。"
   ]
  },
  {
   "cell_type": "code",
   "execution_count": 2,
   "id": "2d204499",
   "metadata": {
    "scrolled": true
   },
   "outputs": [
    {
     "name": "stdout",
     "output_type": "stream",
     "text": [
      ","
     ]
    }
   ],
   "source": [
    "print(end = '\\n')"
   ]
  },
  {
   "cell_type": "markdown",
   "id": "01f723d6",
   "metadata": {},
   "source": [
    "## 字符串和数字\n",
    "\n",
    "用引号扩起来的内容称之为字符串，具有文本含义。print(2022)中2022是数字能够进行数学运算。"
   ]
  },
  {
   "cell_type": "code",
   "execution_count": 5,
   "id": "2d688b12",
   "metadata": {},
   "outputs": [
    {
     "name": "stdout",
     "output_type": "stream",
     "text": [
      "2022\n",
      "2022\n"
     ]
    }
   ],
   "source": [
    "print('2022')\n",
    "print(2022)"
   ]
  },
  {
   "cell_type": "code",
   "execution_count": 41,
   "id": "fdb5dff6",
   "metadata": {},
   "outputs": [
    {
     "data": {
      "text/plain": [
       "'8990'"
      ]
     },
     "execution_count": 41,
     "metadata": {},
     "output_type": "execute_result"
    }
   ],
   "source": [
    "'89' + '90'"
   ]
  },
  {
   "cell_type": "code",
   "execution_count": 7,
   "id": "5b3a2872",
   "metadata": {},
   "outputs": [
    {
     "data": {
      "text/plain": [
       "2022"
      ]
     },
     "execution_count": 7,
     "metadata": {},
     "output_type": "execute_result"
    }
   ],
   "source": [
    "2022"
   ]
  },
  {
   "cell_type": "markdown",
   "id": "d4ad614e",
   "metadata": {},
   "source": [
    "如果不打印直接输出可以检查其类型。"
   ]
  },
  {
   "cell_type": "markdown",
   "id": "6e95ce24",
   "metadata": {},
   "source": [
    "我们要将同学们的成绩保存在电脑中，成绩是数字，而姓名是文字，需要不同的数据类型去保存。\n",
    "\n",
    "为什么?\n",
    "\n",
    "\n",
    "因为成绩相加可以得到总成绩(相加是有意义的)，而名字相加是无意义的。所以，成绩和姓名用同一种数据结构就不合适了。\n",
    "还有很多数据结构我们将在以后学习到。\n",
    "\n",
    "数据结构：存储数据的介质\n",
    "\n",
    "\n",
    "数据类型: int str\n",
    "\n",
    "integer string\n",
    "\n",
    "\n",
    "int 类型的数据是 = 右边就是一个单纯的数字(可以是带小数点的数字float)\n",
    "123.12\n",
    "\n",
    "0.12312 x 1000\n",
    "\n",
    "str 类型的数据是 = 右边 一对单引号或者双引号 内的内容 \n",
    "\n",
    "在程序中，我们不只使用数字，所以，str类型的数据是必要的"
   ]
  },
  {
   "cell_type": "code",
   "execution_count": 10,
   "id": "302e9d29",
   "metadata": {},
   "outputs": [
    {
     "name": "stdout",
     "output_type": "stream",
     "text": [
      "1 的数据类型是 <class 'int'>\n",
      "小博士 的数据类型是 <class 'str'>\n"
     ]
    }
   ],
   "source": [
    "n= 1\n",
    "print(n, '的数据类型是', type(n))\n",
    "s = '小博士'\n",
    "print(s, '的数据类型是', type(s))"
   ]
  },
  {
   "cell_type": "markdown",
   "id": "ea76ec0a",
   "metadata": {},
   "source": [
    "type()函数(子程序)，返回对象的数据类型 \n",
    "\n",
    "\n",
    "print()函数(子程序)，将内容输出到屏幕上 \n",
    "\n",
    "\n",
    "print()函数可以输出多项内容，各项内容之间用,隔开即可"
   ]
  },
  {
   "cell_type": "markdown",
   "id": "6d6f9f7d",
   "metadata": {},
   "source": [
    "# 四大基本运算（让计算机计算起来）\n"
   ]
  },
  {
   "cell_type": "code",
   "execution_count": 13,
   "id": "87ddde61",
   "metadata": {},
   "outputs": [
    {
     "data": {
      "text/plain": [
       "5"
      ]
     },
     "execution_count": 13,
     "metadata": {},
     "output_type": "execute_result"
    }
   ],
   "source": [
    "2 + 3"
   ]
  },
  {
   "cell_type": "markdown",
   "id": "4ac525a9",
   "metadata": {},
   "source": [
    "- 算术表达式\n",
    "由operand操作数和operator操作符组成\n",
    "\n",
    "表达式的值就是表达式的结果\n",
    "\n",
    "四大基本运算跟学过的跟数学课上学过的是一样的，但是没有“✖️”和“➗”这两个符号\n"
   ]
  },
  {
   "cell_type": "code",
   "execution_count": 14,
   "id": "661e8c50",
   "metadata": {},
   "outputs": [
    {
     "data": {
      "text/plain": [
       "4.0"
      ]
     },
     "execution_count": 14,
     "metadata": {},
     "output_type": "execute_result"
    }
   ],
   "source": [
    "2*10/5"
   ]
  },
  {
   "cell_type": "markdown",
   "id": "09855641",
   "metadata": {},
   "source": [
    "### 实验探究\n",
    "\n",
    "数学中是有优先级的，那么python中是否也有优先级呢？\n"
   ]
  },
  {
   "cell_type": "code",
   "execution_count": 43,
   "id": "4d715ba2",
   "metadata": {},
   "outputs": [
    {
     "data": {
      "text/plain": [
       "1.5"
      ]
     },
     "execution_count": 43,
     "metadata": {},
     "output_type": "execute_result"
    }
   ],
   "source": [
    "(8-5)/2"
   ]
  },
  {
   "cell_type": "markdown",
   "id": "e861f335",
   "metadata": {},
   "source": [
    "我们可以根据表达式的值逆推python是否有优先级\n",
    "\n",
    "### 练习"
   ]
  },
  {
   "cell_type": "markdown",
   "id": "f25b8bbd",
   "metadata": {},
   "source": [
    "* 1.妈妈给你50元，让你买鸡蛋，卖鸡蛋的奶奶告诉你，她家的鸡蛋10元一袋，一袋15枚，不单卖，请用python计算，最多可以买多少鸡蛋?"
   ]
  },
  {
   "cell_type": "code",
   "execution_count": null,
   "id": "40d24acd",
   "metadata": {},
   "outputs": [],
   "source": []
  },
  {
   "cell_type": "markdown",
   "id": "0e350ac9",
   "metadata": {},
   "source": [
    "* 2.一个月后，鸡蛋吃完了，妈妈又给你50元，让你去买鸡蛋，卖鸡蛋的奶奶这次告诉你， 现在她家卖的是自己养的土鸡蛋，要贵一点，20元一袋，一袋15枚，不单卖，请用 python计算，最多可以买多少鸡蛋?"
   ]
  },
  {
   "cell_type": "code",
   "execution_count": null,
   "id": "fc37a5de",
   "metadata": {},
   "outputs": [],
   "source": []
  },
  {
   "cell_type": "markdown",
   "id": "7f3eda5a",
   "metadata": {},
   "source": [
    "结果是个小数，你也知道奶奶不会卖给你半枚鸡蛋，这个数字肯定不对，问题出在哪儿? 怎么解决?\n",
    "\n",
    "你要的是个整数，但是它给你一个有小数点的数，那你就要把它转换为整数"
   ]
  },
  {
   "cell_type": "code",
   "execution_count": 45,
   "id": "b92b8e7b",
   "metadata": {},
   "outputs": [
    {
     "data": {
      "text/plain": [
       "2"
      ]
     },
     "execution_count": 45,
     "metadata": {},
     "output_type": "execute_result"
    }
   ],
   "source": [
    "int(2.9) "
   ]
  },
  {
   "cell_type": "markdown",
   "id": "3725a624",
   "metadata": {},
   "source": [
    "如果转换为浮点数？"
   ]
  },
  {
   "cell_type": "code",
   "execution_count": 3,
   "id": "c9931194",
   "metadata": {},
   "outputs": [
    {
     "data": {
      "text/plain": [
       "2"
      ]
     },
     "execution_count": 3,
     "metadata": {},
     "output_type": "execute_result"
    }
   ],
   "source": [
    "1 << 1\n"
   ]
  },
  {
   "cell_type": "markdown",
   "id": "712c4212",
   "metadata": {},
   "source": [
    "刚才卖鸡蛋，因为得到了小数，着实折腾了我们一番，现在介绍一个python的“整除”运算 符 // ， 用 整除”运算符 再算一遍"
   ]
  },
  {
   "cell_type": "code",
   "execution_count": null,
   "id": "f75328d1",
   "metadata": {},
   "outputs": [],
   "source": []
  },
  {
   "cell_type": "markdown",
   "id": "7a8bc211",
   "metadata": {},
   "source": [
    "还有“取余数”运算符\"%\"，他可以直接计算出两数相除的余数，用它我们直接计算出买鸡蛋后剩余的钱，算一算我们还剩下多钱?"
   ]
  },
  {
   "cell_type": "code",
   "execution_count": null,
   "id": "c4508000",
   "metadata": {},
   "outputs": [],
   "source": []
  },
  {
   "cell_type": "markdown",
   "id": "68334e1b",
   "metadata": {},
   "source": [
    "第三次买鸡蛋，50元 ， 20元15枚，但是可以单买，单买1.5一个，问能买多少个?提示：对商和余数分别计算"
   ]
  },
  {
   "cell_type": "markdown",
   "id": "9af939dd",
   "metadata": {},
   "source": [
    "### 数字和字符串不能相互运算\n"
   ]
  },
  {
   "cell_type": "markdown",
   "id": "2ed2bdc8",
   "metadata": {},
   "source": [
    " integer \n",
    " \n",
    " 数字，字符串属不同物种，不能相互运算，例如 数字4和字符串“123”不能相加， 但事情总是有转机的"
   ]
  },
  {
   "cell_type": "code",
   "execution_count": 16,
   "id": "26c0a570",
   "metadata": {},
   "outputs": [
    {
     "data": {
      "text/plain": [
       "(492, 10.0)"
      ]
     },
     "execution_count": 16,
     "metadata": {},
     "output_type": "execute_result"
    }
   ],
   "source": [
    "4*int(123),4*float(2.5)"
   ]
  },
  {
   "cell_type": "markdown",
   "id": "5fd9442e",
   "metadata": {},
   "source": [
    "字符串长得不像数字就不能转换\n",
    "\n",
    "string literal字符串 字面量"
   ]
  },
  {
   "cell_type": "code",
   "execution_count": 84,
   "id": "ee16aafc",
   "metadata": {},
   "outputs": [
    {
     "data": {
      "text/plain": [
       "(12.1, 12)"
      ]
     },
     "execution_count": 84,
     "metadata": {},
     "output_type": "execute_result"
    }
   ],
   "source": [
    "float('12.1'),int('12')"
   ]
  },
  {
   "cell_type": "markdown",
   "id": "e0a87588",
   "metadata": {},
   "source": [
    "那么如果将数字转换为字符串类型？\n",
    "\n",
    "在java和c++中是可以直接进行转换的，但是python不行。"
   ]
  },
  {
   "cell_type": "code",
   "execution_count": 50,
   "id": "27819cbb",
   "metadata": {},
   "outputs": [
    {
     "name": "stdout",
     "output_type": "stream",
     "text": [
      "He is 22years old!\n"
     ]
    }
   ],
   "source": [
    "print('He is '+ str(22) +'years old!')"
   ]
  },
  {
   "cell_type": "markdown",
   "id": "ad3c1c1f",
   "metadata": {},
   "source": [
    "### 住在街上的字符串\n",
    "数字的本领是进行数学运算，字符串就像是一条街，这条街的名字就是字符串的名字，字符串中的每一个字符都挨个住在这条街上\n",
    "\n",
    "\n",
    "字符串的访问\n"
   ]
  },
  {
   "cell_type": "code",
   "execution_count": 5,
   "id": "50b17b6b",
   "metadata": {},
   "outputs": [
    {
     "name": "stdout",
     "output_type": "stream",
     "text": [
      "5\n"
     ]
    },
    {
     "data": {
      "text/plain": [
       "'l'"
      ]
     },
     "execution_count": 5,
     "metadata": {},
     "output_type": "execute_result"
    }
   ],
   "source": [
    "s = \"Hello\"\n",
    "print(len(s))\n",
    "\n",
    "s[-1]"
   ]
  },
  {
   "cell_type": "markdown",
   "id": "a30c12b5",
   "metadata": {},
   "source": [
    "### 字符串的创建\n",
    "单引号或者双引号，三引号用于多行的字符串"
   ]
  },
  {
   "cell_type": "code",
   "execution_count": 54,
   "id": "053f2fc3",
   "metadata": {},
   "outputs": [
    {
     "name": "stdout",
     "output_type": "stream",
     "text": [
      "Hello\n",
      "Hello\n",
      "Hello\n"
     ]
    }
   ],
   "source": [
    "print(\"Hello\")\n",
    "print('Hello')\n",
    "print('Hello')"
   ]
  },
  {
   "cell_type": "code",
   "execution_count": 22,
   "id": "491d693d",
   "metadata": {},
   "outputs": [
    {
     "name": "stdout",
     "output_type": "stream",
     "text": [
      "我是可以换行的字符串\n",
      "我是可以换行的字符串\n",
      "我是可以换行的字符串我是可以换行的字符串\n",
      "我是可以换行的字符串\n"
     ]
    }
   ],
   "source": [
    "print('''我是可以换行的字符串\n",
    "我是可以换行的字符串\n",
    "我是可以换行的字符串我是可以换行的字符串\n",
    "我是可以换行的字符串''')\n",
    "\n"
   ]
  },
  {
   "cell_type": "markdown",
   "id": "4ac76e94",
   "metadata": {},
   "source": [
    "### 如何表示换行？\n",
    "换行是一个行为，不能说我们的代码执行到了指定的位置了我们再去点一下换行，这个时候我们要用转义字符“\\”表示\n",
    "\n",
    "\\n line feed\n",
    "\\r return carriage\n"
   ]
  },
  {
   "cell_type": "code",
   "execution_count": 23,
   "id": "edfb83ff",
   "metadata": {},
   "outputs": [
    {
     "name": "stdout",
     "output_type": "stream",
     "text": [
      "Hello\n",
      ",world!\n"
     ]
    }
   ],
   "source": [
    "print(\"Hello\\n,world!\")"
   ]
  },
  {
   "cell_type": "markdown",
   "id": "e28ba449",
   "metadata": {},
   "source": [
    "事实上print()函数自动换行，我们也可以设置它不自动换行，需要向其传递一个参数end"
   ]
  },
  {
   "cell_type": "code",
   "execution_count": 56,
   "id": "0d6572f8",
   "metadata": {},
   "outputs": [
    {
     "name": "stdout",
     "output_type": "stream",
     "text": [
      "我是不换行输出\n",
      "我是以空格结尾输出 我是以逗号结尾输出，我是以句号结尾输出。"
     ]
    }
   ],
   "source": [
    "print('我是不换行输出', end='\\n') \n",
    "print('我是以空格结尾输出', end=' ') \n",
    "print('我是以逗号结尾输出', end='，') \n",
    "print('我是以句号结尾输出', end='。')"
   ]
  },
  {
   "cell_type": "markdown",
   "id": "f5b14c7c",
   "metadata": {},
   "source": [
    "一些特殊字符，\\t,\\r\n",
    "windows \\r\\n"
   ]
  },
  {
   "cell_type": "code",
   "execution_count": 88,
   "id": "8fbcd378",
   "metadata": {},
   "outputs": [
    {
     "name": "stdout",
     "output_type": "stream",
     "text": [
      "HelloHello\r\n",
      ",world!\n"
     ]
    }
   ],
   "source": [
    "    print(\"HelloHello\\r,world!\")"
   ]
  },
  {
   "cell_type": "markdown",
   "id": "a44717c7",
   "metadata": {},
   "source": [
    "\\n会被识别为换行，那么我就想打印出来\\n怎么办？\n",
    "\n",
    "既然\\n能够让n产生魔力，那么也可以让他失去魔力。"
   ]
  },
  {
   "cell_type": "code",
   "execution_count": 27,
   "id": "2a3901e4",
   "metadata": {},
   "outputs": [
    {
     "name": "stdout",
     "output_type": "stream",
     "text": [
      "\\n\n"
     ]
    }
   ],
   "source": [
    "print(\"\\\\n\")"
   ]
  },
  {
   "cell_type": "code",
   "execution_count": 60,
   "id": "4da042ad",
   "metadata": {},
   "outputs": [
    {
     "name": "stdout",
     "output_type": "stream",
     "text": [
      "e:\\software\\notepad++.exe\n"
     ]
    }
   ],
   "source": [
    "print(r\"e:\\software\\notepad++.exe\")"
   ]
  },
  {
   "cell_type": "markdown",
   "id": "973cb760",
   "metadata": {},
   "source": [
    "### 对于字符串的“*”和“+”运算"
   ]
  },
  {
   "cell_type": "code",
   "execution_count": 61,
   "id": "92f3fb48",
   "metadata": {},
   "outputs": [
    {
     "name": "stdout",
     "output_type": "stream",
     "text": [
      "abcabcabc\n"
     ]
    }
   ],
   "source": [
    "print('abc'*3)"
   ]
  },
  {
   "cell_type": "code",
   "execution_count": 62,
   "id": "f58ccb6c",
   "metadata": {},
   "outputs": [
    {
     "name": "stdout",
     "output_type": "stream",
     "text": [
      "hello\tworld!\n"
     ]
    }
   ],
   "source": [
    "print('hello'+'\\tworld!')"
   ]
  },
  {
   "cell_type": "markdown",
   "id": "8273e116",
   "metadata": {},
   "source": [
    "### 字符串的方法\n",
    "\n",
    "通过成员访问符进行访问，‘.’\n"
   ]
  },
  {
   "cell_type": "code",
   "execution_count": 36,
   "id": "c239680f",
   "metadata": {},
   "outputs": [
    {
     "data": {
      "text/plain": [
       "'HELLO,WORLD'"
      ]
     },
     "execution_count": 36,
     "metadata": {},
     "output_type": "execute_result"
    }
   ],
   "source": [
    "\"Hello,world\".upper()"
   ]
  },
  {
   "cell_type": "code",
   "execution_count": 37,
   "id": "239a4b4d",
   "metadata": {},
   "outputs": [
    {
     "data": {
      "text/plain": [
       "'hello,world'"
      ]
     },
     "execution_count": 37,
     "metadata": {},
     "output_type": "execute_result"
    }
   ],
   "source": [
    "\"Hello,world\".lower()"
   ]
  },
  {
   "cell_type": "markdown",
   "id": "61e4335a",
   "metadata": {},
   "source": [
    "所有的信息都会被计算机编码，对每一个字符，都会有一个内部的数字的表示"
   ]
  },
  {
   "cell_type": "markdown",
   "id": "f50dc23b",
   "metadata": {},
   "source": [
    "# 关于python的一些介绍 \n",
    "\n",
    "\n",
    "python 是一种高级语言\n",
    "\n",
    "\n",
    "机器(计算机)只认识0 1 (机器语言/低级语言)，电子器件有两种状态，通电 or 断电 最早的程序员就是使用机器语言，将0 1 编程代码打在纸带上，0 不打孔，1打孔，然后将纸带送去计算机，计算机才能运算。\n",
    "\n",
    "300年之后，当程序员们还忙着打孔， 一个叫约翰-巴克斯的人在位导弹弹道计算编写程序 是，开始琢磨怎么才能让编程变得简单点。于是第一个高级语言就诞生了。\n",
    "\n",
    "高级语言是我们能够理解的语言，比如 print(), (print是英语打印的意思) 解释器把高级语言解释成机器可以理解的机器语言(二进制 0 1 )\n",
    "\n",
    "python解释器\n",
    "\n",
    "\n",
    "小小翻译官\n",
    "\n",
    "\n",
    "高级语言让程序 从“打孔员”中解放出来\n",
    "\n",
    "“万物皆对象”是python 语言以及所有面向对象的程序设计语言的设计哲学 什么是对象\n",
    "\n",
    "Object-oriented programming\n",
    "\n",
    "什么是类\n",
    "\n",
    "\n",
    "数字，字符串\n",
    "\n",
    "\n",
    "万物皆对象\n",
    "\n",
    "\n",
    "用类对象创建一个草原"
   ]
  },
  {
   "cell_type": "code",
   "execution_count": 64,
   "id": "6693fbc0",
   "metadata": {},
   "outputs": [
    {
     "data": {
      "text/plain": [
       "'hello'"
      ]
     },
     "execution_count": 64,
     "metadata": {},
     "output_type": "execute_result"
    }
   ],
   "source": [
    "\"hello\""
   ]
  },
  {
   "cell_type": "code",
   "execution_count": 6,
   "id": "9ffb91c1",
   "metadata": {},
   "outputs": [
    {
     "name": "stdout",
     "output_type": "stream",
     "text": [
      "100\n"
     ]
    }
   ],
   "source": [
    "print(10**2)"
   ]
  },
  {
   "cell_type": "code",
   "execution_count": 71,
   "id": "561f198c",
   "metadata": {},
   "outputs": [
    {
     "data": {
      "text/plain": [
       "13"
      ]
     },
     "execution_count": 71,
     "metadata": {},
     "output_type": "execute_result"
    }
   ],
   "source": [
    "int(8.5)+5"
   ]
  },
  {
   "cell_type": "code",
   "execution_count": null,
   "id": "640edb0d",
   "metadata": {},
   "outputs": [],
   "source": []
  }
 ],
 "metadata": {
  "kernelspec": {
   "display_name": "Python 3.10.8 64-bit",
   "language": "python",
   "name": "python3"
  },
  "language_info": {
   "codemirror_mode": {
    "name": "ipython",
    "version": 3
   },
   "file_extension": ".py",
   "mimetype": "text/x-python",
   "name": "python",
   "nbconvert_exporter": "python",
   "pygments_lexer": "ipython3",
   "version": "3.10.8"
  },
  "vscode": {
   "interpreter": {
    "hash": "b0fa6594d8f4cbf19f97940f81e996739fb7646882a419484c72d19e05852a7e"
   }
  }
 },
 "nbformat": 4,
 "nbformat_minor": 5
}
