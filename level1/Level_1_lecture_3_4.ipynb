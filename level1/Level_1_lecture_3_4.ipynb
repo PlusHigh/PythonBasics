{
 "cells": [
  {
   "attachments": {},
   "cell_type": "markdown",
   "id": "de61be5a",
   "metadata": {},
   "source": [
    "# print函数\n",
    "\n",
    "数学上的函数定义为将一个未知的变量通过一定的运算返回一个值。Python中的函数则是对一系列的复杂操作或连续指令进行封装，用户无需了解这些具体细节，仅需通过函数进行调用即可实现其功能。\n",
    "\n",
    "类比在餐厅用餐，用户只需点菜（发出指令），便能从厨师手中品尝到一道美味佳肴，而不必了解这道菜的具体制作过程。\n",
    "\n",
    "在Python中，要将一句话打印在屏幕上需要进行许多复杂的操作，但是使用print函数能够简单地实现该功能，这是因为Python的设计者已经将功能封装在print函数中。用户只需要调用函数名，即print()，便可完成打印任务。\n",
    "\n",
    "<b>在Python中，调用函数使用函数名加上一个括号（）进行标志。</b>\n",
    "\n",
    "🌟隐藏学习内容：函数的名字其实是指针，指向函数的内存地址。函数名后面的括号表示调用函数，括号中的参数是传递给函数的参数。也就是说，括号() 其实是运算符。\n",
    "\n",
    "🌟 函数的地位本质上是与其他的数据类型的地位是相同的，为什么相同这件事是因为冯诺依曼体系结构规定，数据和指令具有相同的地位，都是存储在内存中的，都是通过地址来访问的。"
   ]
  },
  {
   "cell_type": "code",
   "execution_count": 2,
   "id": "7f3a5e08",
   "metadata": {},
   "outputs": [
    {
     "name": "stdout",
     "output_type": "stream",
     "text": [
      "Help on built-in function print in module builtins:\n",
      "\n",
      "print(...)\n",
      "    print(value, ..., sep=' ', end='\\n', file=sys.stdout, flush=False)\n",
      "    \n",
      "    Prints the values to a stream, or to sys.stdout by default.\n",
      "    Optional keyword arguments:\n",
      "    file:  a file-like object (stream); defaults to the current sys.stdout.\n",
      "    sep:   string inserted between values, default a space.\n",
      "    end:   string appended after the last value, default a newline.\n",
      "    flush: whether to forcibly flush the stream.\n",
      "\n"
     ]
    }
   ],
   "source": [
    "# 打印出print()函数的帮助文档 help函数是python内置的函数，用于打印出函数的帮助文档\n",
    "help(print)"
   ]
  },
  {
   "attachments": {},
   "cell_type": "markdown",
   "id": "b05b3075",
   "metadata": {},
   "source": [
    "### 函数的分类\n",
    "- 内置函数： int()、float()等python自带的函数。\n",
    "- 自定义函数： 编程者自己设计的函数，先定义后调用。\n",
    "\n",
    "\n",
    "### 参数\n",
    "\n",
    "- 函数括号里面的内容称之为参数，参数就好比你点菜时告诉厨师的菜名，你点不同的菜，厨师就做不同的菜。\n"
   ]
  },
  {
   "cell_type": "code",
   "execution_count": 4,
   "id": "f2b18eec",
   "metadata": {},
   "outputs": [
    {
     "name": "stdout",
     "output_type": "stream",
     "text": [
      "hello，world！\n",
      "hello,2022!\n"
     ]
    }
   ],
   "source": [
    "\n",
    "print(\"hello，world！\")\n",
    "print(\"hello,2022!\")"
   ]
  },
  {
   "attachments": {},
   "cell_type": "markdown",
   "id": "60d669be",
   "metadata": {},
   "source": [
    "不仅可以打印文本，还可以打印数字，如果你不向其传递参数，他就什么都不打印，然后得到一个空行。\n",
    "\n",
    "当然你也可以指定它的某些参数来改变它的行为，例如end参数，它的默认值是换行符，如果你想要在打印后不换行，可以将end参数的值改为一个空字符串。"
   ]
  },
  {
   "cell_type": "code",
   "execution_count": 2,
   "id": "2d204499",
   "metadata": {
    "scrolled": true
   },
   "outputs": [
    {
     "name": "stdout",
     "output_type": "stream",
     "text": [
      ","
     ]
    }
   ],
   "source": [
    "print(end = '\\n')"
   ]
  },
  {
   "cell_type": "markdown",
   "id": "01f723d6",
   "metadata": {},
   "source": [
    "## 字符串和数字\n",
    "\n",
    "用引号扩起来的内容称之为字符串，具有文本含义。print(2022)中2022是数字能够进行数学运算。"
   ]
  },
  {
   "cell_type": "code",
   "execution_count": 5,
   "id": "2d688b12",
   "metadata": {},
   "outputs": [
    {
     "name": "stdout",
     "output_type": "stream",
     "text": [
      "2022\n",
      "2022\n"
     ]
    }
   ],
   "source": [
    "# 这里打印出来的是2022，而不是'2022'\n",
    "print('2022')\n",
    "print(2022)"
   ]
  },
  {
   "cell_type": "code",
   "execution_count": 41,
   "id": "fdb5dff6",
   "metadata": {},
   "outputs": [
    {
     "data": {
      "text/plain": [
       "'8990'"
      ]
     },
     "execution_count": 41,
     "metadata": {},
     "output_type": "execute_result"
    }
   ],
   "source": [
    "# 加号运算符在python中有两种含义，一种是数学运算，一种是字符串拼接，这里是字符串拼接\n",
    "'89' + '90'"
   ]
  },
  {
   "cell_type": "code",
   "execution_count": 6,
   "id": "5b3a2872",
   "metadata": {},
   "outputs": [
    {
     "data": {
      "text/plain": [
       "('2022', 2022)"
      ]
     },
     "execution_count": 6,
     "metadata": {},
     "output_type": "execute_result"
    }
   ],
   "source": [
    "# 如果不打印直接输出可以检查其类型。 可以看到第一个是字符串，第二个是整数\n",
    "'2022',2022"
   ]
  },
  {
   "attachments": {},
   "cell_type": "markdown",
   "id": "6e95ce24",
   "metadata": {},
   "source": [
    "# 数据类型和数据结构\n",
    "在计算机程序中，我们需要将不同类型的数据进行存储和处理。例如，我们要将同学们的成绩保存在电脑中，成绩是数字，而姓名是文字，需要不同的数据类型去保存。\n",
    "## 为什么需要不同的数据类型\n",
    "因为成绩相加可以得到总成绩，而名字相加是无意义的。所以，成绩和姓名用同一种数据结构就不合适了。\n",
    "在计算机科学中，数据类型是指一组数据值和定义在这组数据值上的一组操作的总称，而数据结构是指数据对象中数据元素之间的关系。数据类型是数据结构的抽象，数据结构是数据类型的具体实现。\n",
    "## 常见的数据类型\n",
    "常见的数据类型包括整型、浮点型、布尔型、字符型等。\n",
    "### 整型数据\n",
    "整型数据是等于右边的一个单纯数字，可以是带小数点的浮点型数据。例如：123.12、0.12312 x 1000。\n",
    "### 字符型数据\n",
    "字符型数据是等于右边一对单引号或者双引号内的内容。在程序中，我们不只使用数字，所以字符型数据是必要的。\n",
    "还有很多数据结构我们将在以后学习到。数据结构是存储数据的介质，数据类型是数据的种类。加深对数据类型和数据结构的理解，对我们编程有很大的帮助。"
   ]
  },
  {
   "cell_type": "code",
   "execution_count": 7,
   "id": "302e9d29",
   "metadata": {},
   "outputs": [
    {
     "name": "stdout",
     "output_type": "stream",
     "text": [
      "1 的数据类型是 <class 'int'>\n",
      "小博士 的数据类型是 <class 'str'>\n"
     ]
    }
   ],
   "source": [
    "# explain what the code does\n",
    "# 用type函数可以检查变量的数据类型\n",
    "# 这里的n是变量，1是变量的值，type(n)是函数，用于检查变量的数据类型\n",
    "n= 1\n",
    "print(n, '的数据类型是', type(n))\n",
    "# 而这里的s是变量，'小博士'是变量的值，type(s)是函数，用于检查变量的数据类型\n",
    "s = '小博士'\n",
    "print(s, '的数据类型是', type(s))"
   ]
  },
  {
   "attachments": {},
   "cell_type": "markdown",
   "id": "ea76ec0a",
   "metadata": {},
   "source": [
    "type()函数，返回对象的数据类型 \n",
    "\n",
    "\n",
    "print()函数，将内容输出到屏幕上 \n",
    "\n",
    "\n",
    "print()函数可以输出多项内容，各项内容之间用,隔开即可"
   ]
  },
  {
   "attachments": {},
   "cell_type": "markdown",
   "id": "6d6f9f7d",
   "metadata": {},
   "source": [
    "# Python的数学运算\n"
   ]
  },
  {
   "cell_type": "code",
   "execution_count": 9,
   "id": "87ddde61",
   "metadata": {},
   "outputs": [
    {
     "data": {
      "text/plain": [
       "(5, -1, 6, 0.6666666666666666)"
      ]
     },
     "execution_count": 9,
     "metadata": {},
     "output_type": "execute_result"
    }
   ],
   "source": [
    "2 + 3,2 - 3,2 * 3 ,2 / 3"
   ]
  },
  {
   "attachments": {},
   "cell_type": "markdown",
   "id": "4ac525a9",
   "metadata": {},
   "source": [
    "# 算术表达式\n",
    "- 算术表达式由操作数(operand)和操作符(operator)组成。\n",
    "- 表达式的值就是表达式的结果。\n",
    "- 常见的操作符包括四大基本运算(加法、减法、乘法、除法)，分别用“+”、“-”、“×”、“÷”表示。\n",
    "- 但是在计算机中，没有“×”和“÷”这两个符号，而是使用“*”和“/”来代替。\n",
    "- 例如，2+3-4*5/6的计算顺序是：4*5=20，20/6=3.33(保留两位小数)，2+3=5，5-3.33=1.67。\n",
    "- 加深对算术表达式的理解，对我们编程有很大的帮助。"
   ]
  },
  {
   "cell_type": "code",
   "execution_count": 13,
   "id": "661e8c50",
   "metadata": {},
   "outputs": [
    {
     "data": {
      "text/plain": [
       "(4.0, 4)"
      ]
     },
     "execution_count": 13,
     "metadata": {},
     "output_type": "execute_result"
    }
   ],
   "source": [
    "# explain why the output is float\n",
    "# 除法运算符在python中有两种含义，一种是数学运算，一种是字符串拼接，这里是数学运算\n",
    "\n",
    "\n",
    "'''\n",
    "在 Python 中，2 * 10 / 5 运算结果为浮点数，即 4.0。\n",
    "\n",
    "这是因为在 Python 中，整数和浮点数在进行运算时会自动转换为浮点数，结果也会返回浮点数。\n",
    "在这个表达式中，2和10都是整数，因此它们的乘积20也是整数。\n",
    "但是，由于除法运算符“/”的存在，20会被自动转换为浮点数20.0，然后再被除以整数5，因此结果也是浮点数。\n",
    "如果想要返回整数结果，可以使用整除运算符“//”，即 2 * 10 // 5 的结果为 4。\n",
    "'''\n",
    "\n",
    "2 * 10 / 5,2 * 10 // 5"
   ]
  },
  {
   "cell_type": "markdown",
   "id": "09855641",
   "metadata": {},
   "source": [
    "### 实验探究\n",
    "\n",
    "数学中是有优先级的，那么python中是否也有优先级呢？\n"
   ]
  },
  {
   "cell_type": "code",
   "execution_count": 14,
   "id": "4d715ba2",
   "metadata": {},
   "outputs": [
    {
     "data": {
      "text/plain": [
       "(1.5, 5.5)"
      ]
     },
     "execution_count": 14,
     "metadata": {},
     "output_type": "execute_result"
    }
   ],
   "source": [
    "(8-5)/2 , 8-5/2"
   ]
  },
  {
   "attachments": {},
   "cell_type": "markdown",
   "id": "e861f335",
   "metadata": {},
   "source": [
    "- 我们可以根据表达式的值逆推python是否有优先级\n",
    "- 例如，2+3-4*5/6=1.67，我们可以推测python中有优先级，优先级为：乘除>加减\n",
    "- 我们可以通过括号来改变优先级，例如，2+3-4*(5/6)=2.67，我们可以推测python中的优先级为：括号>乘除>加减\n",
    "### 练习"
   ]
  },
  {
   "attachments": {},
   "cell_type": "markdown",
   "id": "f25b8bbd",
   "metadata": {},
   "source": [
    "* 1.妈妈给你50元，让你买鸡蛋，卖鸡蛋的奶奶告诉你，她家的鸡蛋10元一袋，一袋15枚，不单卖，请用python计算，最多可以买多少鸡蛋?\n",
    "\n",
    "        50/10=5，5*15=75"
   ]
  },
  {
   "cell_type": "code",
   "execution_count": null,
   "id": "40d24acd",
   "metadata": {},
   "outputs": [],
   "source": []
  },
  {
   "attachments": {},
   "cell_type": "markdown",
   "id": "0e350ac9",
   "metadata": {},
   "source": [
    "* 2.一个月后，鸡蛋吃完了，妈妈又给你50元，让你去买鸡蛋，卖鸡蛋的奶奶这次告诉你， 现在她家卖的是自己养的土鸡蛋，要贵一点，20元一袋，一袋15枚，不单卖，请用 python计算，最多可以买多少鸡蛋?\n",
    "            \n",
    "            错误回答：50/20=2.5，2.5*15=37.5"
   ]
  },
  {
   "cell_type": "code",
   "execution_count": null,
   "id": "fc37a5de",
   "metadata": {},
   "outputs": [],
   "source": []
  },
  {
   "cell_type": "markdown",
   "id": "7f3eda5a",
   "metadata": {},
   "source": [
    "结果是个小数，你也知道奶奶不会卖给你半枚鸡蛋，这个数字肯定不对，问题出在哪儿? 怎么解决?\n",
    "\n",
    "你要的是个整数，但是它给你一个有小数点的数，那你就要把它转换为整数"
   ]
  },
  {
   "cell_type": "code",
   "execution_count": 45,
   "id": "b92b8e7b",
   "metadata": {},
   "outputs": [
    {
     "data": {
      "text/plain": [
       "2"
      ]
     },
     "execution_count": 45,
     "metadata": {},
     "output_type": "execute_result"
    }
   ],
   "source": [
    "int(2.9) "
   ]
  },
  {
   "attachments": {},
   "cell_type": "markdown",
   "id": "3725a624",
   "metadata": {},
   "source": [
    "如和转换为浮点数？\n",
    "-  float()函数，将一个整数或者字符串转换为浮点数"
   ]
  },
  {
   "cell_type": "code",
   "execution_count": 15,
   "id": "c9931194",
   "metadata": {},
   "outputs": [
    {
     "data": {
      "text/plain": [
       "2"
      ]
     },
     "execution_count": 15,
     "metadata": {},
     "output_type": "execute_result"
    }
   ],
   "source": [
    "# 🌟隐藏内容，移位运算符，左移一位相当于乘以2，右移一位相当于除以2\n",
    "1 << 1\n"
   ]
  },
  {
   "attachments": {},
   "cell_type": "markdown",
   "id": "712c4212",
   "metadata": {},
   "source": [
    "刚才卖鸡蛋，因为得到了小数，着实折腾了我们一番，现在介绍一个python的“整除”运算 符 // ， 用 整除”运算符 再算一遍\n",
    "\n",
    "        回答正确：50//20=2，2*15=30"
   ]
  },
  {
   "cell_type": "code",
   "execution_count": null,
   "id": "f75328d1",
   "metadata": {},
   "outputs": [],
   "source": []
  },
  {
   "attachments": {},
   "cell_type": "markdown",
   "id": "7a8bc211",
   "metadata": {},
   "source": [
    "还有“取余数”运算符\"%\"，他可以直接计算出两数相除的余数，用它我们直接计算出买鸡蛋后剩余的钱，算一算我们还剩下多钱?\n",
    "\n",
    "         回答正确：50%20=10"
   ]
  },
  {
   "cell_type": "code",
   "execution_count": null,
   "id": "c4508000",
   "metadata": {},
   "outputs": [],
   "source": []
  },
  {
   "attachments": {},
   "cell_type": "markdown",
   "id": "68334e1b",
   "metadata": {},
   "source": [
    "第三次买鸡蛋，50元 ， 20元15枚，但是可以单买，单买1.5一个，问能买多少个?提示：对商和余数分别计算\n",
    "\n",
    "        50//20=2，2*15=30，50%20=10，10//1.5=6,30+6=36"
   ]
  },
  {
   "cell_type": "markdown",
   "id": "9af939dd",
   "metadata": {},
   "source": [
    "### 数字和字符串不能相互运算\n"
   ]
  },
  {
   "attachments": {},
   "cell_type": "markdown",
   "id": "2ed2bdc8",
   "metadata": {},
   "source": [
    "# 整数和字符串\n",
    "- 整数是一种数字类型的数据，而字符串是一种文本类型的数据。在计算机编程中，它们属于不同的数据类型，不能直接进行运算。\n",
    "- 例如，数字4和字符串“123”不能相加，因为它们是不同的数据类型。\n",
    "- 但是，在一些特殊情况下，它们也可以进行转换。例如，可以使用int()函数将字符串转换为整数，或使用str()函数将整数转换为字符串。\n",
    "- 例如，将字符串“123”转换为整数，可以使用int(\"123\")，结果是整数123。将整数123转换为字符串，可以使用str(123)，结果是字符串“123”。\n",
    "- 在编程中，需要注意数据类型的转换，以免出现错误。加深对数据类型的理解，对我们编程有很大的帮助。"
   ]
  },
  {
   "cell_type": "code",
   "execution_count": 17,
   "id": "26c0a570",
   "metadata": {},
   "outputs": [
    {
     "data": {
      "text/plain": [
       "(492, 10.0)"
      ]
     },
     "execution_count": 17,
     "metadata": {},
     "output_type": "execute_result"
    }
   ],
   "source": [
    "# 这是整数与浮点数的转换\n",
    "4*int(123),4*float(2.5)"
   ]
  },
  {
   "attachments": {},
   "cell_type": "markdown",
   "id": "5fd9442e",
   "metadata": {},
   "source": [
    "字符串长得不像数字就不能转换，float接收一个字符串，如果字符串长得像数字，就可以转换，否则就会报错，int接收长得像整数的字符串，否则就会报错\n",
    "\n",
    "string literal 字符串 字面量 字面量就是值"
   ]
  },
  {
   "cell_type": "code",
   "execution_count": 84,
   "id": "ee16aafc",
   "metadata": {},
   "outputs": [
    {
     "data": {
      "text/plain": [
       "(12.1, 12)"
      ]
     },
     "execution_count": 84,
     "metadata": {},
     "output_type": "execute_result"
    }
   ],
   "source": [
    "float('12.1'),int('12')"
   ]
  },
  {
   "attachments": {},
   "cell_type": "markdown",
   "id": "e0a87588",
   "metadata": {},
   "source": [
    "### 那么如和将数字转换为字符串类型？\n",
    "\n",
    "在java和c++中是可以直接进行转换的，但是python不行。"
   ]
  },
  {
   "cell_type": "code",
   "execution_count": 50,
   "id": "27819cbb",
   "metadata": {},
   "outputs": [
    {
     "name": "stdout",
     "output_type": "stream",
     "text": [
      "He is 22years old!\n"
     ]
    }
   ],
   "source": [
    "print('He is '+ str(22) +'years old!')"
   ]
  },
  {
   "attachments": {},
   "cell_type": "markdown",
   "id": "ad3c1c1f",
   "metadata": {},
   "source": [
    "# 字符串的访问\n",
    "- 字符串是由多个字符组成的序列，可以使用下标(index)来访问字符串中的单个字符。Python中字符串的下标从0开始，表示字符串中第一个字符的位置，依次递增。例如，字符串\"hello\"中，第一个字符\"h\"的下标为0，- 第二个字符\"e\"的下标为1，以此类推。\n",
    "- 可以使用下标和方括号来访问字符串中的单个字符。例如，对于字符串\"hello\"，可以使用s[0]来访问第一个字符\"h\"，s[1]来访问第二个字符\"e\"，以此类推。\n",
    "- 如果使用负数的下标，表示从右往左数的位置。例如，s[-1]表示字符串中最后一个字符\"o\"，s[-2]表示倒数第二个字符\"l\"。\n",
    "- 需要注意的是，字符串是不可变的，也就是说，不能通过下标来修改字符串中的单个字符。如果需要修改字符串，可以创建一个新的字符串并赋值给原来的变量。\n"
   ]
  },
  {
   "cell_type": "code",
   "execution_count": 18,
   "id": "50b17b6b",
   "metadata": {},
   "outputs": [
    {
     "name": "stdout",
     "output_type": "stream",
     "text": [
      "5\n"
     ]
    },
    {
     "data": {
      "text/plain": [
       "'o'"
      ]
     },
     "execution_count": 18,
     "metadata": {},
     "output_type": "execute_result"
    }
   ],
   "source": [
    "# print the length of the string\n",
    "s = \"Hello\"\n",
    "print(len(s))\n",
    "# inspect the first character of the string\n",
    "s[-1]"
   ]
  },
  {
   "attachments": {},
   "cell_type": "markdown",
   "id": "a30c12b5",
   "metadata": {},
   "source": [
    "##  字符串的创建\n",
    "单引号或者双引号，三引号用于多行的字符串"
   ]
  },
  {
   "cell_type": "code",
   "execution_count": 54,
   "id": "053f2fc3",
   "metadata": {},
   "outputs": [
    {
     "name": "stdout",
     "output_type": "stream",
     "text": [
      "Hello\n",
      "Hello\n",
      "Hello\n"
     ]
    }
   ],
   "source": [
    "print(\"Hello\")\n",
    "print('Hello')\n",
    "print('Hello')"
   ]
  },
  {
   "cell_type": "code",
   "execution_count": 22,
   "id": "491d693d",
   "metadata": {},
   "outputs": [
    {
     "name": "stdout",
     "output_type": "stream",
     "text": [
      "我是可以换行的字符串\n",
      "我是可以换行的字符串\n",
      "我是可以换行的字符串我是可以换行的字符串\n",
      "我是可以换行的字符串\n"
     ]
    }
   ],
   "source": [
    "print('''我是可以换行的字符串\n",
    "我是可以换行的字符串\n",
    "我是可以换行的字符串我是可以换行的字符串\n",
    "我是可以换行的字符串''')\n",
    "\n"
   ]
  },
  {
   "attachments": {},
   "cell_type": "markdown",
   "id": "4ac76e94",
   "metadata": {},
   "source": [
    "### 如何表示换行？\n",
    "换行是一个行为，不能说是我们的代码执行到了指定的位置了我们再去点一下换行，这个时候我们要用转义字符“\\”表示\n",
    "\n",
    "\\n line feed\n",
    "\\r return carriage\n"
   ]
  },
  {
   "cell_type": "code",
   "execution_count": 23,
   "id": "edfb83ff",
   "metadata": {},
   "outputs": [
    {
     "name": "stdout",
     "output_type": "stream",
     "text": [
      "Hello\n",
      ",world!\n"
     ]
    }
   ],
   "source": [
    "print(\"Hello\\n,world!\")"
   ]
  },
  {
   "cell_type": "markdown",
   "id": "e28ba449",
   "metadata": {},
   "source": [
    "事实上print()函数自动换行，我们也可以设置它不自动换行，需要向其传递一个参数end"
   ]
  },
  {
   "cell_type": "code",
   "execution_count": 56,
   "id": "0d6572f8",
   "metadata": {},
   "outputs": [
    {
     "name": "stdout",
     "output_type": "stream",
     "text": [
      "我是不换行输出\n",
      "我是以空格结尾输出 我是以逗号结尾输出，我是以句号结尾输出。"
     ]
    }
   ],
   "source": [
    "print('我是不换行输出', end='\\n') \n",
    "print('我是以空格结尾输出', end=' ') \n",
    "print('我是以逗号结尾输出', end='，') \n",
    "print('我是以句号结尾输出', end='。')"
   ]
  },
  {
   "cell_type": "markdown",
   "id": "f5b14c7c",
   "metadata": {},
   "source": [
    "一些特殊字符，\\t,\\r\n",
    "windows \\r\\n"
   ]
  },
  {
   "cell_type": "code",
   "execution_count": 20,
   "id": "8fbcd378",
   "metadata": {},
   "outputs": [
    {
     "name": "stdout",
     "output_type": "stream",
     "text": [
      ",world!llo\n"
     ]
    }
   ],
   "source": [
    "# \\r是回车符，会将光标移动到行首，然后再输出后面的字符串 \n",
    "# 注意这个例子在Mac下运行，如果在Windows下运行，会出现不同的结果\n",
    "print(\"HelloHello\\r,world!\")\n"
   ]
  },
  {
   "cell_type": "markdown",
   "id": "a44717c7",
   "metadata": {},
   "source": [
    "\\n会被识别为换行，那么我就想打印出来\\n怎么办？\n",
    "\n",
    "既然\\n能够让n产生魔力，那么也可以让他失去魔力。"
   ]
  },
  {
   "cell_type": "code",
   "execution_count": 27,
   "id": "2a3901e4",
   "metadata": {},
   "outputs": [
    {
     "name": "stdout",
     "output_type": "stream",
     "text": [
      "\\n\n"
     ]
    }
   ],
   "source": [
    "print(\"\\\\n\")"
   ]
  },
  {
   "cell_type": "code",
   "execution_count": 21,
   "id": "4da042ad",
   "metadata": {},
   "outputs": [
    {
     "name": "stdout",
     "output_type": "stream",
     "text": [
      "e:\\software\\notepad++.exe\n"
     ]
    }
   ],
   "source": [
    "# 另一种输出斜杠的方法\n",
    "# 这里的r是raw的缩写，表示原始字符串，不会对字符串中的特殊字符进行转义\n",
    "\n",
    "print(r\"e:\\software\\notepad++.exe\")"
   ]
  },
  {
   "attachments": {},
   "cell_type": "markdown",
   "id": "973cb760",
   "metadata": {},
   "source": [
    "### 对于字符串的“*”和“+”运算\n",
    "- 乘法运算符“*”可以用来重复字符串。例如，\"hello\" * 3的结果是\"hellohellohello\"。\n",
    "- 加法运算符“+”可以用来连接两个字符串。例如，\"hello\" + \"world\"的结果是\"helloworld\"。"
   ]
  },
  {
   "cell_type": "code",
   "execution_count": 61,
   "id": "92f3fb48",
   "metadata": {},
   "outputs": [
    {
     "name": "stdout",
     "output_type": "stream",
     "text": [
      "abcabcabc\n"
     ]
    }
   ],
   "source": [
    "print('abc'*3)"
   ]
  },
  {
   "cell_type": "code",
   "execution_count": 62,
   "id": "f58ccb6c",
   "metadata": {},
   "outputs": [
    {
     "name": "stdout",
     "output_type": "stream",
     "text": [
      "hello\tworld!\n"
     ]
    }
   ],
   "source": [
    "print('hello'+'\\tworld!')"
   ]
  },
  {
   "attachments": {},
   "cell_type": "markdown",
   "id": "8273e116",
   "metadata": {},
   "source": [
    "### 字符串的其他操作\n",
    "- len()函数可以用来计算字符串的长度，即字符串中包含多少个字符。\n",
    "- upper()函数可以用来将字符串中的所有字符转换为大写字母。\n",
    "- lower()函数可以用来将字符串中的所有字符转换为小写字母。\n",
    "-  通过成员访问符进行访问，‘.’\n"
   ]
  },
  {
   "cell_type": "code",
   "execution_count": 22,
   "id": "0ce59cac",
   "metadata": {},
   "outputs": [
    {
     "name": "stdout",
     "output_type": "stream",
     "text": [
      "5\n"
     ]
    }
   ],
   "source": [
    "# example of len() function\n",
    "s = \"Hello\"\n",
    "print(len(s))"
   ]
  },
  {
   "cell_type": "code",
   "execution_count": 36,
   "id": "c239680f",
   "metadata": {},
   "outputs": [
    {
     "data": {
      "text/plain": [
       "'HELLO,WORLD'"
      ]
     },
     "execution_count": 36,
     "metadata": {},
     "output_type": "execute_result"
    }
   ],
   "source": [
    "\"Hello,world\".upper()"
   ]
  },
  {
   "cell_type": "code",
   "execution_count": 37,
   "id": "239a4b4d",
   "metadata": {},
   "outputs": [
    {
     "data": {
      "text/plain": [
       "'hello,world'"
      ]
     },
     "execution_count": 37,
     "metadata": {},
     "output_type": "execute_result"
    }
   ],
   "source": [
    "\"Hello,world\".lower()"
   ]
  },
  {
   "attachments": {},
   "cell_type": "markdown",
   "id": "61e4335a",
   "metadata": {},
   "source": [
    "🌟隐藏内容：你所看到的所有的信息都会被计算机编码，对每一个字符，都会有一个内部的数字的表示，最流行的一种编码的有ASCII\n",
    "\n",
    "打开你的终端，输入ascii试一下"
   ]
  },
  {
   "attachments": {},
   "cell_type": "markdown",
   "id": "f50dc23b",
   "metadata": {},
   "source": [
    "# 关于python的一些介绍 \n",
    "\n",
    "- Python是一种高级编程语言，它被设计成一种易于学习和使用的语言。与机器语言/低级语言不同，可以以我们自己可读的方式编写程序，然后通过python解释器将其翻译为机器语言，这让我们从“打孔员”的角色中解放了出来。\n",
    "\n",
    "\n",
    "- Python的设计哲学是\"万物皆对象\"，即任何东西都可以在Python中表示为一个对象。这是一种面向对象编程的思想，其核心是把事物看作是一个实例，即一个对象。一个类定义了一系列的方法和属性，这个类可以被用来或者成为对象。\n",
    "\n",
    "- 在Python中，数字和字符串都可以看成是对象，我们可以通过定义自己的类来创建我们自己的对象。比如，我们可以用类对象创建一个草原等等。\n",
    "\n",
    "🌟打孔员的故事：\n",
    "- 在早期，随着计算机科学的发展，程序员需要将机器指令转换成机器能够理解的语言，这项工作通常由打孔员完成。这些打孔员在纸带上打印上一系列的孔，0和1各代表一种状态，计算机根据纸带上的排列，执行指定指令。然而，这种方式是低效的、容易出错的，因为打孔员需要面对大量且复杂的代码，精度和体力都面临挑战。 后来，随着编程语言的出现，程序员们能够更轻松地描述计算机任务，从而减少了打孔员的工作量。"
   ]
  },
  {
   "cell_type": "code",
   "execution_count": 6,
   "id": "9ffb91c1",
   "metadata": {},
   "outputs": [
    {
     "name": "stdout",
     "output_type": "stream",
     "text": [
      "100\n"
     ]
    }
   ],
   "source": [
    "# 乘方运算符\n",
    "print(10**2)"
   ]
  },
  {
   "cell_type": "code",
   "execution_count": 71,
   "id": "561f198c",
   "metadata": {},
   "outputs": [
    {
     "data": {
      "text/plain": [
       "13"
      ]
     },
     "execution_count": 71,
     "metadata": {},
     "output_type": "execute_result"
    }
   ],
   "source": [
    "# int()函数可以将浮点数转换为整数\n",
    "int(8.5)+5"
   ]
  }
 ],
 "metadata": {
  "kernelspec": {
   "display_name": "Python 3.10.8 64-bit",
   "language": "python",
   "name": "python3"
  },
  "language_info": {
   "codemirror_mode": {
    "name": "ipython",
    "version": 3
   },
   "file_extension": ".py",
   "mimetype": "text/x-python",
   "name": "python",
   "nbconvert_exporter": "python",
   "pygments_lexer": "ipython3",
   "version": "3.9.10"
  },
  "vscode": {
   "interpreter": {
    "hash": "b0fa6594d8f4cbf19f97940f81e996739fb7646882a419484c72d19e05852a7e"
   }
  }
 },
 "nbformat": 4,
 "nbformat_minor": 5
}
