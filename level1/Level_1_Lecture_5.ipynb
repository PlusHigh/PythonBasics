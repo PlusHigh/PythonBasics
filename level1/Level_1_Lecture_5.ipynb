{
 "cells": [
  {
   "cell_type": "markdown",
   "id": "3a5ada61",
   "metadata": {},
   "source": [
    "# 变量和赋值\n",
    "\n",
    "回想上节课我们取出字符串中最后一个字符的过程，为什么是那样的？\n",
    "\n",
    "\n",
    "index = len()-1"
   ]
  },
  {
   "cell_type": "code",
   "execution_count": 1,
   "id": "1510014f",
   "metadata": {},
   "outputs": [
    {
     "data": {
      "text/plain": [
       "(4312884528, 4312884528)"
      ]
     },
     "execution_count": 1,
     "metadata": {},
     "output_type": "execute_result"
    }
   ],
   "source": [
    "# id函数的使用\n",
    "a = 'ABC'\n",
    "b = a\n",
    "# id函数用于获取对象的内存地址 \n",
    "id(a),id(b)\n",
    "\n",
    "# 说明a和b指向同一个对象\n",
    "# print('a='+ a)\n",
    "# print('b='+ b)"
   ]
  },
  {
   "attachments": {},
   "cell_type": "markdown",
   "id": "75ce299e",
   "metadata": {},
   "source": [
    "id 是identity 的缩写"
   ]
  },
  {
   "cell_type": "markdown",
   "id": "ffb3b639",
   "metadata": {},
   "source": [
    "# 表达式和逻辑值"
   ]
  },
  {
   "attachments": {},
   "cell_type": "markdown",
   "id": "791d0d9c",
   "metadata": {},
   "source": [
    "- 算术表达式 arithmetic expression\n",
    " \n",
    " \n",
    "        算术表达式指的是用数学运算符（例如加、减、乘、除等运算符）将数字、变量和算术表达式组合起来，生成单个值的表达式。比如，\"2+3\"是一个算术表达式，它的值为5。在Python中，算术表达式的计算顺序是从左到右，乘法和除法的优先级高于加法和减法。\n",
    "\n",
    "\n",
    " \n",
    "- 逻辑表达式 logical expression\n",
    " \n",
    "      逻辑表达式指的是一个或多个值或表达式通过逻辑运算符（例如and、or、not等运算符）相连形成的表达式。在Python中，逻辑表达式通常用于控制流语句中，比如if语句或while语句。逻辑表达式的结果只能是True或False。"
   ]
  },
  {
   "cell_type": "code",
   "execution_count": 2,
   "id": "473aba4c",
   "metadata": {},
   "outputs": [
    {
     "name": "stdout",
     "output_type": "stream",
     "text": [
      "True\n"
     ]
    }
   ],
   "source": [
    "# 这里说明 空格字符其实会返回True\n",
    "a = ' '\n",
    "if  a :\n",
    "    print('True')\n",
    "else :\n",
    "    print('False')\n"
   ]
  },
  {
   "cell_type": "code",
   "execution_count": 16,
   "id": "cd478d5a",
   "metadata": {},
   "outputs": [
    {
     "data": {
      "text/plain": [
       "0"
      ]
     },
     "execution_count": 16,
     "metadata": {},
     "output_type": "execute_result"
    }
   ],
   "source": [
    "# False 对应的是0\n",
    "int(False)"
   ]
  },
  {
   "cell_type": "code",
   "execution_count": 17,
   "id": "d9d5f4f3",
   "metadata": {},
   "outputs": [
    {
     "data": {
      "text/plain": [
       "1"
      ]
     },
     "execution_count": 17,
     "metadata": {},
     "output_type": "execute_result"
    }
   ],
   "source": [
    "# True 对应的是1\n",
    "int(True)"
   ]
  },
  {
   "attachments": {},
   "cell_type": "markdown",
   "id": "a3fe26c7",
   "metadata": {},
   "source": [
    "# 关系运算符\n",
    "\n",
    "- 等于 ==\n",
    "- ！= 不等于\n"
   ]
  },
  {
   "cell_type": "code",
   "execution_count": 18,
   "id": "fb5e8f9e",
   "metadata": {},
   "outputs": [
    {
     "data": {
      "text/plain": [
       "(True, False, False)"
      ]
     },
     "execution_count": 18,
     "metadata": {},
     "output_type": "execute_result"
    }
   ],
   "source": [
    "123 == 123,123 != 123,123 == '123' "
   ]
  },
  {
   "cell_type": "markdown",
   "id": "14620a03",
   "metadata": {},
   "source": [
    "- 大于 > \n",
    "- 小于 <\n",
    "- 大于等于 > =\n",
    "- 小于等于 < = "
   ]
  },
  {
   "attachments": {},
   "cell_type": "markdown",
   "id": "b0a00d56",
   "metadata": {},
   "source": [
    "# 字符串大小的比较\n",
    "\n",
    "hint：计算机中的字符都被编码成了数字，所以他们其实是在比较？\n",
    "\n",
    "        计算机的字符串比较其实是比较字符串的编码值，而不是比较字符串的大小。"
   ]
  },
  {
   "cell_type": "code",
   "execution_count": 1,
   "id": "f165d747",
   "metadata": {},
   "outputs": [
    {
     "data": {
      "text/plain": [
       "True"
      ]
     },
     "execution_count": 1,
     "metadata": {},
     "output_type": "execute_result"
    }
   ],
   "source": [
    "# 首先比较第一个字符的ASCII码值\n",
    "'abc' < 'z'"
   ]
  },
  {
   "cell_type": "code",
   "execution_count": 2,
   "id": "ed5d9fa9",
   "metadata": {},
   "outputs": [
    {
     "data": {
      "text/plain": [
       "True"
      ]
     },
     "execution_count": 2,
     "metadata": {},
     "output_type": "execute_result"
    }
   ],
   "source": [
    "# 这里的第二个字符b比a大，所以结果为True\n",
    "'abc' > 'aac'"
   ]
  },
  {
   "cell_type": "code",
   "execution_count": 5,
   "id": "b2e334d0",
   "metadata": {},
   "outputs": [
    {
     "data": {
      "text/plain": [
       "True"
      ]
     },
     "execution_count": 5,
     "metadata": {},
     "output_type": "execute_result"
    }
   ],
   "source": [
    "'abcd' == 'abcd'"
   ]
  },
  {
   "cell_type": "code",
   "execution_count": null,
   "id": "3d08cd02",
   "metadata": {},
   "outputs": [],
   "source": []
  }
 ],
 "metadata": {
  "kernelspec": {
   "display_name": "Python 3.10.8 64-bit",
   "language": "python",
   "name": "python3"
  },
  "language_info": {
   "codemirror_mode": {
    "name": "ipython",
    "version": 3
   },
   "file_extension": ".py",
   "mimetype": "text/x-python",
   "name": "python",
   "nbconvert_exporter": "python",
   "pygments_lexer": "ipython3",
   "version": "3.9.10"
  },
  "vscode": {
   "interpreter": {
    "hash": "b0fa6594d8f4cbf19f97940f81e996739fb7646882a419484c72d19e05852a7e"
   }
  }
 },
 "nbformat": 4,
 "nbformat_minor": 5
}
