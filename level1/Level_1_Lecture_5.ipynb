{
 "cells": [
  {
   "cell_type": "markdown",
   "id": "3a5ada61",
   "metadata": {},
   "source": [
    "# 变量和赋值\n",
    "\n",
    "回想上节课我们取出字符串中最后一个字符的过程，为什么是那样的？\n",
    "\n",
    "\n",
    "index = len()-1"
   ]
  },
  {
   "cell_type": "code",
   "execution_count": 3,
   "id": "1510014f",
   "metadata": {},
   "outputs": [
    {
     "data": {
      "text/plain": [
       "(4346795184, 4346795184)"
      ]
     },
     "execution_count": 3,
     "metadata": {},
     "output_type": "execute_result"
    }
   ],
   "source": [
    "a = 'ABC'\n",
    "b = a\n",
    "\n",
    "id(a),id(b)\n",
    "\n",
    "\n",
    "# print('a='+ a)\n",
    "# print('b='+ b)"
   ]
  },
  {
   "cell_type": "markdown",
   "id": "75ce299e",
   "metadata": {},
   "source": [
    "identity "
   ]
  },
  {
   "cell_type": "code",
   "execution_count": null,
   "id": "0a5b58c6",
   "metadata": {},
   "outputs": [],
   "source": []
  },
  {
   "cell_type": "markdown",
   "id": "ffb3b639",
   "metadata": {},
   "source": [
    "# 表达式和逻辑值"
   ]
  },
  {
   "cell_type": "markdown",
   "id": "791d0d9c",
   "metadata": {},
   "source": [
    "- 算术表达式 arithmetic expression\n",
    " \n",
    " \n",
    "  加减乘除 之类的东西 返回的是一个值\n",
    " \n",
    "- 逻辑表达式 logical expression\n",
    " \n",
    " 返回的是 True 或者False"
   ]
  },
  {
   "cell_type": "code",
   "execution_count": 4,
   "id": "473aba4c",
   "metadata": {},
   "outputs": [
    {
     "name": "stdout",
     "output_type": "stream",
     "text": [
      "True\n"
     ]
    }
   ],
   "source": [
    "a = ' '\n",
    "if  a :\n",
    "    print('True')\n",
    "else :\n",
    "    print('False')\n"
   ]
  },
  {
   "cell_type": "code",
   "execution_count": 16,
   "id": "cd478d5a",
   "metadata": {},
   "outputs": [
    {
     "data": {
      "text/plain": [
       "0"
      ]
     },
     "execution_count": 16,
     "metadata": {},
     "output_type": "execute_result"
    }
   ],
   "source": [
    "int(False)"
   ]
  },
  {
   "cell_type": "code",
   "execution_count": 17,
   "id": "d9d5f4f3",
   "metadata": {},
   "outputs": [
    {
     "data": {
      "text/plain": [
       "1"
      ]
     },
     "execution_count": 17,
     "metadata": {},
     "output_type": "execute_result"
    }
   ],
   "source": [
    "int(True)"
   ]
  },
  {
   "cell_type": "markdown",
   "id": "a3fe26c7",
   "metadata": {},
   "source": [
    "# 关系运算符"
   ]
  },
  {
   "cell_type": "code",
   "execution_count": 18,
   "id": "fb5e8f9e",
   "metadata": {},
   "outputs": [
    {
     "data": {
      "text/plain": [
       "(True, False, False)"
      ]
     },
     "execution_count": 18,
     "metadata": {},
     "output_type": "execute_result"
    }
   ],
   "source": [
    "123 == 123,123 != 123,123 == '123' "
   ]
  },
  {
   "cell_type": "markdown",
   "id": "14620a03",
   "metadata": {},
   "source": [
    "- 大于 > \n",
    "- 小于 <\n",
    "- 大于等于 > =\n",
    "- 小于等于 < = "
   ]
  },
  {
   "cell_type": "markdown",
   "id": "b0a00d56",
   "metadata": {},
   "source": [
    "# 字符串大小的比较\n",
    "\n",
    "hint：计算机中的字符都被编码成了数字，所以他们其实是在比较？"
   ]
  },
  {
   "cell_type": "code",
   "execution_count": 1,
   "id": "f165d747",
   "metadata": {},
   "outputs": [
    {
     "data": {
      "text/plain": [
       "True"
      ]
     },
     "execution_count": 1,
     "metadata": {},
     "output_type": "execute_result"
    }
   ],
   "source": [
    "'abc' < 'z'"
   ]
  },
  {
   "cell_type": "code",
   "execution_count": 2,
   "id": "ed5d9fa9",
   "metadata": {},
   "outputs": [
    {
     "data": {
      "text/plain": [
       "True"
      ]
     },
     "execution_count": 2,
     "metadata": {},
     "output_type": "execute_result"
    }
   ],
   "source": [
    "'abc' > 'aac'"
   ]
  },
  {
   "cell_type": "code",
   "execution_count": 5,
   "id": "b2e334d0",
   "metadata": {},
   "outputs": [
    {
     "data": {
      "text/plain": [
       "True"
      ]
     },
     "execution_count": 5,
     "metadata": {},
     "output_type": "execute_result"
    }
   ],
   "source": [
    "'abcd' == 'abcd'"
   ]
  },
  {
   "cell_type": "code",
   "execution_count": null,
   "id": "3d08cd02",
   "metadata": {},
   "outputs": [],
   "source": []
  }
 ],
 "metadata": {
  "kernelspec": {
   "display_name": "Python 3.10.8 64-bit",
   "language": "python",
   "name": "python3"
  },
  "language_info": {
   "codemirror_mode": {
    "name": "ipython",
    "version": 3
   },
   "file_extension": ".py",
   "mimetype": "text/x-python",
   "name": "python",
   "nbconvert_exporter": "python",
   "pygments_lexer": "ipython3",
   "version": "3.10.8"
  },
  "vscode": {
   "interpreter": {
    "hash": "b0fa6594d8f4cbf19f97940f81e996739fb7646882a419484c72d19e05852a7e"
   }
  }
 },
 "nbformat": 4,
 "nbformat_minor": 5
}
