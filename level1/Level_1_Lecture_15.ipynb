{
 "cells": [
  {
   "cell_type": "code",
   "execution_count": 9,
   "metadata": {},
   "outputs": [
    {
     "name": "stdout",
     "output_type": "stream",
     "text": [
      "[4, 3, 2, 1]\n"
     ]
    }
   ],
   "source": [
    "# 将一个数转化为以这个数字的各个位数为元素的一个列表\n",
    "# input：1234 output:[1,2,3,4]\n",
    "\n",
    "# 12 除以10 // ：1     % ：2\n",
    "\n",
    "\n",
    "\n",
    "\n",
    "num = eval(input(\"请输入一个数\"))\n",
    "output = []\n",
    "while num:\n",
    "    output.append( num % 10 )\n",
    "    num //= 10 # num = num //10\n",
    "output.reverse()\n",
    "print(output)\n",
    "\n"
   ]
  },
  {
   "cell_type": "code",
   "execution_count": 5,
   "metadata": {},
   "outputs": [
    {
     "data": {
      "text/plain": [
       "True"
      ]
     },
     "execution_count": 5,
     "metadata": {},
     "output_type": "execute_result"
    }
   ],
   "source": [
    "# is 与 == 的比较 \n",
    "\n",
    "# is 为判断内存地址是否相同，== 判断 内存中存储的值是否相同，内存地址不必相同\n",
    "\n",
    "# is 判断📦是否相同，📦相同，里面的东西一定相同， == 判断📦里的东西是否相同，箱子不必是同一个箱子\n",
    "\n",
    "\n",
    "\n",
    "a =list(range(10))\n",
    "b = a \n",
    "a is b \n"
   ]
  },
  {
   "cell_type": "code",
   "execution_count": 6,
   "metadata": {},
   "outputs": [
    {
     "data": {
      "text/plain": [
       "False"
      ]
     },
     "execution_count": 6,
     "metadata": {},
     "output_type": "execute_result"
    }
   ],
   "source": [
    "b = a[:]\n",
    "a is b"
   ]
  },
  {
   "cell_type": "code",
   "execution_count": 7,
   "metadata": {},
   "outputs": [
    {
     "data": {
      "text/plain": [
       "False"
      ]
     },
     "execution_count": 7,
     "metadata": {},
     "output_type": "execute_result"
    }
   ],
   "source": [
    "id(b) == id(a)"
   ]
  },
  {
   "cell_type": "code",
   "execution_count": 8,
   "metadata": {},
   "outputs": [
    {
     "data": {
      "text/plain": [
       "True"
      ]
     },
     "execution_count": 8,
     "metadata": {},
     "output_type": "execute_result"
    }
   ],
   "source": [
    "a == b"
   ]
  },
  {
   "cell_type": "code",
   "execution_count": null,
   "metadata": {},
   "outputs": [],
   "source": []
  }
 ],
 "metadata": {
  "kernelspec": {
   "display_name": "Python 3.9.10 ('base')",
   "language": "python",
   "name": "python3"
  },
  "language_info": {
   "codemirror_mode": {
    "name": "ipython",
    "version": 3
   },
   "file_extension": ".py",
   "mimetype": "text/x-python",
   "name": "python",
   "nbconvert_exporter": "python",
   "pygments_lexer": "ipython3",
   "version": "3.9.10"
  },
  "orig_nbformat": 4,
  "vscode": {
   "interpreter": {
    "hash": "3074f2e904c6b7a89af99873f8e1ecbdf160478a34cbd2d7f433f81be0da20a7"
   }
  }
 },
 "nbformat": 4,
 "nbformat_minor": 2
}
