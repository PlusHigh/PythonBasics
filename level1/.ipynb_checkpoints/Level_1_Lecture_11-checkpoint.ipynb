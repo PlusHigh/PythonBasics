{
 "cells": [
  {
   "cell_type": "markdown",
   "metadata": {},
   "source": [
    "# Turtle 库"
   ]
  },
  {
   "cell_type": "markdown",
   "metadata": {},
   "source": [
    "> 在1966年，Seymour Papert和Wally Feurzig发明了一种专门给儿童学习编程的语言——LOGO语言，它的特色就是通过编程指挥一个小海龟（turtle）在屏幕上绘图。\n",
    "\n",
    "> 海龟绘图（Turtle Graphics）后来被移植到各种高级语言中，Python内置了turtle库，基本上100%复制了原始的Turtle Graphics的所有功能。"
   ]
  },
  {
   "cell_type": "markdown",
   "metadata": {},
   "source": [
    "- 我们来看一个指挥小海龟绘制一个长方形的简单代码："
   ]
  },
  {
   "cell_type": "code",
   "execution_count": 1,
   "metadata": {},
   "outputs": [],
   "source": [
    "# 导入turtle包的所有内容:\n",
    "from turtle import *\n",
    "\n",
    "# 设置笔刷宽度:\n",
    "width(4)\n",
    "\n",
    "# 前进:\n",
    "forward(200)\n",
    "# 右转90度:\n",
    "right(90)\n",
    "\n",
    "# 笔刷颜色:\n",
    "pencolor('red')\n",
    "forward(100)\n",
    "right(90)\n",
    "\n",
    "pencolor('green')\n",
    "forward(200)\n",
    "right(90)\n",
    "\n",
    "pencolor('blue')\n",
    "forward(100)\n",
    "right(90)\n",
    "\n",
    "# 调用done()使得窗口等待被关闭，否则将立刻关闭窗口:\n",
    "done()"
   ]
  },
  {
   "cell_type": "markdown",
   "metadata": {},
   "source": [
    "从程序代码可以看出，海龟绘图就是指挥海龟前进、转向，海龟移动的轨迹就是绘制的线条。要绘制一个长方形，只需要让海龟前进、右转90度，反复4次。\n",
    "\n",
    "调用width()函数可以设置笔刷宽度，调用pencolor()函数可以设置颜色。"
   ]
  },
  {
   "cell_type": "markdown",
   "metadata": {},
   "source": [
    "绘图完成后，记得调用done()函数，让窗口进入消息循环，等待被关闭。否则，由于Python进程会立刻结束，将导致窗口被立刻关闭。\n",
    "\n"
   ]
  },
  {
   "cell_type": "markdown",
   "metadata": {},
   "source": [
    "turtle包本身只是一个绘图库，但是配合Python代码，就可以绘制各种复杂的图形。例如，通过循环绘制5个五角星："
   ]
  },
  {
   "cell_type": "code",
   "execution_count": 1,
   "metadata": {},
   "outputs": [
    {
     "ename": "ModuleNotFoundError",
     "evalue": "No module named '_tkinter'",
     "output_type": "error",
     "traceback": [
      "\u001b[0;31m---------------------------------------------------------------------------\u001b[0m",
      "\u001b[0;31mModuleNotFoundError\u001b[0m                       Traceback (most recent call last)",
      "Input \u001b[0;32mIn [1]\u001b[0m, in \u001b[0;36m<cell line: 1>\u001b[0;34m()\u001b[0m\n\u001b[0;32m----> 1\u001b[0m \u001b[38;5;28;01mfrom\u001b[39;00m \u001b[38;5;21;01mturtle\u001b[39;00m \u001b[38;5;28;01mimport\u001b[39;00m \u001b[38;5;241m*\u001b[39m\n\u001b[1;32m      3\u001b[0m \u001b[38;5;28;01mdef\u001b[39;00m \u001b[38;5;21mdrawStar\u001b[39m(x, y):\n\u001b[1;32m      4\u001b[0m     pu()\n",
      "File \u001b[0;32m/opt/homebrew/Cellar/python@3.9/3.9.15/Frameworks/Python.framework/Versions/3.9/lib/python3.9/turtle.py:107\u001b[0m, in \u001b[0;36m<module>\u001b[0;34m\u001b[0m\n\u001b[1;32m    103\u001b[0m _ver \u001b[38;5;241m=\u001b[39m \u001b[38;5;124m\"\u001b[39m\u001b[38;5;124mturtle 1.1b- - for Python 3.1   -  4. 5. 2009\u001b[39m\u001b[38;5;124m\"\u001b[39m\n\u001b[1;32m    105\u001b[0m \u001b[38;5;66;03m# print(_ver)\u001b[39;00m\n\u001b[0;32m--> 107\u001b[0m \u001b[38;5;28;01mimport\u001b[39;00m \u001b[38;5;21;01mtkinter\u001b[39;00m \u001b[38;5;28;01mas\u001b[39;00m \u001b[38;5;21;01mTK\u001b[39;00m\n\u001b[1;32m    108\u001b[0m \u001b[38;5;28;01mimport\u001b[39;00m \u001b[38;5;21;01mtypes\u001b[39;00m\n\u001b[1;32m    109\u001b[0m \u001b[38;5;28;01mimport\u001b[39;00m \u001b[38;5;21;01mmath\u001b[39;00m\n",
      "File \u001b[0;32m/opt/homebrew/Cellar/python@3.9/3.9.15/Frameworks/Python.framework/Versions/3.9/lib/python3.9/tkinter/__init__.py:37\u001b[0m, in \u001b[0;36m<module>\u001b[0;34m\u001b[0m\n\u001b[1;32m     34\u001b[0m \u001b[38;5;28;01mimport\u001b[39;00m \u001b[38;5;21;01msys\u001b[39;00m\n\u001b[1;32m     35\u001b[0m \u001b[38;5;28;01mimport\u001b[39;00m \u001b[38;5;21;01mtypes\u001b[39;00m\n\u001b[0;32m---> 37\u001b[0m \u001b[38;5;28;01mimport\u001b[39;00m \u001b[38;5;21;01m_tkinter\u001b[39;00m \u001b[38;5;66;03m# If this fails your Python may not be configured for Tk\u001b[39;00m\n\u001b[1;32m     38\u001b[0m TclError \u001b[38;5;241m=\u001b[39m _tkinter\u001b[38;5;241m.\u001b[39mTclError\n\u001b[1;32m     39\u001b[0m \u001b[38;5;28;01mfrom\u001b[39;00m \u001b[38;5;21;01mtkinter\u001b[39;00m\u001b[38;5;21;01m.\u001b[39;00m\u001b[38;5;21;01mconstants\u001b[39;00m \u001b[38;5;28;01mimport\u001b[39;00m \u001b[38;5;241m*\u001b[39m\n",
      "\u001b[0;31mModuleNotFoundError\u001b[0m: No module named '_tkinter'"
     ]
    }
   ],
   "source": [
    "from turtle import *\n",
    "\n",
    "def drawStar(x, y):\n",
    "    pu()\n",
    "    goto(x, y)\n",
    "    pd()\n",
    "    # set heading: 0\n",
    "    seth(0)\n",
    "    for i in range(5):\n",
    "        fd(40)\n",
    "        rt(144)\n",
    "\n",
    "for x in range(0, 250, 50):\n",
    "    drawStar(x, 0)\n",
    "\n",
    "done()"
   ]
  },
  {
   "cell_type": "markdown",
   "metadata": {},
   "source": [
    "你可以画出更加复杂的图形"
   ]
  },
  {
   "cell_type": "code",
   "execution_count": 2,
   "metadata": {},
   "outputs": [
    {
     "ename": "",
     "evalue": "",
     "output_type": "error",
     "traceback": [
      "\u001b[1;31mThe Kernel crashed while executing code in the the current cell or a previous cell. Please review the code in the cell(s) to identify a possible cause of the failure. Click <a href='https://aka.ms/vscodeJupyterKernelCrash'>here</a> for more info. View Jupyter <a href='command:jupyter.viewOutput'>log</a> for further details."
     ]
    },
    {
     "ename": "",
     "evalue": "",
     "output_type": "error",
     "traceback": [
      "\u001b[1;31mCanceled future for execute_request message before replies were done"
     ]
    }
   ],
   "source": [
    "\n",
    "\n",
    "from turtle import *\n",
    "\n",
    "# 设置色彩模式是RGB:\n",
    "colormode(255)\n",
    "\n",
    "lt(90)\n",
    "\n",
    "lv = 14\n",
    "l = 120\n",
    "s = 45\n",
    "\n",
    "width(lv)\n",
    "\n",
    "# 初始化RGB颜色:\n",
    "r = 0\n",
    "g = 0\n",
    "b = 0\n",
    "pencolor(r, g, b)\n",
    "\n",
    "penup()\n",
    "bk(l)\n",
    "pendown()\n",
    "fd(l)\n",
    "\n",
    "def draw_tree(l, level):\n",
    "    global r, g, b\n",
    "    # save the current pen width\n",
    "    w = width()\n",
    "\n",
    "    # narrow the pen width\n",
    "    width(w * 3.0 / 4.0)\n",
    "    # set color:\n",
    "    r = r + 1\n",
    "    g = g + 2\n",
    "    b = b + 3\n",
    "    pencolor(r % 200, g % 200, b % 200)\n",
    "\n",
    "    l = 3.0 / 4.0 * l\n",
    "\n",
    "    lt(s)\n",
    "    fd(l)\n",
    "\n",
    "    if level < lv:\n",
    "        draw_tree(l, level + 1)\n",
    "    bk(l)\n",
    "    rt(2 * s)\n",
    "    fd(l)\n",
    "\n",
    "    if level < lv:\n",
    "        draw_tree(l, level + 1)\n",
    "    bk(l)\n",
    "    lt(s)\n",
    "\n",
    "    # restore the previous pen width\n",
    "    width(w)\n",
    "\n",
    "speed(\"fastest\")\n",
    "\n",
    "draw_tree(l, 4)\n",
    "\n",
    "done()"
   ]
  },
  {
   "cell_type": "markdown",
   "metadata": {},
   "source": [
    "### 书归正传，我们接下来深入看一下turtle库的各种用法 "
   ]
  },
  {
   "cell_type": "markdown",
   "metadata": {},
   "source": [
    "turtle 是一个预装的 Python 库，它使用户能够通过为用户提供虚拟画布来创建图片和形状。您用于绘图的屏幕笔称为海龟，这就是库的名称。"
   ]
  },
  {
   "cell_type": "markdown",
   "metadata": {},
   "source": [
    "- 绘图 坐标系统"
   ]
  },
  {
   "cell_type": "markdown",
   "metadata": {},
   "source": [
    "![title](http://yltang.net/static/tutorial/img/python/coordinate.png)\n",
    "\n"
   ]
  },
  {
   "cell_type": "markdown",
   "metadata": {},
   "source": []
  },
  {
   "cell_type": "markdown",
   "metadata": {},
   "source": [
    "### 小乌龟画图"
   ]
  },
  {
   "cell_type": "code",
   "execution_count": 2,
   "metadata": {},
   "outputs": [
    {
     "ename": "",
     "evalue": "",
     "output_type": "error",
     "traceback": [
      "\u001b[1;31mThe Kernel crashed while executing code in the the current cell or a previous cell. Please review the code in the cell(s) to identify a possible cause of the failure. Click <a href='https://aka.ms/vscodeJupyterKernelCrash'>here</a> for more info. View Jupyter <a href='command:jupyter.viewOutput'>log</a> for further details."
     ]
    }
   ],
   "source": [
    "import turtle\n",
    "\n",
    "# Create screen and turtle objects\n",
    "screen = turtle.Screen()\n",
    "screen.setup(500, 400)\n",
    "myTurtle = turtle.Turtle()\n",
    "\n",
    "# Move the turtle\n",
    "myTurtle.forward(150)\n",
    "myTurtle.left(90)\n",
    "myTurtle.forward(75)\n",
    "\n",
    "# Exit\n",
    "screen.exitonclick()"
   ]
  },
  {
   "cell_type": "markdown",
   "metadata": {},
   "source": [
    "![title](http://yltang.net/static/tutorial/img/python/myTurtle.png)"
   ]
  },
  {
   "cell_type": "markdown",
   "metadata": {},
   "source": [
    "- 详解"
   ]
  },
  {
   "cell_type": "markdown",
   "metadata": {},
   "source": [
    "▸ 第1 行：汇入turtle模组，本范例使用turtle模组里的 Screen()及Turtle()两个方法\n",
    "\n",
    "▸ 第4 行：利用turtle模组里的Screen()方法产生一个萤幕对象， 并将其指派给变数screen\n",
    "✶ Python 模组方法的使用方式是利用<module>.<method>()的点号语法， 例如本范例中的turtle.Screen()\n",
    "\n",
    "▸ 第5 行：利用screen对象的setup()方法来设定萤幕的宽度与高度(本例中，宽高分别是500 与400 像素)\n",
    "\n",
    "▸ 第6 行：利用turtle模组里的Turtle()方法产生小乌龟对象， 并指派给myTurtle变数\n",
    "\n",
    "▸ 第9 行：利用myTurtle对象的forward() 方法让小乌龟向前走150 像素距离\n",
    "✶ 注：小乌龟对象产生时，预设方向为面向东方\n",
    "\n",
    "▸ 第10 行：利用myTurtle对象的left()方法让小乌龟左转90 度\n",
    "\n",
    "▸ 第11 行：向前走75 像素距离\n",
    "\n",
    "▸ 第14 行：利用screen对象的exitonclick() 方法在使用者点击萤幕时结束程序\n",
    "\n",
    "▸注意：不可将档案命名为turtle.py， 否则会和内建的turtle模组名称冲突"
   ]
  },
  {
   "cell_type": "markdown",
   "metadata": {},
   "source": [
    "### 其他screen 与turtle 物件方法\n",
    "▸ 设定萤幕背景颜色\n",
    "\n",
    "screen.bgcolor('lightBlue') # 淡蓝色\n",
    "\n",
    "screen.bgcolor('#add8e6')\n",
    "\n",
    "▸ 设定画笔颜色\n",
    "\n",
    "myTurtle.color('blue') # 蓝色\n",
    "\n",
    "▸ 设定画一个封闭几何图形的外框及底色，例如蓝框红底、半径为30 的圆：\n",
    "\n",
    "myTurtle.color('blue', 'red')\n",
    "\n",
    "myTurtle.begin_fill()\n",
    "\n",
    "myTurtle.circle(30)\n",
    "\n",
    "myTurtle.end_fill()\n",
    "\n",
    "▸ 设定画笔尺寸\n",
    "\n",
    "myTurtle.pensize(3) # 3 像素宽\n",
    "\n",
    "▸ 提笔与落笔\n",
    "\n",
    "myTurtle.penup() # 提笔\n",
    "\n",
    "myTurtle.pendown() # 落笔\n",
    "\n",
    "▸ 走到某个位置\n",
    "\n",
    "myTurtle.goto([120, 150]) # 走到(120, 150) 位置，位置资料为串列\n",
    "\n",
    "myTurtle.goto(120, 150) # 位置参数为两笔资料\n"
   ]
  },
  {
   "cell_type": "markdown",
   "metadata": {},
   "source": [
    "### 与For 循环的结合"
   ]
  },
  {
   "cell_type": "markdown",
   "metadata": {},
   "source": [
    "利用🐢绘制一个方框，规划行走模式：向前走→左转→向前走→左转→向前走→左转→向前走"
   ]
  },
  {
   "cell_type": "code",
   "execution_count": 1,
   "metadata": {},
   "outputs": [
    {
     "ename": "",
     "evalue": "",
     "output_type": "error",
     "traceback": [
      "\u001b[1;31mThe Kernel crashed while executing code in the the current cell or a previous cell. Please review the code in the cell(s) to identify a possible cause of the failure. Click <a href='https://aka.ms/vscodeJupyterKernelCrash'>here</a> for more info. View Jupyter <a href='command:jupyter.viewOutput'>log</a> for further details."
     ]
    }
   ],
   "source": [
    "import turtle \n",
    "# Create screen and turtle objects\n",
    "screen = turtle.Screen()\n",
    "screen.setup(500, 500)\n",
    "myTurtle = turtle.Turtle()\n",
    "\n",
    "# Move the turtle: draw a square\n",
    "# myTurtle.forward(100)\n",
    "# myTurtle.left(90)\n",
    "# myTurtle.forward(100)\n",
    "# myTurtle.left(90)\n",
    "# myTurtle.forward(100)\n",
    "# myTurtle.left(90)\n",
    "# myTurtle.forward(100)\n",
    "\n",
    "for i in range(4):\n",
    "    myTurtle.left(90)\n",
    "    myTurtle.forward(100)\n",
    "\n",
    "\n"
   ]
  },
  {
   "cell_type": "markdown",
   "metadata": {},
   "source": [
    "想一想为什么这么写？"
   ]
  },
  {
   "cell_type": "code",
   "execution_count": 1,
   "metadata": {},
   "outputs": [
    {
     "ename": "",
     "evalue": "",
     "output_type": "error",
     "traceback": [
      "\u001b[1;31mThe Kernel crashed while executing code in the the current cell or a previous cell. Please review the code in the cell(s) to identify a possible cause of the failure. Click <a href='https://aka.ms/vscodeJupyterKernelCrash'>here</a> for more info. View Jupyter <a href='command:jupyter.viewOutput'>log</a> for further details."
     ]
    }
   ],
   "source": [
    "import turtle\n",
    "\n",
    "# Create screen and turtle objects\n",
    "screen = turtle.Screen()\n",
    "screen.setup(500, 500)\n",
    "myTurtle = turtle.Turtle()\n",
    "\n",
    "# Move the turtle: draw a square\n",
    "for color in [ 'red', 'blue', 'green', 'orange' ]: \n",
    "    myTurtle.color(color)\n",
    "    myTurtle.forward(100)\n",
    "    myTurtle.left(90)"
   ]
  },
  {
   "cell_type": "markdown",
   "metadata": {},
   "source": [
    "# 其他Turtle 方法\n",
    "-  forward() 及left() 方法可以有负值参数\n",
    "\n",
    "▸ 例如：\n",
    "\n",
    "myTurtle.forward(-100) # 后退100\n",
    "\n",
    "myTurtle.left(-30) # 右转30 度\n",
    "\n",
    "▸ 也有backward()及right()方法可用\n",
    "\n",
    "myTurtle.backward(-100) #前进100\n",
    "\n",
    "myTurtle.right(-100) #左转100 度\n",
    "\n",
    "▸ 因为圆为360 度，因此myTurtle.right(100)等于myTurtle.left(260)\n",
    "\n",
    "∗ 小乌龟可以有自己的形状(shape)\n",
    "\n",
    "▸ Turtle 模组提供以下形状：arrow, blank, circle, classic, square, triangle, turtle\n",
    "\n",
    "\n",
    "▸ 例如设定为小乌龟形状：myTurtle.shape('turtle')\n",
    "\n",
    "∗ 小乌龟行走的速度(Speed) 可以调整\n",
    "\n",
    "▸ 速度范围：1 ~ 10 (最慢~ 最快)，0 则是最快(没有动画)\n",
    "\n",
    "▸ 设定速度：myTurtle.speed(8)"
   ]
  },
  {
   "cell_type": "markdown",
   "metadata": {},
   "source": []
  }
 ],
 "metadata": {
  "kernelspec": {
   "display_name": "Python 3 (ipykernel)",
   "language": "python",
   "name": "python3"
  },
  "language_info": {
   "codemirror_mode": {
    "name": "ipython",
    "version": 3
   },
   "file_extension": ".py",
   "mimetype": "text/x-python",
   "name": "python",
   "nbconvert_exporter": "python",
   "pygments_lexer": "ipython3",
   "version": "3.9.15"
  },
  "vscode": {
   "interpreter": {
    "hash": "3074f2e904c6b7a89af99873f8e1ecbdf160478a34cbd2d7f433f81be0da20a7"
   }
  }
 },
 "nbformat": 4,
 "nbformat_minor": 2
}
