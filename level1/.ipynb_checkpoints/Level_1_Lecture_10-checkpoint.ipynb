{
 "cells": [
  {
   "cell_type": "markdown",
   "id": "c117e4dc",
   "metadata": {},
   "source": [
    "# Break Out of the Pattern\n",
    "从循环中解脱出来\n",
    "\n",
    "我们之前学过了if分支语句还学过了for这种循环语句，我们现在想办法将其结合起来\n",
    "\n",
    "我们将会学到什么：\n",
    "\n",
    "- break\n",
    "- continue\n",
    "- 使用他们更加精确地控制循环的执行过程"
   ]
  },
  {
   "cell_type": "code",
   "execution_count": null,
   "id": "39a8d7df",
   "metadata": {},
   "outputs": [],
   "source": [
    "range()"
   ]
  },
  {
   "cell_type": "code",
   "execution_count": 2,
   "id": "b787126f",
   "metadata": {},
   "outputs": [
    {
     "name": "stdout",
     "output_type": "stream",
     "text": [
      "2500\n"
     ]
    }
   ],
   "source": [
    "sum_of_evens = 0\n",
    "for n in range(1, 100): \n",
    "    if n % 2 == 1:\n",
    "        sum_of_evens = sum_of_evens + n \n",
    "print(sum_of_evens)"
   ]
  },
  {
   "cell_type": "markdown",
   "id": "9c1d9d4b",
   "metadata": {},
   "source": [
    "### break \n",
    "\n",
    "打破，打断，终止"
   ]
  },
  {
   "cell_type": "code",
   "execution_count": 4,
   "id": "cb26e94e",
   "metadata": {},
   "outputs": [
    {
     "name": "stdout",
     "output_type": "stream",
     "text": [
      "0\n",
      "1\n",
      "Finished with n = 2\n"
     ]
    }
   ],
   "source": [
    "for n in range(0, 4): \n",
    "    if n == 2:\n",
    "        break  #  执行到这就停了\n",
    "    print(n)\n",
    "print(f\"Finished with n = {n}\")"
   ]
  },
  {
   "cell_type": "markdown",
   "id": "adf31787",
   "metadata": {},
   "source": [
    "### continue\n",
    "继续-〉执行下一次"
   ]
  },
  {
   "cell_type": "code",
   "execution_count": 3,
   "id": "f9747bf7",
   "metadata": {},
   "outputs": [
    {
     "name": "stdout",
     "output_type": "stream",
     "text": [
      "0\n",
      "1\n",
      "3\n",
      "Finished with n = 3\n"
     ]
    }
   ],
   "source": [
    "for n in range(0, 4): \n",
    "    if n == 2:\n",
    "        continue # 当n==2时跳到下次循环\n",
    "    print(n)\n",
    "print(f\"Finished with n = {n}\")"
   ]
  },
  {
   "cell_type": "markdown",
   "id": "d2ff8f2f",
   "metadata": {},
   "source": [
    "# summmary\n",
    "    - break 当一定条件满足时，停止循环\n",
    "    - continue 当一定条件满足时，跳过循环中的一次迭代"
   ]
  },
  {
   "cell_type": "markdown",
   "id": "724c34d8",
   "metadata": {},
   "source": [
    "###  for … else 循环"
   ]
  },
  {
   "cell_type": "code",
   "execution_count": 7,
   "id": "585aab77",
   "metadata": {},
   "outputs": [
    {
     "name": "stdout",
     "output_type": "stream",
     "text": [
      "There was no 'X' in the phrase\n"
     ]
    }
   ],
   "source": [
    "phrase = \"it marks the spot\"\n",
    "for character in phrase: \n",
    "    if character == \"X\":\n",
    "        break \n",
    "else:\n",
    "    print(\"There was no 'X' in the phrase\")\n",
    "print()"
   ]
  },
  {
   "cell_type": "markdown",
   "id": "7a0baf43",
   "metadata": {},
   "source": [
    "在for循环后的else代码块中的任何代码当且仅当for循环的执行过程完成，没有遇到break语句时，才会执行\n",
    "\n",
    "它可以被用在什么地方？"
   ]
  },
  {
   "cell_type": "code",
   "execution_count": 4,
   "id": "65a25be1",
   "metadata": {},
   "outputs": [
    {
     "name": "stdout",
     "output_type": "stream",
     "text": [
      "Password: zegn\n",
      "Password is incorrect.\n",
      "Password: asdfad\n",
      "Password is incorrect.\n",
      "Password: fasdsd\n",
      "Password is incorrect.\n",
      "Suspicious activity. The authorities have been alerted.\n"
     ]
    }
   ],
   "source": [
    "for n in range(3):\n",
    "    password = input(\"Password: \") \n",
    "    if password == \"zenghao\":\n",
    "        break\n",
    "    print(\"Password is incorrect.\") \n",
    "else:\n",
    "    print(\"Suspicious activity. The authorities have been alerted.\")"
   ]
  },
  {
   "cell_type": "markdown",
   "id": "a2aa7ff0",
   "metadata": {},
   "source": [
    "对于while来说，break和continue 也可以使用，while也有else语句"
   ]
  },
  {
   "cell_type": "markdown",
   "id": "6df9cc33",
   "metadata": {},
   "source": [
    "# Exercise："
   ]
  },
  {
   "cell_type": "markdown",
   "id": "1b4132b2",
   "metadata": {},
   "source": [
    "- 1. Using break,write a program that repeatedly asks the user for some input and only quits if the user enters \"q\" or \"Q\".\n",
    "\n",
    "\n",
    "- 使用break语句，写一个要求用户键入q或者Q才会结束的程序，否则会不停地要求用户输入\n",
    "\n",
    "\n",
    "- 2.Using continue, write a program that loops over the numbers 1 to 50 and prints all numbers that are not multiples of 3.\n",
    "\n",
    "\n",
    "- 使用continue 写一个从1到50的循环，打印所有不是3的整数倍的数。"
   ]
  },
  {
   "cell_type": "code",
   "execution_count": 6,
   "id": "9b1e2db8",
   "metadata": {},
   "outputs": [
    {
     "name": "stdout",
     "output_type": "stream",
     "text": [
      "请输入q活着Q退出循环：Q\n"
     ]
    }
   ],
   "source": [
    "while True:\n",
    "    user_input = input('请输入q活着Q退出循环：')\n",
    "    if user_input.upper() == 'Q' :\n",
    "        break\n",
    "        "
   ]
  },
  {
   "cell_type": "code",
   "execution_count": 10,
   "id": "212a3060",
   "metadata": {},
   "outputs": [
    {
     "name": "stdout",
     "output_type": "stream",
     "text": [
      "1\t2\t4\t5\t7\t8\t10\t11\t13\t14\t16\t17\t19\t20\t22\t23\t25\t26\t28\t29\t31\t32\t34\t35\t37\t38\t40\t41\t43\t44\t46\t47\t49\t50\t"
     ]
    }
   ],
   "source": [
    "for i in range(1,51):\n",
    "    if i%3 != 0:\n",
    "        print(i,end= '\\t')"
   ]
  },
  {
   "cell_type": "code",
   "execution_count": null,
   "id": "c0238c57",
   "metadata": {},
   "outputs": [],
   "source": []
  }
 ],
 "metadata": {
  "kernelspec": {
   "display_name": "Python 3 (ipykernel)",
   "language": "python",
   "name": "python3"
  },
  "language_info": {
   "codemirror_mode": {
    "name": "ipython",
    "version": 3
   },
   "file_extension": ".py",
   "mimetype": "text/x-python",
   "name": "python",
   "nbconvert_exporter": "python",
   "pygments_lexer": "ipython3",
   "version": "3.9.15"
  }
 },
 "nbformat": 4,
 "nbformat_minor": 5
}
