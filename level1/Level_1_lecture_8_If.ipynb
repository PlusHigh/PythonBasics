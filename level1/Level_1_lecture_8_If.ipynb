{
 "cells": [
  {
   "cell_type": "markdown",
   "id": "e6c26bc1",
   "metadata": {},
   "source": [
    "### if 语句 \n",
    "* 一个 if 语句告诉 Python 只在满足某个条件时执行一部分代码。\n",
    "例如，下面的 if 语句将打印 2 和 2 是 4，如果 条件 2 + 2 == 4 为真。"
   ]
  },
  {
   "cell_type": "code",
   "execution_count": 2,
   "id": "2d02edbd",
   "metadata": {},
   "outputs": [
    {
     "name": "stdout",
     "output_type": "stream",
     "text": [
      "测试\n",
      "这样也行\n"
     ]
    }
   ],
   "source": [
    "if 2+2 == 4 :\n",
    "    print(\"测试\")\n",
    "# 如果第一个条件成立，那么执行第二个语句，如果为假（不成立）就不执行\n",
    "    \n",
    "2+2 == 4 and print(\"这样也行\")\n",
    "# 只有两个条件同时为真时才整体为真，也就是说，只要一个为假，整体为假\n",
    "# 逻辑结构是：\n",
    "# 第一个条件成立时，看第二个条件是否 成立，也就是执行它，看是否为真\n"
   ]
  },
  {
   "cell_type": "code",
   "execution_count": 8,
   "id": "c7089ddd",
   "metadata": {},
   "outputs": [
    {
     "name": "stdout",
     "output_type": "stream",
     "text": [
      "True\n"
     ]
    }
   ],
   "source": [
    "# evaluate 计算 计算这个表达式的值，并返回\n",
    "# 所以 关键在于 这个表达式的值是什么\n",
    "a = 'False'\n",
    "if a:\n",
    "    print('True')"
   ]
  },
  {
   "cell_type": "code",
   "execution_count": 3,
   "id": "cf79e648",
   "metadata": {},
   "outputs": [
    {
     "data": {
      "text/plain": [
       "True"
      ]
     },
     "execution_count": 3,
     "metadata": {},
     "output_type": "execute_result"
    }
   ],
   "source": [
    "2+2 == 4"
   ]
  },
  {
   "cell_type": "markdown",
   "id": "964cf242",
   "metadata": {},
   "source": [
    "你可以这么理解，就是如果2加2等于4，那么就打印下面那个语句"
   ]
  },
  {
   "cell_type": "markdown",
   "id": "94d35f2e",
   "metadata": {},
   "source": [
    "if 语句有三个部分：  \n",
    "\n",
    "    1.if 关键字  \n",
    "    \n",
    "    2.测试条件，后面跟着冒号  \n",
    "    \n",
    "    3.如果测试的条件为真那么就执行的缩进代码块\n",
    "   "
   ]
  },
  {
   "cell_type": "markdown",
   "id": "50077800",
   "metadata": {},
   "source": [
    "如果条件语句为假，那么缩进的代码就不会执行"
   ]
  },
  {
   "cell_type": "code",
   "execution_count": 5,
   "id": "ab9b85b0",
   "metadata": {},
   "outputs": [
    {
     "name": "stdout",
     "output_type": "stream",
     "text": [
      "False\n"
     ]
    }
   ],
   "source": [
    "if 2+2 == 5 :\n",
    "    print(\"如果为2+2等于5就会执行\")\n",
    "print(2+2 == 5 )    "
   ]
  },
  {
   "cell_type": "markdown",
   "id": "7c1fa791",
   "metadata": {},
   "source": [
    "如果少了冒号会有sytaxerror产生：\n"
   ]
  },
  {
   "cell_type": "code",
   "execution_count": 6,
   "id": "e1cd140d",
   "metadata": {},
   "outputs": [
    {
     "ename": "SyntaxError",
     "evalue": "invalid syntax (3611693677.py, line 1)",
     "output_type": "error",
     "traceback": [
      "\u001b[0;36m  Input \u001b[0;32mIn [6]\u001b[0;36m\u001b[0m\n\u001b[0;31m    if 2+2 == 4\u001b[0m\n\u001b[0m                ^\u001b[0m\n\u001b[0;31mSyntaxError\u001b[0m\u001b[0;31m:\u001b[0m invalid syntax\n"
     ]
    }
   ],
   "source": [
    "if 2+2 == 4 :\n",
    "    print(\"2 plus 2 equals 4\")"
   ]
  },
  {
   "cell_type": "markdown",
   "id": "40dc1939",
   "metadata": {},
   "source": [
    "一旦if语句中的缩进代码块被执行，Python将继续执行程序的其余部分。"
   ]
  },
  {
   "cell_type": "code",
   "execution_count": 7,
   "id": "cb17ef98",
   "metadata": {},
   "outputs": [
    {
     "name": "stdout",
     "output_type": "stream",
     "text": [
      "谢谢你参加本节课.\n"
     ]
    }
   ],
   "source": [
    "grade = 65\n",
    "if grade >= 70:\n",
    "    print(\"You passed the class!\")\n",
    "print(\"谢谢你参加本节课.\")"
   ]
  },
  {
   "cell_type": "markdown",
   "id": "490f58a3",
   "metadata": {},
   "source": [
    "如果一个不及格的学生从你的代码中看到的只是 \"谢谢你的参与 \"的文字，那么他就不会知道自己不及格。\n",
    "让我们再添加一个if语句，告诉学生如果他们的成绩低于70分，他们就没有通过"
   ]
  },
  {
   "cell_type": "code",
   "execution_count": 8,
   "id": "7f4dba1e",
   "metadata": {},
   "outputs": [
    {
     "name": "stdout",
     "output_type": "stream",
     "text": [
      "You passed the class!\n",
      "Thank you for attending.\n"
     ]
    }
   ],
   "source": [
    "grade = 80\n",
    "if grade >= 70:\n",
    "    print(\"You passed the class!\") \n",
    "if grade < 70:\n",
    "    print(\"这门课你挂了\")\n",
    "print(\"Thank you for attending.\")"
   ]
  },
  {
   "cell_type": "markdown",
   "id": "bc5ddaf5",
   "metadata": {},
   "source": [
    "在中文中，我们可以用 \"否则 \"这个词来描述另一种情况。例如，\"如果你的成绩是70分或以上，你就通过了这门课。否则，你不能通过这门课。\n",
    "幸运的是，有一个关键字可以为 Python 做到中文中 \"否则 \"这个词的作用。"
   ]
  },
  {
   "cell_type": "markdown",
   "id": "b1933f00",
   "metadata": {},
   "source": [
    " # else关键字\n",
    "else关键字用在if语句后面，以执行\n",
    "一些代码，只在if语句的测试条件为False时执行。\n",
    "下面的脚本使用else来缩短前面脚本中的代码\n",
    "来显示学生是否通过了某门课。"
   ]
  },
  {
   "cell_type": "code",
   "execution_count": 9,
   "id": "35f9ad22",
   "metadata": {},
   "outputs": [
    {
     "ename": "IndentationError",
     "evalue": "expected an indented block (1731158769.py, line 3)",
     "output_type": "error",
     "traceback": [
      "\u001b[0;36m  Input \u001b[0;32mIn [9]\u001b[0;36m\u001b[0m\n\u001b[0;31m    print(\"You passed the class!\")\u001b[0m\n\u001b[0m    ^\u001b[0m\n\u001b[0;31mIndentationError\u001b[0m\u001b[0;31m:\u001b[0m expected an indented block\n"
     ]
    }
   ],
   "source": [
    "grade = 40\n",
    "if grade >= 70:\n",
    "    print(\"You passed the class!\")\n",
    "else:\n",
    "    print(\"你的成绩小于七十(\")\n",
    "print(\"Thank you for attending.\")"
   ]
  },
  {
   "cell_type": "markdown",
   "id": "771fb9c9",
   "metadata": {},
   "source": [
    "注意else关键字没有测试条件，后面有一个冒号。不需要条件，因为它对任何不能通过if语句测试条件的条件都会执行。"
   ]
  },
  {
   "cell_type": "markdown",
   "id": "c604aef6",
   "metadata": {},
   "source": [
    "如果你只需要测试一个正好有两种状态的条件，那么if和else这两个关键字就能很好地配合。\n",
    "一个条件，并且正好有两个状态。\n",
    "有时，你需要检查三个或更多的条件。对于这一点，你可以\n",
    "使用elif。"
   ]
  },
  {
   "cell_type": "markdown",
   "id": "97aa34a3",
   "metadata": {},
   "source": [
    "# elif 关键字\n",
    "> elif关键字是 \"else if \"的简称，可以用来在if语句后面添加额外的条件。\n",
    "就像if语句一样，elif语句有三个部分。  \n",
    "\n",
    "1. elif 关键字   \n",
    "\n",
    "\n",
    "2. 测试条件，后面加一个冒号  \n",
    "\n",
    "\n",
    "3. 一个缩进的代码块，如果测试条件被评估为 \"真\"，就会被执行。"
   ]
  },
  {
   "cell_type": "markdown",
   "id": "5229f27f",
   "metadata": {},
   "source": [
    "下面的脚本结合if、elif和else来打印学生在班级中获得的字母等级。"
   ]
  },
  {
   "cell_type": "code",
   "execution_count": 11,
   "id": "d751e20e",
   "metadata": {},
   "outputs": [
    {
     "name": "stdout",
     "output_type": "stream",
     "text": [
      "You passed the class with a B.\n",
      "谢谢参加\n"
     ]
    }
   ],
   "source": [
    "grade=75 #1\n",
    "\n",
    "\n",
    "# 一个if是一个整体 ，elif 和else只是if的附属结构属于相同缩进的if结构\n",
    "if grade>=90: #2 \n",
    "    print(\"You passed the class with a A.\")\n",
    "if  grade >= 80: # 3 \n",
    "    print(\"You passed the class with a B.\")\n",
    "if grade >= 70: # 4\n",
    "    print(\"You passed the class with a C.\")\n",
    "else: # 5\n",
    "    print(\"You did not pass the class :(\")\n",
    "\n",
    "# 对于if语句的一个整体 只会执行其中一条语句\n",
    "    \n",
    "    \n",
    "print(\"谢谢参加\") # 6"
   ]
  },
  {
   "cell_type": "markdown",
   "id": "99fc0519",
   "metadata": {},
   "source": [
    "只要if、elif、else中的其中一个条件满足就会跳出，也就是只会执行一个。\n"
   ]
  },
  {
   "cell_type": "markdown",
   "id": "875f2a98",
   "metadata": {},
   "source": [
    "\n",
    "\n",
    "\n",
    "\n"
   ]
  },
  {
   "cell_type": "code",
   "execution_count": 4,
   "id": "b2fb8481",
   "metadata": {},
   "outputs": [
    {
     "name": "stdout",
     "output_type": "stream",
     "text": [
      "1\n"
     ]
    }
   ],
   "source": [
    "if 如果\n",
    "elif 如果是另一种情况\n",
    "else 实在不行，就执行这个\n"
   ]
  },
  {
   "cell_type": "code",
   "execution_count": null,
   "id": "483d01c7",
   "metadata": {},
   "outputs": [],
   "source": [
    "append insert(len,)"
   ]
  }
 ],
 "metadata": {
  "kernelspec": {
   "display_name": "Python 3",
   "language": "python",
   "name": "python3"
  },
  "language_info": {
   "codemirror_mode": {
    "name": "ipython",
    "version": 3
   },
   "file_extension": ".py",
   "mimetype": "text/x-python",
   "name": "python",
   "nbconvert_exporter": "python",
   "pygments_lexer": "ipython3",
   "version": "3.10.8"
  },
  "vscode": {
   "interpreter": {
    "hash": "b0fa6594d8f4cbf19f97940f81e996739fb7646882a419484c72d19e05852a7e"
   }
  }
 },
 "nbformat": 4,
 "nbformat_minor": 5
}
