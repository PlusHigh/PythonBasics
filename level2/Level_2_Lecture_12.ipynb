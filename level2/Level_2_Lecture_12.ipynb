{
 "cells": [
  {
   "cell_type": "code",
   "execution_count": 7,
   "metadata": {},
   "outputs": [
    {
     "name": "stdout",
     "output_type": "stream",
     "text": [
      "[5, 7, 17]\n",
      "[10, 48, 34]\n"
     ]
    }
   ],
   "source": [
    "a=[34,17,7,48,10,5]\n",
    "b=[]\n",
    "c=[]\n",
    "while len(a)>0:\n",
    "    s=a.pop()\n",
    "    if s%2 :\n",
    "        b.append(s)\n",
    "    else:\n",
    "        c.append(s)\n",
    "print(b)\n",
    "print(c)"
   ]
  },
  {
   "cell_type": "code",
   "execution_count": 15,
   "metadata": {},
   "outputs": [],
   "source": [
    "import turtle\n",
    "for i in range(1,7):\n",
    "    turtle.fd(50)\n",
    "    turtle.left(60)"
   ]
  },
  {
   "cell_type": "code",
   "execution_count": 13,
   "metadata": {},
   "outputs": [
    {
     "name": "stdout",
     "output_type": "stream",
     "text": [
      "True\n"
     ]
    }
   ],
   "source": [
    "a = ''\n",
    "if a:\n",
    "    print('True')"
   ]
  },
  {
   "cell_type": "code",
   "execution_count": 2,
   "metadata": {},
   "outputs": [
    {
     "name": "stdout",
     "output_type": "stream",
     "text": [
      "None\n"
     ]
    }
   ],
   "source": [
    "listV = list(range(10))\n",
    "print(listV.reverse())"
   ]
  },
  {
   "cell_type": "code",
   "execution_count": 14,
   "metadata": {},
   "outputs": [
    {
     "name": "stdout",
     "output_type": "stream",
     "text": [
      "[1, 6, 8]\n",
      "[1, 6, 8]\n"
     ]
    }
   ],
   "source": [
    "ls = [[0,1],[5,6],[7,8]]\n",
    "\n",
    "\n",
    "lis = []\n",
    "for i in range(len(ls)):\n",
    "    lis.append(ls[i][1])\n",
    "\n",
    "\n",
    "list = [ ls[i][1] for i in range(len(ls)) ]\n",
    "\n",
    "\n",
    "print(lis)\n",
    "print(list)"
   ]
  },
  {
   "cell_type": "markdown",
   "metadata": {},
   "source": [
    "## 字典删除方法\n",
    "\n",
    "> pop()和popitem()，这两种方法的作用不同，操作方法及返回值都不相同。\n",
    "pop (key[,default])\n",
    "其中，key是必选参数，必须给出，default是可选参数，可以不给出。\n",
    "如果键值key在字典中存在，删除dict[key]，返回 dict[key]的value值。\n",
    "否则，如有给出default值则返回default值，如果default值没有给出，就会报出KeyError异常。\n",
    "pop()方法至少接受一个参数，最多接受两个参数。\n",
    "\n",
    "### 仅给出key且key在字典中 或 key和default都给出且key在字典中\n"
   ]
  },
  {
   "cell_type": "code",
   "execution_count": 5,
   "metadata": {},
   "outputs": [
    {
     "name": "stdout",
     "output_type": "stream",
     "text": [
      "pop_obj: 2\n",
      "dict: {'a': 1, 'c': 3, 'd': 4}\n",
      "pop_obj: 2\n",
      "dict: {'a': 1, 'c': 3, 'd': 4}\n"
     ]
    }
   ],
   "source": [
    "d = {'a': 1, 'b': 2, 'c': 3, 'd': 4}\n",
    "pop_obj = d.pop('b')\n",
    "print('pop_obj:', pop_obj)\n",
    "print('dict:', d)\n",
    "\n",
    "d = {'a': 1, 'b': 2, 'c': 3, 'd': 4}\n",
    "pop_obj = d.pop('b', 'none')\n",
    "print('pop_obj:', pop_obj)\n",
    "print('dict:', d)\n"
   ]
  },
  {
   "cell_type": "markdown",
   "metadata": {},
   "source": [
    "### 仅给出key且key不在字典中"
   ]
  },
  {
   "cell_type": "code",
   "execution_count": 6,
   "metadata": {},
   "outputs": [
    {
     "ename": "KeyError",
     "evalue": "'e'",
     "output_type": "error",
     "traceback": [
      "\u001b[0;31m---------------------------------------------------------------------------\u001b[0m",
      "\u001b[0;31mKeyError\u001b[0m                                  Traceback (most recent call last)",
      "\u001b[1;32m/Users/zenghao/WorkSpace/pythonbasics/level2/Level_2_Lecture_13.ipynb Cell 5\u001b[0m in \u001b[0;36m<cell line: 2>\u001b[0;34m()\u001b[0m\n\u001b[1;32m      <a href='vscode-notebook-cell:/Users/zenghao/WorkSpace/pythonbasics/level2/Level_2_Lecture_13.ipynb#X11sZmlsZQ%3D%3D?line=0'>1</a>\u001b[0m d \u001b[39m=\u001b[39m {\u001b[39m'\u001b[39m\u001b[39ma\u001b[39m\u001b[39m'\u001b[39m: \u001b[39m1\u001b[39m, \u001b[39m'\u001b[39m\u001b[39mb\u001b[39m\u001b[39m'\u001b[39m: \u001b[39m2\u001b[39m, \u001b[39m'\u001b[39m\u001b[39mc\u001b[39m\u001b[39m'\u001b[39m: \u001b[39m3\u001b[39m, \u001b[39m'\u001b[39m\u001b[39md\u001b[39m\u001b[39m'\u001b[39m: \u001b[39m4\u001b[39m}\n\u001b[0;32m----> <a href='vscode-notebook-cell:/Users/zenghao/WorkSpace/pythonbasics/level2/Level_2_Lecture_13.ipynb#X11sZmlsZQ%3D%3D?line=1'>2</a>\u001b[0m pop_obj \u001b[39m=\u001b[39m d\u001b[39m.\u001b[39;49mpop(\u001b[39m'\u001b[39;49m\u001b[39me\u001b[39;49m\u001b[39m'\u001b[39;49m)\n\u001b[1;32m      <a href='vscode-notebook-cell:/Users/zenghao/WorkSpace/pythonbasics/level2/Level_2_Lecture_13.ipynb#X11sZmlsZQ%3D%3D?line=2'>3</a>\u001b[0m \u001b[39mprint\u001b[39m(\u001b[39m'\u001b[39m\u001b[39mpop_obj:\u001b[39m\u001b[39m'\u001b[39m, pop_obj)\n",
      "\u001b[0;31mKeyError\u001b[0m: 'e'"
     ]
    }
   ],
   "source": [
    "d = {'a': 1, 'b': 2, 'c': 3, 'd': 4}\n",
    "pop_obj = d.pop('e')\n",
    "print('pop_obj:', pop_obj)\n"
   ]
  },
  {
   "cell_type": "markdown",
   "metadata": {},
   "source": [
    "### 给出key和default值且key不在字典中"
   ]
  },
  {
   "cell_type": "code",
   "execution_count": 16,
   "metadata": {},
   "outputs": [
    {
     "name": "stdout",
     "output_type": "stream",
     "text": [
      "pop_obj: none\n",
      "dict: {'a': 1, 'b': 2, 'c': 3, 'd': 4}\n"
     ]
    },
    {
     "ename": "",
     "evalue": "",
     "output_type": "error",
     "traceback": [
      "\u001b[1;31mThe Kernel crashed while executing code in the the current cell or a previous cell. Please review the code in the cell(s) to identify a possible cause of the failure. Click <a href='https://aka.ms/vscodeJupyterKernelCrash'>here</a> for more info. View Jupyter <a href='command:jupyter.viewOutput'>log</a> for further details."
     ]
    }
   ],
   "source": [
    "d = {'a': 1, 'b': 2, 'c': 3, 'd': 4}\n",
    "pop_obj = d.pop('e', 'none')\n",
    "print('pop_obj:', pop_obj)\n",
    "print('dict:', d)\n"
   ]
  },
  {
   "cell_type": "markdown",
   "metadata": {},
   "source": [
    "#### popitem()\n",
    "> 随机删除字典中的一个键值对，并且返回该键值对，(key,value)形式。\n",
    "如果字典已经为空，却调用了此方法，就报出KeyError异常。"
   ]
  },
  {
   "cell_type": "code",
   "execution_count": 12,
   "metadata": {},
   "outputs": [
    {
     "name": "stdout",
     "output_type": "stream",
     "text": [
      "{'a': 1, 'b': 2, 'c': 3, 'd': 4}\n",
      "pop_obj: ('d', 4)\n",
      "dict: {'a': 1, 'b': 2, 'c': 3}\n",
      "pop_obj: ('c', 3)\n",
      "dict: {'a': 1, 'b': 2}\n"
     ]
    }
   ],
   "source": [
    "d = {'a': 1, 'b': 2, 'c': 3, 'd': 4}\n",
    "print(d)\n",
    "pop_obj = d.popitem()\n",
    "print('pop_obj:', pop_obj)\n",
    "print('dict:', d)\n",
    "pop_obj = d.popitem()\n",
    "print('pop_obj:', pop_obj)\n",
    "print('dict:', d)\n"
   ]
  },
  {
   "cell_type": "markdown",
   "metadata": {},
   "source": [
    "### 字符串replace() 方法\n",
    "> 把字符串中的 old（旧字符串） 替换成 new(新字符串)，如果指定第三个参数max，则替换不超过 max 次。\n",
    "\n",
    "\n",
    "- 用法：\n",
    "\n",
    "str # 某一个字符串\n",
    "\n",
    "str.replace(old,new,max) # 将str中的old换成new，最多换max次\n",
    "\n"
   ]
  },
  {
   "cell_type": "code",
   "execution_count": 13,
   "metadata": {},
   "outputs": [
    {
     "name": "stdout",
     "output_type": "stream",
     "text": [
      "thwas was string example....wow!!! thwas was really string\n",
      "thwas was string example....wow!!! thwas is really string\n"
     ]
    }
   ],
   "source": [
    "str = \"this is string example....wow!!! this is really string\"\n",
    "res1 = str.replace(\"is\", \"was\") # is换was，不限次数\n",
    "res2 = str.replace(\"is\", \"was\", 3) # is换was，最多3次\n",
    "\n",
    "print(res1)\n",
    "print(res2)\n",
    "\n",
    "\n",
    "\n"
   ]
  },
  {
   "cell_type": "markdown",
   "metadata": {},
   "source": [
    "### split 方法\n",
    "> Python split() 通过指定分隔符对字符串进行切片，如果参数 num 有指定值，则分隔 num+1 个子字符串"
   ]
  },
  {
   "cell_type": "code",
   "execution_count": 14,
   "metadata": {},
   "outputs": [
    {
     "name": "stdout",
     "output_type": "stream",
     "text": [
      "['Line1-abcdef', '\\nLine2-abc', '\\nLine4-abcd']\n",
      "['Line1-abcdef', '\\nLine2-abc \\nLine4-abcd']\n"
     ]
    }
   ],
   "source": [
    "str = \"Line1-abcdef \\nLine2-abc \\nLine4-abcd\";\n",
    "print(str.split(' '));       # 以空格为分隔符，包含 \\n\n",
    "print(str.split(' ', 1 )); # 以空格为分隔符，分隔成两个"
   ]
  },
  {
   "cell_type": "code",
   "execution_count": 1,
   "metadata": {},
   "outputs": [
    {
     "name": "stdout",
     "output_type": "stream",
     "text": [
      "True\n",
      "True\n"
     ]
    }
   ],
   "source": [
    "if 'False' :\n",
    "    print(\"True\")\n",
    "else :\n",
    "  \n",
    "# 如果某条件成立，那么 进行 操作， 如果不成立， 什么也不做 else 如果不成立， 那么我有另外的操作\n",
    "'False' and print('True')\n",
    "# and 操作符， 懒加载， 如果第一个条件为真，才判断第二个条件，如果为假，就结束\n"
   ]
  },
  {
   "cell_type": "code",
   "execution_count": 2,
   "metadata": {},
   "outputs": [
    {
     "name": "stdout",
     "output_type": "stream",
     "text": [
      "一\n",
      "二\n",
      "三\n",
      "四\n"
     ]
    },
    {
     "ename": "ValueError",
     "evalue": "invalid literal for int() with base 10: ''",
     "output_type": "error",
     "traceback": [
      "\u001b[0;31m---------------------------------------------------------------------------\u001b[0m",
      "\u001b[0;31mValueError\u001b[0m                                Traceback (most recent call last)",
      "\u001b[1;32m/Users/zenghao/WorkSpace/pythonbasics/level2/Level_2_Lecture_12.ipynb Cell 19\u001b[0m in \u001b[0;36m<cell line: 3>\u001b[0;34m()\u001b[0m\n\u001b[1;32m      <a href='vscode-notebook-cell:/Users/zenghao/WorkSpace/pythonbasics/level2/Level_2_Lecture_12.ipynb#X33sZmlsZQ%3D%3D?line=0'>1</a>\u001b[0m dd\u001b[39m=\u001b[39m[\u001b[39m\"\u001b[39m\u001b[39m零\u001b[39m\u001b[39m\"\u001b[39m,\u001b[39m'\u001b[39m\u001b[39m一\u001b[39m\u001b[39m'\u001b[39m,\u001b[39m'\u001b[39m\u001b[39m二\u001b[39m\u001b[39m'\u001b[39m,\u001b[39m'\u001b[39m\u001b[39m三\u001b[39m\u001b[39m'\u001b[39m,\u001b[39m'\u001b[39m\u001b[39m四\u001b[39m\u001b[39m'\u001b[39m,\u001b[39m'\u001b[39m\u001b[39m五\u001b[39m\u001b[39m'\u001b[39m,\u001b[39m'\u001b[39m\u001b[39m六\u001b[39m\u001b[39m'\u001b[39m,\u001b[39m'\u001b[39m\u001b[39m七\u001b[39m\u001b[39m'\u001b[39m,\u001b[39m'\u001b[39m\u001b[39m八\u001b[39m\u001b[39m'\u001b[39m,\u001b[39m'\u001b[39m\u001b[39m九\u001b[39m\u001b[39m'\u001b[39m]\n\u001b[1;32m      <a href='vscode-notebook-cell:/Users/zenghao/WorkSpace/pythonbasics/level2/Level_2_Lecture_12.ipynb#X33sZmlsZQ%3D%3D?line=1'>2</a>\u001b[0m \u001b[39mwhile\u001b[39;00m \u001b[39m1\u001b[39m:\n\u001b[0;32m----> <a href='vscode-notebook-cell:/Users/zenghao/WorkSpace/pythonbasics/level2/Level_2_Lecture_12.ipynb#X33sZmlsZQ%3D%3D?line=2'>3</a>\u001b[0m     a\u001b[39m=\u001b[39m\u001b[39mint\u001b[39;49m(\u001b[39minput\u001b[39;49m(\u001b[39m'\u001b[39;49m\u001b[39m输入数字：\u001b[39;49m\u001b[39m'\u001b[39;49m))\n\u001b[1;32m      <a href='vscode-notebook-cell:/Users/zenghao/WorkSpace/pythonbasics/level2/Level_2_Lecture_12.ipynb#X33sZmlsZQ%3D%3D?line=3'>4</a>\u001b[0m     \u001b[39mprint\u001b[39m(dd[a])\n",
      "\u001b[0;31mValueError\u001b[0m: invalid literal for int() with base 10: ''"
     ]
    }
   ],
   "source": [
    "dd=[\"零\",'一','二','三','四','五','六','七','八','九']\n",
    "while 1:\n",
    "    a=int(input('输入数字：'))\n",
    "    print(dd[a])"
   ]
  },
  {
   "cell_type": "code",
   "execution_count": 4,
   "metadata": {},
   "outputs": [
    {
     "data": {
      "text/plain": [
       "[80, 86, 89, 94, 92, 75, 87, 86, 95]"
      ]
     },
     "execution_count": 4,
     "metadata": {},
     "output_type": "execute_result"
    }
   ],
   "source": [
    "b = [99, 80, 86, 89, 94, 92, 75, 87, 86, 95] # 录入10位评委的打分 \n",
    "maxNum = max(b) # 将最高分保存在maxNum变量中 \n",
    "# b.remove(maxNum) # 使用remove()函数将最高分去掉 \n",
    "del b[b.index(maxNum)]\n",
    "b"
   ]
  },
  {
   "cell_type": "code",
   "execution_count": 1,
   "metadata": {},
   "outputs": [
    {
     "name": "stdout",
     "output_type": "stream",
     "text": [
      "None\n"
     ]
    }
   ],
   "source": []
  },
  {
   "cell_type": "code",
   "execution_count": null,
   "metadata": {},
   "outputs": [],
   "source": []
  }
 ],
 "metadata": {
  "kernelspec": {
   "display_name": "Python 3.9.12 ('env_tf')",
   "language": "python",
   "name": "python3"
  },
  "language_info": {
   "codemirror_mode": {
    "name": "ipython",
    "version": 3
   },
   "file_extension": ".py",
   "mimetype": "text/x-python",
   "name": "python",
   "nbconvert_exporter": "python",
   "pygments_lexer": "ipython3",
   "version": "3.9.12"
  },
  "orig_nbformat": 4,
  "vscode": {
   "interpreter": {
    "hash": "b816af80ce6e57c39048368ff3aa3448b5b147bd154d524c2f8f356fb26241bb"
   }
  }
 },
 "nbformat": 4,
 "nbformat_minor": 2
}
