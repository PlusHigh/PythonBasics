{
 "cells": [
  {
   "cell_type": "code",
   "execution_count": 2,
   "metadata": {},
   "outputs": [
    {
     "data": {
      "text/plain": [
       "True"
      ]
     },
     "execution_count": 2,
     "metadata": {},
     "output_type": "execute_result"
    }
   ],
   "source": [
    "\"abc\"in \"abcdef\" "
   ]
  },
  {
   "cell_type": "code",
   "execution_count": 1,
   "metadata": {},
   "outputs": [
    {
     "name": "stdout",
     "output_type": "stream",
     "text": [
      "72\n"
     ]
    }
   ],
   "source": [
    "count = 0\n",
    "for i in range(1,10):\n",
    "    for j in range(1,10):\n",
    "        if i==j:\n",
    "            continue\n",
    "        count = count + 1\n",
    "print(count)"
   ]
  },
  {
   "cell_type": "code",
   "execution_count": 3,
   "metadata": {},
   "outputs": [
    {
     "name": "stdout",
     "output_type": "stream",
     "text": [
      "[1, 2, 3, 4, 5, 6, 7, 8, 9]\n"
     ]
    }
   ],
   "source": [
    "# 合并两个非递减列表，输出一个非递减列表\n",
    "\n",
    "\n",
    "\n",
    "\n",
    "\n",
    "\n",
    "\n",
    "\n",
    "\n",
    "# 归并,合并两个列表或者线性的数据类型\n",
    "\n",
    "\n",
    "a = list(range(1,10,2))\n",
    "b = list(range(2,10,2))\n",
    "\n",
    "c = []\n",
    " \n",
    "while( len(a) and len(b) ):\n",
    "    if(a[0]< b[0]):\n",
    "        c.append(a.pop(0))\n",
    "    else:\n",
    "        c.append(b.pop(0))\n",
    "\n",
    "while( len(a) > 0 ):\n",
    "    c.extend(a)\n",
    "    a.clear()\n",
    "while(len(b) > 0 ):\n",
    "    c.extend(b)\n",
    "    b.clear()\n",
    "print(c)\n",
    "\n",
    "\n",
    "\n"
   ]
  },
  {
   "cell_type": "code",
   "execution_count": null,
   "metadata": {},
   "outputs": [],
   "source": []
  },
  {
   "cell_type": "code",
   "execution_count": null,
   "metadata": {},
   "outputs": [],
   "source": []
  }
 ],
 "metadata": {
  "kernelspec": {
   "display_name": "Python 3.9.12 ('env_tf')",
   "language": "python",
   "name": "python3"
  },
  "language_info": {
   "codemirror_mode": {
    "name": "ipython",
    "version": 3
   },
   "file_extension": ".py",
   "mimetype": "text/x-python",
   "name": "python",
   "nbconvert_exporter": "python",
   "pygments_lexer": "ipython3",
   "version": "3.9.12"
  },
  "orig_nbformat": 4,
  "vscode": {
   "interpreter": {
    "hash": "b816af80ce6e57c39048368ff3aa3448b5b147bd154d524c2f8f356fb26241bb"
   }
  }
 },
 "nbformat": 4,
 "nbformat_minor": 2
}
