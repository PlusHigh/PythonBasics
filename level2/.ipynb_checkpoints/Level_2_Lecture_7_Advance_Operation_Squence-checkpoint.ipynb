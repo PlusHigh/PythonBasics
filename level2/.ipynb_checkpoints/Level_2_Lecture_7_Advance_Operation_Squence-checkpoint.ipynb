{
 "cells": [
  {
   "cell_type": "markdown",
   "id": "5d34e67b",
   "metadata": {},
   "source": [
    "# 嵌套、拷贝、排序\n",
    "\n",
    "- nesting\n",
    "- copying\n",
    "- sort\n"
   ]
  },
  {
   "cell_type": "markdown",
   "id": "486acabb",
   "metadata": {},
   "source": [
    "## 嵌套\n",
    "因为元组和列表都可以包含任何类型的值，也就是说，列表可以套列表，元组可以套元组，列表套元组等等……"
   ]
  },
  {
   "cell_type": "code",
   "execution_count": 1,
   "id": "0a3e0f9a",
   "metadata": {},
   "outputs": [],
   "source": [
    "two_by_two = [[1, 2], [3, 4]]"
   ]
  },
  {
   "cell_type": "code",
   "execution_count": 2,
   "id": "ee19bbfd",
   "metadata": {},
   "outputs": [
    {
     "data": {
      "text/plain": [
       "2"
      ]
     },
     "execution_count": 2,
     "metadata": {},
     "output_type": "execute_result"
    }
   ],
   "source": [
    "\n",
    "len(two_by_two)"
   ]
  },
  {
   "cell_type": "code",
   "execution_count": 4,
   "id": "8b7e0d76",
   "metadata": {},
   "outputs": [
    {
     "data": {
      "text/plain": [
       "[3, 4]"
      ]
     },
     "execution_count": 4,
     "metadata": {},
     "output_type": "execute_result"
    }
   ],
   "source": [
    "two_by_two[1]"
   ]
  },
  {
   "cell_type": "markdown",
   "id": "6d00e2f2",
   "metadata": {},
   "source": [
    "因为返回的值又是一个元组或者列表，又因为我们可以对元组或者列表使用[] 传递索引的方式来获取某些元素，所以"
   ]
  },
  {
   "cell_type": "code",
   "execution_count": 5,
   "id": "7e465e75",
   "metadata": {},
   "outputs": [
    {
     "data": {
      "text/plain": [
       "3"
      ]
     },
     "execution_count": 5,
     "metadata": {},
     "output_type": "execute_result"
    }
   ],
   "source": [
    "two_by_two[1][0]"
   ]
  },
  {
   "cell_type": "markdown",
   "id": "d893c57b",
   "metadata": {},
   "source": [
    "## 拷贝\n",
    "\n",
    "场景：有的时候你需要将一个列表中的内容复制到另一个列表中\n",
    "\n",
    "思考：能不能直接将一个列表对象赋值给另一个列表对象？ 或者说能不能直接用 = ？"
   ]
  },
  {
   "cell_type": "code",
   "execution_count": 6,
   "id": "1d0b10f4",
   "metadata": {},
   "outputs": [],
   "source": [
    "animals = [\"lion\", \"tiger\", \"frumious Bandersnatch\"]"
   ]
  },
  {
   "cell_type": "code",
   "execution_count": 7,
   "id": "7c9a5a6a",
   "metadata": {},
   "outputs": [],
   "source": [
    "large_cats = animals"
   ]
  },
  {
   "cell_type": "code",
   "execution_count": 8,
   "id": "325095a6",
   "metadata": {},
   "outputs": [],
   "source": [
    "large_cats.append('panda')"
   ]
  },
  {
   "cell_type": "code",
   "execution_count": 9,
   "id": "6c013f09",
   "metadata": {},
   "outputs": [
    {
     "data": {
      "text/plain": [
       "['lion', 'tiger', 'frumious Bandersnatch', 'panda']"
      ]
     },
     "execution_count": 9,
     "metadata": {},
     "output_type": "execute_result"
    }
   ],
   "source": [
    "animals"
   ]
  },
  {
   "cell_type": "code",
   "execution_count": 10,
   "id": "65e914d8",
   "metadata": {},
   "outputs": [
    {
     "data": {
      "text/plain": [
       "(4399184064, 4399184064)"
      ]
     },
     "execution_count": 10,
     "metadata": {},
     "output_type": "execute_result"
    }
   ],
   "source": [
    "id(animals),id(large_cats)"
   ]
  },
  {
   "cell_type": "markdown",
   "id": "af7bd44f",
   "metadata": {},
   "source": [
    "为什么会出现这种情况？\n",
    "\n",
    "回想一下上节课讲过的内存，每个变量其实保存的是这个值/对象/存储空间在内存中的地址（address）\n",
    "\n",
    "为了获取一份独立于原来那块存储空间的新的列表，我们可以使用切片\n",
    "\n",
    "思考：\n",
    "- 为什么可以用切片？\n",
    "\n",
    "- \n",
    "\n"
   ]
  },
  {
   "cell_type": "code",
   "execution_count": null,
   "id": "37a0b2c4",
   "metadata": {},
   "outputs": [],
   "source": []
  }
 ],
 "metadata": {
  "kernelspec": {
   "display_name": "Python [conda env:torch-gpu] *",
   "language": "python",
   "name": "conda-env-torch-gpu-py"
  },
  "language_info": {
   "codemirror_mode": {
    "name": "ipython",
    "version": 3
   },
   "file_extension": ".py",
   "mimetype": "text/x-python",
   "name": "python",
   "nbconvert_exporter": "python",
   "pygments_lexer": "ipython3",
   "version": "3.8.13"
  }
 },
 "nbformat": 4,
 "nbformat_minor": 5
}
