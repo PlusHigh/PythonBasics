{
 "cells": [
  {
   "cell_type": "markdown",
   "id": "38e6937f",
   "metadata": {},
   "source": [
    "# Break Out of the Pattern\n",
    "从循环中解脱出来\n",
    "\n",
    "我们之前学过了if分支语句还学过了for这种循环语句，我们现在想办法将其结合起来\n",
    "\n",
    "我们将会学到什么：\n",
    "\n",
    "- break\n",
    "- continue\n",
    "- 使用他们更加精确地控制循环的执行过程"
   ]
  },
  {
   "cell_type": "code",
   "execution_count": 3,
   "id": "39d6bac1",
   "metadata": {},
   "outputs": [
    {
     "name": "stdout",
     "output_type": "stream",
     "text": [
      "2450\n"
     ]
    }
   ],
   "source": [
    "sum_of_evens = 0\n",
    "for n in range(1, 100): \n",
    "    if n % 2 == 0:\n",
    "        sum_of_evens = sum_of_evens + n \n",
    "print(sum_of_evens)"
   ]
  },
  {
   "cell_type": "markdown",
   "id": "54b95af8",
   "metadata": {},
   "source": [
    "### break \n",
    "\n",
    "打破，打断，终止"
   ]
  },
  {
   "cell_type": "code",
   "execution_count": 4,
   "id": "88386816",
   "metadata": {},
   "outputs": [
    {
     "name": "stdout",
     "output_type": "stream",
     "text": [
      "0\n",
      "1\n",
      "Finished with n = 2\n"
     ]
    }
   ],
   "source": [
    "for n in range(0, 4): \n",
    "    if n == 2:\n",
    "        break  #  执行到这就停了\n",
    "    print(n)\n",
    "print(f\"Finished with n = {n}\")"
   ]
  },
  {
   "cell_type": "markdown",
   "id": "7bf093ad",
   "metadata": {},
   "source": [
    "### continue\n",
    "继续-〉执行下一次"
   ]
  },
  {
   "cell_type": "code",
   "execution_count": 6,
   "id": "1675c8f7",
   "metadata": {},
   "outputs": [
    {
     "name": "stdout",
     "output_type": "stream",
     "text": [
      "0\n",
      "1\n",
      "3\n",
      "Finished with n = 3\n"
     ]
    }
   ],
   "source": [
    "for n in range(0, 4): \n",
    "    if n == 2:\n",
    "        continue # 当n==2时跳到下次循环“\n",
    "    print(n)\n",
    "print(f\"Finished with n = {n}\")"
   ]
  },
  {
   "cell_type": "markdown",
   "id": "30d2c46d",
   "metadata": {},
   "source": []
  }
 ],
 "metadata": {
  "kernelspec": {
   "display_name": "Python [conda env:torch-gpu] *",
   "language": "python",
   "name": "conda-env-torch-gpu-py"
  },
  "language_info": {
   "codemirror_mode": {
    "name": "ipython",
    "version": 3
   },
   "file_extension": ".py",
   "mimetype": "text/x-python",
   "name": "python",
   "nbconvert_exporter": "python",
   "pygments_lexer": "ipython3",
   "version": "3.8.13"
  }
 },
 "nbformat": 4,
 "nbformat_minor": 5
}
