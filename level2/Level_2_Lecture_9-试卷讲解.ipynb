{
 "cells": [
  {
   "cell_type": "code",
   "execution_count": 6,
   "id": "f9a03d57",
   "metadata": {},
   "outputs": [
    {
     "data": {
      "text/plain": [
       "[0, 2, 4, 6, 8, 10, 12, 14, 16, 18]"
      ]
     },
     "execution_count": 6,
     "metadata": {},
     "output_type": "execute_result"
    }
   ],
   "source": [
    "array = []\n",
    "for i in range(100):\n",
    "    i%2==0 and array.append(i)\n",
    "array[:10]\n",
    "\n",
    "\n"
   ]
  },
  {
   "cell_type": "code",
   "execution_count": 7,
   "id": "7a658253",
   "metadata": {},
   "outputs": [
    {
     "data": {
      "text/plain": [
       "[4, 5, 6, 1, 2, 3]"
      ]
     },
     "execution_count": 7,
     "metadata": {},
     "output_type": "execute_result"
    }
   ],
   "source": [
    "l = [4,5,6]\n",
    "l[len(l):]=[1,2,3]\n",
    "l"
   ]
  },
  {
   "cell_type": "code",
   "execution_count": 8,
   "id": "59f03696",
   "metadata": {},
   "outputs": [
    {
     "data": {
      "text/plain": [
       "'思考力'"
      ]
     },
     "execution_count": 8,
     "metadata": {},
     "output_type": "execute_result"
    }
   ],
   "source": [
    "str = \"学习力,思考力,行动力,创造力\"\n",
    "str[4:7]"
   ]
  },
  {
   "cell_type": "code",
   "execution_count": 5,
   "id": "9afa2c79",
   "metadata": {},
   "outputs": [
    {
     "data": {
      "text/plain": [
       "{'a': 150, 'b': 200, 'c': 300}"
      ]
     },
     "execution_count": 5,
     "metadata": {},
     "output_type": "execute_result"
    }
   ],
   "source": [
    "a = 'a' \n",
    "d1 = {'a': 100, 'b': 200, 'c':300}\n",
    "d1['a'] = 150\n",
    "d1"
   ]
  },
  {
   "cell_type": "code",
   "execution_count": 15,
   "id": "3df4f74f",
   "metadata": {},
   "outputs": [
    {
     "name": "stdout",
     "output_type": "stream",
     "text": [
      "3\n"
     ]
    }
   ],
   "source": [
    "words = {\"Chinese\":\"中文\", \"English\":\"英语\", \"French\":\"法语\", \"Korean\":\"韩语\"}\n",
    "del words[\"French\"]\n",
    "print(len(words))"
   ]
  },
  {
   "cell_type": "code",
   "execution_count": 3,
   "id": "460f5d0e",
   "metadata": {},
   "outputs": [
    {
     "data": {
      "text/plain": [
       "[1, 3, 5, 6]"
      ]
     },
     "execution_count": 3,
     "metadata": {},
     "output_type": "execute_result"
    }
   ],
   "source": [
    "lis = [1, 2, 3, 4, 5, 6]\n",
    "del lis[1:2]\n",
    "# lis.remove(4)\n",
    "# lis[0] = lis.pop(0)\n",
    "# print(lis)\n",
    "lis.remove(4)\n",
    "lis[0] = lis.pop(0) # 关键点在pop是一个inplace操作，所以lis本身是发生变化了的\n"
   ]
  },
  {
   "cell_type": "code",
   "execution_count": 18,
   "id": "e46e260c",
   "metadata": {},
   "outputs": [
    {
     "name": "stdout",
     "output_type": "stream",
     "text": [
      "日\n",
      "复\n",
      "日\n"
     ]
    }
   ],
   "source": [
    "poem = \"明日复明日\"\n",
    "for i in poem:\n",
    "    if i == \"明\":\n",
    "        continue\n",
    "    print(i)"
   ]
  },
  {
   "cell_type": "code",
   "execution_count": 20,
   "id": "02f8438d",
   "metadata": {},
   "outputs": [
    {
     "data": {
      "text/plain": [
       "{'chinese': 90, 'math': 95}"
      ]
     },
     "execution_count": 20,
     "metadata": {},
     "output_type": "execute_result"
    }
   ],
   "source": [
    "dic=dict(chinese=90,math=95)\n",
    "dic"
   ]
  },
  {
   "cell_type": "code",
   "execution_count": 6,
   "id": "47188b63",
   "metadata": {},
   "outputs": [],
   "source": [
    "dic={'a':[(\"chinese\",90),(\"math\",95)]}"
   ]
  },
  {
   "cell_type": "code",
   "execution_count": 23,
   "id": "471f5081",
   "metadata": {},
   "outputs": [
    {
     "name": "stdout",
     "output_type": "stream",
     "text": [
      "2\n",
      "4\n",
      "6\n",
      "8\n",
      "10\n"
     ]
    }
   ],
   "source": [
    "i=1\n",
    "while i<=10:\n",
    "    i+=1\n",
    "    if i%2>0:\n",
    "        continue\n",
    "    print(i)"
   ]
  },
  {
   "cell_type": "code",
   "execution_count": 25,
   "id": "cebb82e3",
   "metadata": {},
   "outputs": [
    {
     "name": "stdout",
     "output_type": "stream",
     "text": [
      "7\n"
     ]
    }
   ],
   "source": [
    "for i in range(9):\n",
    "    if i * i > 40:\n",
    "         break\n",
    "print(i)"
   ]
  },
  {
   "cell_type": "code",
   "execution_count": 29,
   "id": "bf2108e3",
   "metadata": {},
   "outputs": [
    {
     "name": "stdout",
     "output_type": "stream",
     "text": [
      "感恩怜悯\n"
     ]
    }
   ],
   "source": [
    "character = [\"诚实\", \"感恩\", \"坚持\", \"守时\"]\n",
    "if not(\"怜悯\" in character):\n",
    "    character.append(\"怜悯\")\n",
    "    print(character[1] + character[-1])"
   ]
  },
  {
   "cell_type": "code",
   "execution_count": 8,
   "id": "ce5abce5",
   "metadata": {},
   "outputs": [
    {
     "data": {
      "text/plain": [
       "'003.25'"
      ]
     },
     "execution_count": 8,
     "metadata": {},
     "output_type": "execute_result"
    }
   ],
   "source": [
    "# %d       % f    %s \n",
    "# decimal  float  string\n",
    "# print(\"%d\",1)\n",
    "\n",
    "\n",
    "# {:}.format\n",
    "\n",
    "# .2f\n",
    "\n",
    "\"{:06.2f}\".format(3.2455)"
   ]
  },
  {
   "cell_type": "code",
   "execution_count": 31,
   "id": "b9957dae",
   "metadata": {},
   "outputs": [
    {
     "data": {
      "text/plain": [
       "6"
      ]
     },
     "execution_count": 31,
     "metadata": {},
     "output_type": "execute_result"
    }
   ],
   "source": [
    "6 if 3>2 else 5"
   ]
  },
  {
   "cell_type": "code",
   "execution_count": 33,
   "id": "042ec9fc",
   "metadata": {},
   "outputs": [
    {
     "data": {
      "text/plain": [
       "(2021, 1, 1)"
      ]
     },
     "execution_count": 33,
     "metadata": {},
     "output_type": "execute_result"
    }
   ],
   "source": [
    "d = (2020, 1, 1)\n",
    "d=(d[0]+1, 1, 1)\n",
    "d "
   ]
  },
  {
   "cell_type": "code",
   "execution_count": 34,
   "id": "7b9e1c75",
   "metadata": {},
   "outputs": [
    {
     "data": {
      "text/plain": [
       "[0, 2, 4, 6]"
      ]
     },
     "execution_count": 34,
     "metadata": {},
     "output_type": "execute_result"
    }
   ],
   "source": [
    "list(range(10))[0:8:2]"
   ]
  },
  {
   "cell_type": "code",
   "execution_count": 9,
   "id": "6e233f3a",
   "metadata": {},
   "outputs": [
    {
     "name": "stdout",
     "output_type": "stream",
     "text": [
      "请输入第一个整数2\n",
      "请输入第二个整数20\n",
      "2 是质数\n",
      "3 是质数\n",
      "5 是质数\n",
      "7 是质数\n",
      "11 是质数\n",
      "13 是质数\n",
      "17 是质数\n",
      "19 是质数\n"
     ]
    }
   ],
   "source": [
    "m = eval(input('请输入第一个整数'))\n",
    "n = eval(input('请输入第二个整数'))\n",
    "if( m > n ) : m,n = n,m\n",
    "for i in range(m,n+1):\n",
    "    t=True\n",
    "    for j in range(2,i//2+1):\n",
    "        if i%j==0:\n",
    "            t=False\n",
    "            break\n",
    "    if t:\n",
    "        print(i,'是质数')\n",
    "\n"
   ]
  },
  {
   "cell_type": "code",
   "execution_count": null,
   "id": "e69cadb1",
   "metadata": {},
   "outputs": [
    {
     "name": "stdout",
     "output_type": "stream",
     "text": [
      "请输入查询区号025\n",
      "南京\n",
      "请输入查询区号024\n",
      "南京\n"
     ]
    }
   ],
   "source": [
    "citys  = (('广州','上海','天津','重庆','沈阳','南京'),('020','021','022','023','024','025'))\n",
    "query = dict()\n",
    "for x in citys[0]:\n",
    "    for y in citys[1]:\n",
    "        query[y] = x\n",
    "while True:\n",
    "    print(query[input('请输入查询区号')])\n",
    "    "
   ]
  },
  {
   "cell_type": "code",
   "execution_count": 3,
   "id": "ffd4c2ed",
   "metadata": {},
   "outputs": [
    {
     "data": {
      "text/plain": [
       "[9, 111, 11, 1]"
      ]
     },
     "execution_count": 3,
     "metadata": {},
     "output_type": "execute_result"
    }
   ],
   "source": [
    "numbers = [1, 11, 111, 9]\n",
    "numbers.reverse()\n",
    "numbers"
   ]
  },
  {
   "cell_type": "code",
   "execution_count": 5,
   "id": "3017cb47",
   "metadata": {},
   "outputs": [
    {
     "data": {
      "text/plain": [
       "[3]"
      ]
     },
     "execution_count": 5,
     "metadata": {},
     "output_type": "execute_result"
    }
   ],
   "source": [
    "[3]"
   ]
  },
  {
   "cell_type": "code",
   "execution_count": null,
   "id": "7c26a1f2",
   "metadata": {},
   "outputs": [],
   "source": []
  }
 ],
 "metadata": {
  "kernelspec": {
   "display_name": "Python 3.9.12 ('env_tf')",
   "language": "python",
   "name": "python3"
  },
  "language_info": {
   "codemirror_mode": {
    "name": "ipython",
    "version": 3
   },
   "file_extension": ".py",
   "mimetype": "text/x-python",
   "name": "python",
   "nbconvert_exporter": "python",
   "pygments_lexer": "ipython3",
   "version": "3.9.12"
  },
  "vscode": {
   "interpreter": {
    "hash": "b816af80ce6e57c39048368ff3aa3448b5b147bd154d524c2f8f356fb26241bb"
   }
  }
 },
 "nbformat": 4,
 "nbformat_minor": 5
}
