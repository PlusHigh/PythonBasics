{
 "cells": [
  {
   "attachments": {},
   "cell_type": "markdown",
   "metadata": {},
   "source": [
    "## 编程题"
   ]
  },
  {
   "cell_type": "code",
   "execution_count": 1,
   "metadata": {},
   "outputs": [
    {
     "name": "stdout",
     "output_type": "stream",
     "text": [
      "dlroWolleH\n"
     ]
    }
   ],
   "source": [
    "# 1. 请反转一个字符串\n",
    "example  = \"HelloWorld\"\n",
    "print(example[::-1])"
   ]
  },
  {
   "cell_type": "code",
   "execution_count": 40,
   "metadata": {},
   "outputs": [
    {
     "name": "stdout",
     "output_type": "stream",
     "text": [
      "1234\n"
     ]
    }
   ],
   "source": [
    "# 2. python中怎么把一个列表[1,2,3,4]转换成一个数字123\n",
    "\n",
    "\n",
    "example = [1,2,3,4]\n",
    "new_example = []\n",
    "for i in example:\n",
    "    new_example.append(str(i))\n",
    "print(\"\".join(new_example))"
   ]
  },
  {
   "cell_type": "code",
   "execution_count": 5,
   "metadata": {},
   "outputs": [
    {
     "name": "stdout",
     "output_type": "stream",
     "text": [
      "['1', '2', '3']\n"
     ]
    }
   ],
   "source": [
    "# 3.如何实现 “1,2,3” 变成 [‘1’,’2’,’3’]\n",
    "example = \"1,2,3\"\n",
    "print(example.split(\",\"))\n"
   ]
  },
  {
   "cell_type": "code",
   "execution_count": 25,
   "metadata": {},
   "outputs": [
    {
     "name": "stdout",
     "output_type": "stream",
     "text": [
      "[1, 2, 3, 4, 5, 6, 7, 8, 9]\n",
      "dict_keys([1, 2, 3, 4, 5, 6, 7, 8, 9])\n"
     ]
    }
   ],
   "source": [
    "# 4.现有一列表 list, 请写出两种去除 list 中重复元素的方法\n",
    "example = [1,2,3,4,5,6,7,8,9,1,2,3,4,5,6,7,8,9]\n",
    "\n",
    "# 方法一  \n",
    "for i in example:\n",
    "    if example.count(i) > 1:\n",
    "        example.remove(i)\n",
    "print(example)\n",
    "\n",
    "# 方法二\n",
    "count_dict = {}\n",
    "for i in example:\n",
    "    if i not in count_dict:\n",
    "        count_dict[i] = 1\n",
    "    else:\n",
    "        count_dict[i] += 1\n",
    "print(count_dict.keys())"
   ]
  },
  {
   "cell_type": "code",
   "execution_count": 10,
   "metadata": {},
   "outputs": [
    {
     "name": "stdout",
     "output_type": "stream",
     "text": [
      "1*1=1 \n",
      "2*1=2 2*2=4 \n",
      "3*1=3 3*2=6 3*3=9 \n",
      "4*1=4 4*2=8 4*3=12 4*4=16 \n",
      "5*1=5 5*2=10 5*3=15 5*4=20 5*5=25 \n",
      "6*1=6 6*2=12 6*3=18 6*4=24 6*5=30 6*6=36 \n",
      "7*1=7 7*2=14 7*3=21 7*4=28 7*5=35 7*6=42 7*7=49 \n",
      "8*1=8 8*2=16 8*3=24 8*4=32 8*5=40 8*6=48 8*7=56 8*8=64 \n",
      "9*1=9 9*2=18 9*3=27 9*4=36 9*5=45 9*6=54 9*7=63 9*8=72 9*9=81 \n"
     ]
    }
   ],
   "source": [
    "# 5. 九九乘法表 上三角\n",
    "for i in range(1,10):\n",
    "    for j in range(1,i+1):\n",
    "        print(\"{}*{}={}\".format(i,j,i*j),end=\" \")\n",
    "    print()"
   ]
  },
  {
   "cell_type": "code",
   "execution_count": 15,
   "metadata": {},
   "outputs": [
    {
     "name": "stdout",
     "output_type": "stream",
     "text": [
      "1*1=1 1*2=2 1*3=3 1*4=4 1*5=5 1*6=6 1*7=7 1*8=8 1*9=9 \n",
      "2*1=2 2*2=4 2*3=6 2*4=8 2*5=10 2*6=12 2*7=14 2*8=16 \n",
      "3*1=3 3*2=6 3*3=9 3*4=12 3*5=15 3*6=18 3*7=21 \n",
      "4*1=4 4*2=8 4*3=12 4*4=16 4*5=20 4*6=24 \n",
      "5*1=5 5*2=10 5*3=15 5*4=20 5*5=25 \n",
      "6*1=6 6*2=12 6*3=18 6*4=24 \n",
      "7*1=7 7*2=14 7*3=21 \n",
      "8*1=8 8*2=16 \n",
      "9*1=9 \n"
     ]
    }
   ],
   "source": [
    "# 5. 九九乘法表 下三角\n",
    "for i in range(1,10):\n",
    "    for j in range(1,10-i+1):\n",
    "        print(\"{}*{}={}\".format(i,j,i*j),end=\" \")\n",
    "    print(\"\")"
   ]
  },
  {
   "cell_type": "code",
   "execution_count": null,
   "metadata": {},
   "outputs": [],
   "source": [
    "print"
   ]
  },
  {
   "cell_type": "code",
   "execution_count": 26,
   "metadata": {},
   "outputs": [
    {
     "name": "stdout",
     "output_type": "stream",
     "text": [
      "8\n"
     ]
    }
   ],
   "source": [
    "# 6.实现自己的pop函数，默认删除最后一个元素\n",
    "\n",
    "def my_pop(list):\n",
    "    if len(list) == 0:\n",
    "        return None\n",
    "    else:\n",
    "        last = list[-1]\n",
    "        list = list[:-1]\n",
    "        return last\n",
    "list = [1,2,3,4,5,6,7,8]\n",
    "print(my_pop(list))"
   ]
  },
  {
   "cell_type": "code",
   "execution_count": 27,
   "metadata": {},
   "outputs": [
    {
     "name": "stdout",
     "output_type": "stream",
     "text": [
      "[1, 2, 3, 4, 5, 6, 7, 8]\n"
     ]
    }
   ],
   "source": [
    "print(list)"
   ]
  },
  {
   "cell_type": "code",
   "execution_count": 28,
   "metadata": {},
   "outputs": [
    {
     "name": "stdout",
     "output_type": "stream",
     "text": [
      "[1, 2, 4, 5, 6, 7, 8]\n"
     ]
    }
   ],
   "source": [
    "# 7.实现自己的remove 函数，删除列表中的某个元素\n",
    "\n",
    "def my_remove(list,element):\n",
    "   return [i for i in list if i != element]\n",
    "print(my_remove(list,3))"
   ]
  },
  {
   "cell_type": "code",
   "execution_count": 29,
   "metadata": {},
   "outputs": [
    {
     "name": "stdout",
     "output_type": "stream",
     "text": [
      "[]\n"
     ]
    }
   ],
   "source": [
    "# 8.实现自己的clear函数，清空列表\n",
    "def my_clear(list):\n",
    "    while len(list) > 0:\n",
    "        list.pop()\n",
    "    return list\n",
    "print(my_clear(list))"
   ]
  },
  {
   "cell_type": "code",
   "execution_count": 38,
   "metadata": {},
   "outputs": [
    {
     "data": {
      "text/plain": [
       "[1, 2, 3, 4, 5, 5]"
      ]
     },
     "execution_count": 38,
     "metadata": {},
     "output_type": "execute_result"
    }
   ],
   "source": [
    "list = [1,2,3,4,5,5]\n",
    "list "
   ]
  },
  {
   "cell_type": "code",
   "execution_count": 33,
   "metadata": {},
   "outputs": [
    {
     "name": "stdout",
     "output_type": "stream",
     "text": [
      "4\n"
     ]
    }
   ],
   "source": [
    "# 9.实现自己的index函数，返回某个元素在列表中的索引\n",
    "def my_index(list,element):\n",
    "    for i in range(len(list)):\n",
    "        if list[i] == element:\n",
    "            return i\n",
    "    return None\n",
    "print(my_index(list,5))"
   ]
  },
  {
   "cell_type": "code",
   "execution_count": 35,
   "metadata": {},
   "outputs": [
    {
     "name": "stdout",
     "output_type": "stream",
     "text": [
      "[1, 2, 3, 4, 9, 5]\n"
     ]
    }
   ],
   "source": [
    "# 10.实现自己的insert函数，向列表中插入元素\n",
    "def my_insert(list,index,element):\n",
    "    return list[:index] + [element] + list[index:]\n",
    "print(my_insert(list,4,9))"
   ]
  },
  {
   "cell_type": "code",
   "execution_count": 36,
   "metadata": {},
   "outputs": [
    {
     "name": "stdout",
     "output_type": "stream",
     "text": [
      "[1, 2, 3, 4, 5, 10]\n"
     ]
    }
   ],
   "source": [
    "# 11.实现自己的append函数，向列表中添加元素\n",
    "def my_append(list,element):\n",
    "    return list + [element]\n",
    "print(my_append(list,10))\n"
   ]
  },
  {
   "cell_type": "code",
   "execution_count": 39,
   "metadata": {},
   "outputs": [
    {
     "name": "stdout",
     "output_type": "stream",
     "text": [
      "2\n"
     ]
    }
   ],
   "source": [
    "# 12.实现自己的count函数，统计某个元素在列表中出现的次数\n",
    "def my_count(list,element):\n",
    "    count  = 0\n",
    "    for i in list:\n",
    "        if i == element:\n",
    "            count += 1\n",
    "    return count\n",
    "print(my_count(list,5))\n"
   ]
  },
  {
   "cell_type": "code",
   "execution_count": 22,
   "metadata": {},
   "outputs": [
    {
     "name": "stdout",
     "output_type": "stream",
     "text": [
      "[1, 2, 3, 4, 5, 6, 7, 8, 9, 1, 2, 3, 4, 5, 6, 7, 8, 9]\n"
     ]
    }
   ],
   "source": [
    "# 13.实现自己的extend函数，将一个列表中的元素添加到另一个列表中\n",
    "def my_extend(list1,list2):\n",
    "    return list1 + list2\n",
    "print(my_extend(list,list))"
   ]
  },
  {
   "cell_type": "code",
   "execution_count": 23,
   "metadata": {},
   "outputs": [
    {
     "name": "stdout",
     "output_type": "stream",
     "text": [
      "[1, 2, 3, 4, 5, 6, 7, 8, 9]\n"
     ]
    }
   ],
   "source": [
    "# 14.实现自己的sort函数，对列表进行排序\n",
    "\n",
    "def my_sort(list):\n",
    "    for i in range(len(list)):\n",
    "        for j in range(i+1,len(list)):\n",
    "            if list[i] > list[j]:\n",
    "                list[i],list[j] = list[j],list[i]\n",
    "    return list\n",
    "print(my_sort(list))\n",
    "\n"
   ]
  },
  {
   "cell_type": "code",
   "execution_count": null,
   "metadata": {},
   "outputs": [],
   "source": [
    "# 15.实现自己的reverse函数，将列表中的元素反转\n",
    "def my_reverse(list):\n",
    "    return list[::-1]"
   ]
  },
  {
   "cell_type": "code",
   "execution_count": 43,
   "metadata": {},
   "outputs": [
    {
     "data": {
      "text/plain": [
       "{'Sacramento': 'California',\n",
       " 'Albany': 'New York',\n",
       " 'Houston': 'Texas',\n",
       " 'Honolulu': 50}"
      ]
     },
     "execution_count": 43,
     "metadata": {},
     "output_type": "execute_result"
    }
   ],
   "source": [
    "# 16.翻转字典的键值对\n",
    "\n",
    "dict_new = {'California': 'Sacramento',\n",
    " 'New York': 'Albany',\n",
    " 'Texas': 'Houston',\n",
    " 50: 'Honolulu'}\n",
    "dict_reverse = { city:state for state,city in dict_new.items()}\n",
    "dict_reverse"
   ]
  },
  {
   "cell_type": "code",
   "execution_count": null,
   "metadata": {},
   "outputs": [],
   "source": []
  }
 ],
 "metadata": {
  "kernelspec": {
   "display_name": "base",
   "language": "python",
   "name": "python3"
  },
  "language_info": {
   "codemirror_mode": {
    "name": "ipython",
    "version": 3
   },
   "file_extension": ".py",
   "mimetype": "text/x-python",
   "name": "python",
   "nbconvert_exporter": "python",
   "pygments_lexer": "ipython3",
   "version": "3.9.10"
  },
  "orig_nbformat": 4
 },
 "nbformat": 4,
 "nbformat_minor": 2
}
