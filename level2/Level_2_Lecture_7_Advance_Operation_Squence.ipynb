{
 "cells": [
  {
   "cell_type": "markdown",
   "id": "5d34e67b",
   "metadata": {},
   "source": [
    "# 嵌套、拷贝、排序\n",
    "\n",
    "- nesting\n",
    "- copying\n",
    "- sort\n"
   ]
  },
  {
   "cell_type": "markdown",
   "id": "486acabb",
   "metadata": {},
   "source": [
    "## 嵌套\n",
    "因为元组和列表都可以包含任何类型的值，也就是说，列表可以套列表，元组可以套元组，列表套元组等等……"
   ]
  },
  {
   "cell_type": "code",
   "execution_count": 22,
   "id": "0a3e0f9a",
   "metadata": {},
   "outputs": [],
   "source": [
    "two_by_two = [[1, 2], [3, 4]]"
   ]
  },
  {
   "cell_type": "code",
   "execution_count": 23,
   "id": "ee19bbfd",
   "metadata": {},
   "outputs": [
    {
     "data": {
      "text/plain": [
       "2"
      ]
     },
     "execution_count": 23,
     "metadata": {},
     "output_type": "execute_result"
    }
   ],
   "source": [
    "\n",
    "len(two_by_two)"
   ]
  },
  {
   "cell_type": "code",
   "execution_count": 24,
   "id": "8b7e0d76",
   "metadata": {},
   "outputs": [
    {
     "data": {
      "text/plain": [
       "[1, 2]"
      ]
     },
     "execution_count": 24,
     "metadata": {},
     "output_type": "execute_result"
    }
   ],
   "source": [
    "two_by_two[0]"
   ]
  },
  {
   "cell_type": "markdown",
   "id": "6d00e2f2",
   "metadata": {},
   "source": [
    "因为返回的值又是一个元组或者列表，又因为我们可以对元组或者列表使用[] 传递索引的方式来获取某些元素，所以"
   ]
  },
  {
   "cell_type": "code",
   "execution_count": 26,
   "id": "7e465e75",
   "metadata": {},
   "outputs": [
    {
     "data": {
      "text/plain": [
       "4"
      ]
     },
     "execution_count": 26,
     "metadata": {},
     "output_type": "execute_result"
    }
   ],
   "source": [
    "two_by_two[1][1]"
   ]
  },
  {
   "cell_type": "markdown",
   "id": "d893c57b",
   "metadata": {},
   "source": [
    "## 拷贝\n",
    "\n",
    "场景：有的时候你需要将一个列表中的内容复制到另一个列表中\n",
    "\n",
    "思考：能不能直接将一个列表对象赋值给另一个列表对象？ 或者说能不能直接用 = ？"
   ]
  },
  {
   "cell_type": "code",
   "execution_count": 33,
   "id": "1d0b10f4",
   "metadata": {},
   "outputs": [],
   "source": [
    "animals = [\"lion\", \"tiger\", \"frumious Bandersnatch\"]"
   ]
  },
  {
   "cell_type": "code",
   "execution_count": 34,
   "id": "7c9a5a6a",
   "metadata": {},
   "outputs": [],
   "source": [
    "large_cats = animals[:]\n",
    "# 其实是地址的传递"
   ]
  },
  {
   "cell_type": "code",
   "execution_count": 35,
   "id": "325095a6",
   "metadata": {},
   "outputs": [],
   "source": [
    "large_cats.append('panda')"
   ]
  },
  {
   "cell_type": "code",
   "execution_count": 37,
   "id": "6c013f09",
   "metadata": {},
   "outputs": [
    {
     "data": {
      "text/plain": [
       "(['lion', 'tiger', 'frumious Bandersnatch'],\n",
       " ['lion', 'tiger', 'frumious Bandersnatch', 'panda'])"
      ]
     },
     "execution_count": 37,
     "metadata": {},
     "output_type": "execute_result"
    }
   ],
   "source": [
    "animals,large_cats"
   ]
  },
  {
   "cell_type": "code",
   "execution_count": 31,
   "id": "65e914d8",
   "metadata": {},
   "outputs": [
    {
     "data": {
      "text/plain": [
       "(4608831936, 4608831936)"
      ]
     },
     "execution_count": 31,
     "metadata": {},
     "output_type": "execute_result"
    }
   ],
   "source": [
    "id(animals),id(large_cats)"
   ]
  },
  {
   "cell_type": "markdown",
   "id": "af7bd44f",
   "metadata": {},
   "source": [
    "为什么会出现这种情况？\n",
    "\n",
    "回想一下上节课讲过的内存，每个变量其实保存的是这个值/对象/存储空间在内存中的地址（address）\n",
    "\n",
    "为了获取一份独立于原来那块存储空间的新的列表，我们可以使用切片\n",
    "\n",
    "思考：\n",
    "- 为什么可以用切片？\n",
    "\n",
    "- 如果用切片该怎么修改上面的代码？\n",
    "\n",
    "\n"
   ]
  },
  {
   "cell_type": "code",
   "execution_count": 38,
   "id": "37a0b2c4",
   "metadata": {},
   "outputs": [],
   "source": [
    "matrix1 = [[1, 2], [3, 4]]\n",
    "matrix2 = matrix1[:]\n"
   ]
  },
  {
   "cell_type": "code",
   "execution_count": 39,
   "id": "6e6a4f60",
   "metadata": {},
   "outputs": [],
   "source": [
    "matrix2[0] = [5, 6]"
   ]
  },
  {
   "cell_type": "code",
   "execution_count": 40,
   "id": "524d992b",
   "metadata": {},
   "outputs": [
    {
     "data": {
      "text/plain": [
       "[[5, 6], [3, 4]]"
      ]
     },
     "execution_count": 40,
     "metadata": {},
     "output_type": "execute_result"
    }
   ],
   "source": [
    "matrix2"
   ]
  },
  {
   "cell_type": "code",
   "execution_count": 41,
   "id": "806abd60",
   "metadata": {},
   "outputs": [
    {
     "data": {
      "text/plain": [
       "[[1, 2], [3, 4]]"
      ]
     },
     "execution_count": 41,
     "metadata": {},
     "output_type": "execute_result"
    }
   ],
   "source": [
    "matrix1"
   ]
  },
  {
   "cell_type": "code",
   "execution_count": 42,
   "id": "9db94ddb",
   "metadata": {},
   "outputs": [],
   "source": [
    "matrix2[1][0] = 1"
   ]
  },
  {
   "cell_type": "code",
   "execution_count": 43,
   "id": "c42814a5",
   "metadata": {},
   "outputs": [
    {
     "data": {
      "text/plain": [
       "[[5, 6], [1, 4]]"
      ]
     },
     "execution_count": 43,
     "metadata": {},
     "output_type": "execute_result"
    }
   ],
   "source": [
    "matrix2"
   ]
  },
  {
   "cell_type": "code",
   "execution_count": 44,
   "id": "ab371722",
   "metadata": {},
   "outputs": [
    {
     "data": {
      "text/plain": [
       "[[1, 2], [1, 4]]"
      ]
     },
     "execution_count": 44,
     "metadata": {},
     "output_type": "execute_result"
    }
   ],
   "source": [
    "matrix1"
   ]
  },
  {
   "cell_type": "markdown",
   "id": "ebaa332e",
   "metadata": {},
   "source": [
    " 这是两个不同的对象，但是改变其中一个的值，却仍然影响了另一个，这是为什么？\n",
    " \n",
    "tip：列表仅仅包含了其中每一个列表的引用（地址），所以，他们其实仍然是？"
   ]
  },
  {
   "cell_type": "code",
   "execution_count": 46,
   "id": "aafd3ed2",
   "metadata": {},
   "outputs": [
    {
     "data": {
      "text/plain": [
       "False"
      ]
     },
     "execution_count": 46,
     "metadata": {},
     "output_type": "execute_result"
    }
   ],
   "source": [
    "matrix1[0] == matrix2[0]"
   ]
  },
  {
   "cell_type": "markdown",
   "id": "90905451",
   "metadata": {},
   "source": [
    "我们需要的是对于每一个最基本的元素都要创建一个独立的拷贝，只能用深拷贝，而之前的使用':'叫浅拷贝。"
   ]
  },
  {
   "cell_type": "markdown",
   "id": "9f69102f",
   "metadata": {},
   "source": [
    "# 排序\n",
    "\n",
    "list 对象有一个叫做sort的函数，根据不同的数据类型有不同的排序方式\n"
   ]
  },
  {
   "cell_type": "code",
   "execution_count": 52,
   "id": "bbf6a23e",
   "metadata": {},
   "outputs": [
    {
     "data": {
      "text/plain": [
       "['red', 'blue', 'green', 'yellow']"
      ]
     },
     "execution_count": 52,
     "metadata": {},
     "output_type": "execute_result"
    }
   ],
   "source": [
    "# Lists of strings are sorted alphabetically\n",
    "#  如果是字符串，按照字典序排列，或者叫ascii码值排列\n",
    "colors = [\"red\", \"yellow\", \"green\", \"blue\"]\n",
    "colors.sort(key=len)\n",
    "colors\n"
   ]
  },
  {
   "cell_type": "markdown",
   "id": "6156f948",
   "metadata": {},
   "source": [
    "想一想他的本质其实是什么？"
   ]
  },
  {
   "cell_type": "code",
   "execution_count": 1,
   "id": "cf15b8c1",
   "metadata": {},
   "outputs": [
    {
     "data": {
      "text/plain": [
       "[10, 5, 3, 1]"
      ]
     },
     "execution_count": 1,
     "metadata": {},
     "output_type": "execute_result"
    }
   ],
   "source": [
    "# Lists of numbers are sorted numerically\n",
    "numbers = [1, 10, 5, 3]\n",
    "numbers.sort(reverse=True)\n",
    "numbers\n",
    "\n",
    "# ascending 升序\n",
    "# descending 降序"
   ]
  },
  {
   "cell_type": "markdown",
   "id": "cde4675b",
   "metadata": {},
   "source": [
    "- 注意这些操作都是in-place操作，不需要将操作的结果进行返回（他也没有返回值）/或者说重新赋值\n",
    "\n",
    "- 使用shift + tab查看某一个函数的用法\n",
    "\n",
    "### key关键字\n",
    "\n",
    "你可传入任何函数（但不是函数调用），也就是你可以自定义函数"
   ]
  },
  {
   "cell_type": "markdown",
   "id": "52e4af98",
   "metadata": {},
   "source": [
    "### 复习练习\n",
    "- 1. 创建一个有两个值的元组data。第一个值应该是元组（1, 2），第二个值应该是元组（3, 4）。\n",
    "- 2. 编写一个for循环，在data上循环，并打印每个嵌套元组的总和。输出应该是这样的:\n",
    "\n",
    "第1行总和：3\n",
    "\n",
    "第2行总和：7\n",
    "- 3. 创建以下列表[4, 3, 2, 1]并将其分配给变量numbers\n",
    "- 4. 使用[:]切分符号创建一个数字列表的副本。\n",
    "- 5. 使用.sort()方法将数字列表按数字顺序排序。\n"
   ]
  },
  {
   "cell_type": "code",
   "execution_count": 21,
   "id": "b54c6382",
   "metadata": {},
   "outputs": [
    {
     "name": "stdout",
     "output_type": "stream",
     "text": [
      "第1行总和:3\n",
      "第2行总和:7\n"
     ]
    }
   ],
   "source": [
    "data= ((1,2),(3,4))\n",
    "index = 1\n",
    "for row in data :\n",
    "    print(\"第\"+ str(index)+\"行总和：\"+str(sum(row)),end = '\\n' )\n",
    "#     print(f\"第{index}行总和:{sum(row)}\")\n",
    "    index += index"
   ]
  },
  {
   "cell_type": "markdown",
   "id": "96de5677",
   "metadata": {},
   "source": []
  },
  {
   "cell_type": "code",
   "execution_count": null,
   "id": "2ad8ba55",
   "metadata": {},
   "outputs": [],
   "source": []
  }
 ],
 "metadata": {
  "kernelspec": {
   "display_name": "Python 3.9.12 ('env_tf')",
   "language": "python",
   "name": "python3"
  },
  "language_info": {
   "codemirror_mode": {
    "name": "ipython",
    "version": 3
   },
   "file_extension": ".py",
   "mimetype": "text/x-python",
   "name": "python",
   "nbconvert_exporter": "python",
   "pygments_lexer": "ipython3",
   "version": "3.9.12"
  },
  "vscode": {
   "interpreter": {
    "hash": "b816af80ce6e57c39048368ff3aa3448b5b147bd154d524c2f8f356fb26241bb"
   }
  }
 },
 "nbformat": 4,
 "nbformat_minor": 5
}
