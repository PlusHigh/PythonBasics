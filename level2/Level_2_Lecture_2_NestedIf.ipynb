{
 "cells": [
  {
   "attachments": {},
   "cell_type": "markdown",
   "id": "5e9a14bf",
   "metadata": {},
   "source": [
    "### 使用嵌套可以实现更加复杂的逻辑\n",
    "考虑下面一个这样的逻辑\n",
    "\n",
    "两个人进行一对一的运动对抗。你必须根据球员的得分和他们所进行的运动来决定哪位球员获胜。\n",
    "\n",
    "- 如果两个人玩的是篮球，那么得分最高的人获胜。\n",
    "- 如果两个人都在打高尔夫球，那么得分最低的那个人获胜。\n",
    "- 在这两项运动中，如果两个人的分数相同，比赛就会打平。下面的程序使用嵌套的if语句来解决这个问题。"
   ]
  },
  {
   "cell_type": "code",
   "execution_count": 26,
   "id": "556163a9",
   "metadata": {},
   "outputs": [
    {
     "data": {
      "text/plain": [
       "(12.1, 12)"
      ]
     },
     "execution_count": 26,
     "metadata": {},
     "output_type": "execute_result"
    }
   ],
   "source": [
    "float('12.1'),int(12.1)"
   ]
  },
  {
   "cell_type": "code",
   "execution_count": 2,
   "id": "75c07bd0",
   "metadata": {
    "cell_style": "center",
    "scrolled": true
   },
   "outputs": [
    {
     "name": "stdout",
     "output_type": "stream",
     "text": [
      "Enter a sport: golf\n",
      "Enter player 1 score: 19\n",
      "Enter player 2 score: 21\n",
      "Player 1 wins.\n"
     ]
    }
   ],
   "source": [
    "sport = input(\"Enter a sport: \")\n",
    "p1_score = int(input(\"Enter player 1 score: \")) \n",
    "p2_score = int(input(\"Enter player 2 score: \"))\n",
    "#1\n",
    "if sport.lower() == \"basketball\": \n",
    "    if p1_score == p2_score:\n",
    "        print(\"The game is a draw.\") \n",
    "    elif p1_score > p2_score:\n",
    "        print(\"Player 1 wins.\") \n",
    "    else:\n",
    "        print(\"Player 2 wins.\")\n",
    "#2\n",
    "elif sport.lower() == \"golf\": \n",
    "    if p1_score == p2_score:\n",
    "        print(\"The game is a draw.\") \n",
    "    elif p1_score < p2_score:\n",
    "        print(\"Player 1 wins.\") \n",
    "    else:\n",
    "        print(\"Player 2 wins.\")\n",
    "#3\n",
    "else:\n",
    "    print(\"Unknown sport\")"
   ]
  },
  {
   "cell_type": "markdown",
   "id": "344391d0",
   "metadata": {},
   "source": [
    "总的来说，程序有七种可能的运行方式，在下表中有描述。\n",
    "\n",
    "|   Sport  | Score values  |\n",
    "|  ----  | ----  |\n",
    "| basketball  | p1_score == p2_score |\n",
    "|  basketball  | p1_score > p2_score |\n",
    "|  basketball  | p1_score < p2_score |\n",
    "|  golf  | p1_score == p2_score |\n",
    "|  golf  | p1_score > p2_score |\n",
    "|  golf  | p1_score < p2_score |\n",
    "|  anything else  | Unkonw sport |\n",
    "\n"
   ]
  },
  {
   "cell_type": "markdown",
   "id": "2f08505c",
   "metadata": {},
   "source": [
    "让我们看看我们如何通过删除嵌套的if语句来简化前面的程序。"
   ]
  },
  {
   "cell_type": "code",
   "execution_count": null,
   "id": "6a045ce7",
   "metadata": {},
   "outputs": [],
   "source": [
    "\n",
    "if p1_score == p2_score:\n",
    "    print(\"The game is a draw.\")\n",
    "elif sport.lower() == \"basketball\": \n",
    "    if p1_score > p2_score:\n",
    "        print(\"Player 1 wins.\") \n",
    "    else:\n",
    "        print(\"Player 2 wins.\")\n",
    "elif sport.lower() == \"golf\": \n",
    "    if p1_score < p2_score:\n",
    "        print(\"Player 1 wins.\") \n",
    "    else:\n",
    "        print(\"Player 2 wins.\")\n",
    "else:\n",
    "    print(\"Unknown sport.\")"
   ]
  },
  {
   "cell_type": "markdown",
   "id": "ad880e51",
   "metadata": {},
   "source": [
    "现在，该程序只有六种方式可以执行，执行的分支仍然很多。\n",
    "\n",
    "\n",
    "你能想出什么办法使程序更简单吗？"
   ]
  },
  {
   "cell_type": "markdown",
   "id": "512649e0",
   "metadata": {},
   "source": [
    "这里有一个简化的方法。<b>如果运动项目是篮球，并且他们的分数大于球员2的分数，或者如果运动项目是高尔夫，并且他们的分数小于球员2的分数，则球员1获胜。</b>\n",
    "我们可以用复合条件表达式来描述这一点。"
   ]
  },
  {
   "cell_type": "code",
   "execution_count": null,
   "id": "feab7d2b",
   "metadata": {},
   "outputs": [],
   "source": [
    "sport = sport.lower()\n",
    "p1_wins_basketball = (sport == \"basketball\") and (p1_score > p2_score) \n",
    "p1_wins_golf = (sport == \"golf\") and (p1_score < p2_score)\n",
    "p1_wins = player1_wins_basketball or player1_wins_golf"
   ]
  },
  {
   "cell_type": "markdown",
   "id": "196a27a2",
   "metadata": {},
   "source": [
    "使用上述逻辑，你可以使原来的代码更加简洁："
   ]
  },
  {
   "cell_type": "code",
   "execution_count": null,
   "id": "d705cad4",
   "metadata": {},
   "outputs": [],
   "source": [
    "if p1_score == p2_score: \n",
    "    print(\"The game is a draw.\")\n",
    "elif (sport.lower() == \"basketball\") or (sport.lower() == \"golf\"):\n",
    "    sport = sport.lower()\n",
    "    p1_wins_basketball = (sport == \"basketball\") and (p1_score > p2_score) \n",
    "    p1_wins_golf = (sport == \"golf\") and (p1_score < p2_score)\n",
    "    p1_wins = p1_wins_basketball or p1_wins_golf \n",
    "    if p1_wins:\n",
    "        print(\"Player 1 wins.\") \n",
    "    else:\n",
    "        print(\"Player 2 wins.\") \n",
    "else:\n",
    "     print(\"Unknown sport\")"
   ]
  },
  {
   "cell_type": "markdown",
   "id": "cbc9007b",
   "metadata": {},
   "source": [
    "\n",
    "嵌套的if语句有时是必要的。然而，如果你发现自己写了很多嵌套的if语句，不妨停下来想一想如何简化你的代码。"
   ]
  },
  {
   "cell_type": "markdown",
   "id": "0277dbcc",
   "metadata": {},
   "source": [
    "# random 模块"
   ]
  },
  {
   "cell_type": "markdown",
   "id": "5e8a4226",
   "metadata": {},
   "source": [
    " > 模块：相关代码的集合\n",
    "\n",
    "Python 在随机模块中提供了几个用于生成随机数的函数。一个模块是一个相关代码的集合。Python 的标准库是一个有组织的模块集合，你可以将其导入自己的代码中，以解决各种问题。"
   ]
  },
  {
   "cell_type": "code",
   "execution_count": 6,
   "id": "a9db7d7d",
   "metadata": {},
   "outputs": [],
   "source": [
    "import random"
   ]
  },
  {
   "cell_type": "markdown",
   "id": "b03aa935",
   "metadata": {},
   "source": [
    " integer整数"
   ]
  },
  {
   "cell_type": "markdown",
   "id": "550533ee",
   "metadata": {},
   "source": [
    "现在我们可以在代码中使用随机模块的函数。例如，randint()有两个必要的参数，称为a和b，并返回一个大于或等于a和小于或等于b的随机整数，a和b都必须是整数。"
   ]
  },
  {
   "cell_type": "code",
   "execution_count": 17,
   "id": "563fd8e2",
   "metadata": {
    "cell_style": "center"
   },
   "outputs": [
    {
     "data": {
      "text/plain": [
       "6"
      ]
     },
     "execution_count": 17,
     "metadata": {},
     "output_type": "execute_result"
    }
   ],
   "source": [
    "random.randint(1,10)"
   ]
  },
  {
   "cell_type": "markdown",
   "id": "6d54b898",
   "metadata": {},
   "source": [
    "由于randint()位于随机模块中，你必须在输入随机后加上一个点（.），然后再输入函数名，才能使用它。"
   ]
  },
  {
   "cell_type": "markdown",
   "id": "c10b6354",
   "metadata": {},
   "source": [
    "Attention 注意！\n",
    "\n",
    "返回的结果一定在两个参数之间或者等于两个参数，例如；"
   ]
  },
  {
   "cell_type": "code",
   "execution_count": 22,
   "id": "5506f2ba",
   "metadata": {},
   "outputs": [
    {
     "data": {
      "text/plain": [
       "1"
      ]
     },
     "execution_count": 22,
     "metadata": {},
     "output_type": "execute_result"
    }
   ],
   "source": [
    "random.randint(0,1)"
   ]
  },
  {
   "cell_type": "markdown",
   "id": "daad6b73",
   "metadata": {
    "cell_style": "center"
   },
   "source": [
    "而且，每个在ab之间的数被返回的概率是相等的。"
   ]
  },
  {
   "cell_type": "markdown",
   "id": "bd45a662",
   "metadata": {},
   "source": [
    "# Exercise\n"
   ]
  },
  {
   "attachments": {},
   "cell_type": "markdown",
   "id": "340acd36",
   "metadata": {},
   "source": [
    "> 1.编写一个脚本，使用input()函数提示用户输入一个单词，将输入的内容存储在一个变量中，然后通过使用一组if, elif来显示该字符串的长度是否小于5个字符、大于5个字符或等于5个字符。"
   ]
  },
  {
   "cell_type": "code",
   "execution_count": 23,
   "id": "02ef97f7",
   "metadata": {},
   "outputs": [
    {
     "name": "stdout",
     "output_type": "stream",
     "text": [
      "请输入一个单词class\n",
      "等于5\n"
     ]
    }
   ],
   "source": [
    "a = len(input(\"请输入一个单词\"))\n",
    "if a < 5:\n",
    "    print(\"小于5\")\n",
    "elif a > 5:\n",
    "    print(\"大于5\")\n",
    "else:\n",
    "    print(\"等于5\")"
   ]
  },
  {
   "cell_type": "code",
   "execution_count": null,
   "id": "2a7ceba7",
   "metadata": {},
   "outputs": [],
   "source": []
  }
 ],
 "metadata": {
  "kernelspec": {
   "display_name": "Python 3",
   "language": "python",
   "name": "python3"
  },
  "language_info": {
   "codemirror_mode": {
    "name": "ipython",
    "version": 3
   },
   "file_extension": ".py",
   "mimetype": "text/x-python",
   "name": "python",
   "nbconvert_exporter": "python",
   "pygments_lexer": "ipython3",
   "version": "3.10.8"
  },
  "vscode": {
   "interpreter": {
    "hash": "b0fa6594d8f4cbf19f97940f81e996739fb7646882a419484c72d19e05852a7e"
   }
  }
 },
 "nbformat": 4,
 "nbformat_minor": 5
}
