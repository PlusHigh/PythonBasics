{
 "cells": [
  {
   "cell_type": "markdown",
   "id": "901c5afd",
   "metadata": {},
   "source": [
    "# Loop 循环\n",
    "\n",
    "什么时候要用到这个循环？\n",
    "\n",
    "<b>只要是要做两次以上的次数的事情，我们就应该写个循环</b>\n",
    "\n",
    "计算机的好处之一是，你可以让它们重复做同一件事，而它们很少抱怨或感到疲倦。\n",
    "\n",
    "\n",
    "循环是一个不断重复的代码块，可以是指定的次数，也可以是直到满足某些条件。在 Python 中有两种循环：while 循环和 for 循环。在本节中，你将学习如何使用这两种循环。\n",
    "\n",
    "\n",
    "让我们首先看看 while 循环是如何工作的。\n"
   ]
  },
  {
   "cell_type": "code",
   "execution_count": 15,
   "id": "65324878",
   "metadata": {},
   "outputs": [
    {
     "name": "stdout",
     "output_type": "stream",
     "text": [
      "1\n",
      "2\n",
      "3\n",
      "4\n"
     ]
    }
   ],
   "source": [
    "n = 1\n",
    "while n < 5 :\n",
    "    print(n)\n",
    "    n = n + 1\n",
    "    "
   ]
  },
  {
   "cell_type": "markdown",
   "id": "2594d86e",
   "metadata": {},
   "source": [
    "# while loop （while 循环）\n",
    "\n",
    "每个while循环都有两个部分。\n",
    "\n",
    "\n",
    "1. 语句的开头是while关键字，后面是一个测试条件，并以冒号（:）结束。\n",
    "\n",
    "\n",
    "2. 循环主体包含在循环的每一步重复的代码，每行缩进四个空格。\n",
    "\n",
    "联系一下之前学过的if条件控制语句，共同点有什么？ \n"
   ]
  },
  {
   "cell_type": "markdown",
   "id": "16cc623a",
   "metadata": {},
   "source": [
    "当一个 while 循环被执行时，Python 评估测试条件并确定它是真还是假。如果测试条件为真，那么就执行循环体中的代码。否则，主体中的代码被跳过，程序的其余部分被执行。\n",
    "\n",
    "\n",
    "如果测试条件为真，并且执行了循环的主体，那么一旦Python到达主体的末端，它就返回到while，并重新评估测试条件。如果测试条件仍然为真，则再次执行主体。如果它是假的，则跳过循环体。\n",
    "\n",
    "\n",
    "这个过程一次又一次地重复，直到测试条件失败，这一过程的作用是 Python 在 while 循环的主体中循环代码。\n",
    "\n",
    "下面我们来描述一下这个整个的过程："
   ]
  },
  {
   "cell_type": "code",
   "execution_count": null,
   "id": "c8724e2c",
   "metadata": {},
   "outputs": [],
   "source": [
    "n = 1\n",
    "while n < 5 :\n",
    "    print(n)"
   ]
  },
  {
   "cell_type": "markdown",
   "id": "67151ec2",
   "metadata": {},
   "source": [
    "如果你不小心，你可以创建一个无限的循环。当测试条件始终为真时，就会发生这种情况。一个无限循环永远不会终止。循环体一直在重复，直到你耗尽内存为止。"
   ]
  },
  {
   "cell_type": "markdown",
   "id": "a586c051",
   "metadata": {},
   "source": [
    "那么无限循环是不是就没有用武之地呢 ？\n",
    "\n",
    "\n",
    "不是\n",
    "\n",
    " > 与硬件交互的代码可能会使用一个无限循环来不断检查一个按钮或开关是否被激活"
   ]
  },
  {
   "cell_type": "markdown",
   "id": "a694eb6c",
   "metadata": {},
   "source": [
    "让我们来看看while循环在实践中的一个例子。while 循环的一个用途是检查用户的输入是否符合某些条件，如果不符合，就重复询问用户新的输入，直到收到有效的输入。\n",
    "例如，下面的程序不断要求用户输入一个正数，直到输入一个正数。"
   ]
  },
  {
   "cell_type": "code",
   "execution_count": 4,
   "id": "e40f054d",
   "metadata": {},
   "outputs": [
    {
     "name": "stdout",
     "output_type": "stream",
     "text": [
      "Enter a positive number: 1\n"
     ]
    }
   ],
   "source": [
    "num = float(input(\"Enter a positive number: \"))\n",
    "while num <= 0:\n",
    "    print(\"That's not a positive number!\")\n",
    "    num = float(input(\"Enter a positive number: \"))"
   ]
  },
  {
   "cell_type": "markdown",
   "id": "a8ad0d1b",
   "metadata": {},
   "source": [
    "while 循环对于在满足某些条件的情况下重复一段代码是完美的。然而，它们并不适合于重复一段代码的特定次数。"
   ]
  },
  {
   "cell_type": "markdown",
   "id": "58e6f651",
   "metadata": {},
   "source": [
    "# for loop for循环"
   ]
  },
  {
   "cell_type": "code",
   "execution_count": 31,
   "id": "05b8cbe0",
   "metadata": {},
   "outputs": [
    {
     "name": "stdout",
     "output_type": "stream",
     "text": [
      "P\n",
      "y\n",
      "t\n",
      "h\n",
      "o\n",
      "n\n"
     ]
    }
   ],
   "source": [
    "for _ in \"Python\" :\n",
    "    print(_)"
   ]
  },
  {
   "cell_type": "code",
   "execution_count": 25,
   "id": "c0155bb3",
   "metadata": {},
   "outputs": [
    {
     "data": {
      "text/plain": [
       "'e'"
      ]
     },
     "execution_count": 25,
     "metadata": {},
     "output_type": "execute_result"
    }
   ],
   "source": [
    "p = \"hello\"\n",
    "\n",
    "p[1]"
   ]
  },
  {
   "cell_type": "markdown",
   "id": "48f22b6e",
   "metadata": {},
   "source": [
    "for 循环为一个集合中的每一个项目执行一段代码。代码执行的次数由集合中的项目数决定。\n",
    "\n",
    "\n",
    "就像其对应的while一样，for循环有两个主要部分。\n",
    "\n",
    "\n",
    "1. for 语句以 for 关键字开始，后面是一个成员表达式，并以冒号（:）结束。\n",
    "\n",
    "\n",
    "2. 循环主体包含了在循环的每一步要执行的代码，并且缩进四个空格。\n",
    "\n",
    "    "
   ]
  },
  {
   "cell_type": "markdown",
   "id": "3d737541",
   "metadata": {},
   "source": [
    "for letter in \"Python\" 这个是for 语句 （statement）\n",
    "\n",
    "成员表达式 是 letter in \"Python\"\n",
    "\n",
    "在循环的每一步，变量letter被分配到字符串 \"Python \"中的下一个字母，然后字母的值被打印出来。\n",
    "\n",
    "对循环为字符串 \"Python \"中的每个字符运行一次，所以循环主体执行了六次。"
   ]
  },
  {
   "cell_type": "markdown",
   "id": "1fc22b29",
   "metadata": {},
   "source": [
    "为了了解为什么for循环更适合于循环集合，让我们把前面例子中的for循环改写成while循环。\n",
    "\n",
    "为此，我们可以使用一个变量来存储字符串中下一个字符的索引。在循环的每一步，我们将打印出当前索引的字符，然后增加索引。\n",
    "一旦索引变量的值等于字符串的长度，该循环就会停止。记住，索引从 0 开始，所以字符串 \"Python\" 的最后一个索引是 5。"
   ]
  },
  {
   "cell_type": "code",
   "execution_count": 10,
   "id": "57dba285",
   "metadata": {},
   "outputs": [
    {
     "name": "stdout",
     "output_type": "stream",
     "text": [
      "P\n",
      "y\n",
      "t\n",
      "h\n",
      "o\n",
      "n\n"
     ]
    }
   ],
   "source": [
    "word = \"Python\" \n",
    "index = 0\n",
    "while index < len(word): \n",
    "    print(word[index]) \n",
    "    index = index + 1"
   ]
  },
  {
   "cell_type": "code",
   "execution_count": 24,
   "id": "bf696aa6",
   "metadata": {},
   "outputs": [
    {
     "data": {
      "text/plain": [
       "[0, 1, 2]"
      ]
     },
     "execution_count": 24,
     "metadata": {},
     "output_type": "execute_result"
    }
   ],
   "source": [
    "[n for n in range(3)]\n",
    "   "
   ]
  },
  {
   "cell_type": "markdown",
   "id": "1e11540f",
   "metadata": {},
   "source": [
    "有时，在一个数字范围内循环是很有用的。Python 有一个方便的内置函数 range() 可以产生这样的结果。\n",
    "例如，range(3) 返回从 0 开始一直到 3 的整数范围，但不包括 3，也就是说，range(3) 是 0、1 和 2 的数字范围。\n",
    "你可以使用range(n)，其中n是任何正数，来精确地执行一个循环的n次。\n",
    "\n",
    "例如，上面的for循环打印了字符串 \"Python \"三次。"
   ]
  },
  {
   "cell_type": "markdown",
   "id": "6ed985b5",
   "metadata": {},
   "source": [
    "你也可以给一个范围一个起点。例如，range(1, 5)是数字1、2、3和4的范围。第一个参数是起始数，第二个参数是端点，它不包括在范围内。\n",
    "使用range()的双参数版本，下面的for循环打印了从10开始到20为止的每个数字的平方，但不包括20。"
   ]
  },
  {
   "cell_type": "code",
   "execution_count": 22,
   "id": "77c304cb",
   "metadata": {},
   "outputs": [
    {
     "name": "stdout",
     "output_type": "stream",
     "text": [
      "100\n",
      "121\n",
      "144\n",
      "169\n",
      "196\n",
      "225\n",
      "256\n",
      "289\n",
      "324\n",
      "361\n"
     ]
    }
   ],
   "source": [
    "for n in range(10, 20): \n",
    "    print(n * n)"
   ]
  },
  {
   "cell_type": "markdown",
   "id": "955b8d72",
   "metadata": {},
   "source": [
    "看一个实际应用："
   ]
  },
  {
   "cell_type": "code",
   "execution_count": 13,
   "id": "f9d6308d",
   "metadata": {},
   "outputs": [
    {
     "name": "stdout",
     "output_type": "stream",
     "text": [
      "Enter an amount: 10\n",
      "2 people: $5.00 each\n",
      "3 people: $3.33 each\n",
      "4 people: $2.50 each\n",
      "5 people: $2.00 each\n"
     ]
    }
   ],
   "source": [
    "amount = float(input(\"Enter an amount: \"))\n",
    "for num_people in range(2, 6):\n",
    "    print(f\"{num_people} people: ${amount / num_people:,.2f} each\")"
   ]
  },
  {
   "cell_type": "markdown",
   "id": "13f90110",
   "metadata": {},
   "source": [
    "for循环在2、3、4、5数字上循环，并打印出人数和每个人应支付的金额。格式化指定符\".2f \"用于将金额格式化为小数点后两位的定点数字，每三位数字加逗号。"
   ]
  },
  {
   "cell_type": "markdown",
   "id": "220ccbdb",
   "metadata": {},
   "source": [
    "# Nested loop\n",
    "\n",
    "回想一下我们学if的时候，嵌套是怎么表示的？\n",
    "\n",
    "猜一下，这个执行过程是怎么样的，提示：循环体只有执行完成后才会返回"
   ]
  },
  {
   "cell_type": "code",
   "execution_count": 23,
   "id": "83c4bbbc",
   "metadata": {},
   "outputs": [
    {
     "name": "stdout",
     "output_type": "stream",
     "text": [
      "n = 0 and j = 0\n",
      "n = 0 and j = 1\n",
      "n = 0 and j = 2\n",
      "n = 1 and j = 0\n",
      "n = 1 and j = 1\n",
      "n = 1 and j = 2\n",
      "n = 2 and j = 0\n",
      "n = 2 and j = 1\n",
      "n = 2 and j = 2\n",
      "n = 3 and j = 0\n",
      "n = 3 and j = 1\n",
      "n = 3 and j = 2\n"
     ]
    }
   ],
   "source": [
    "for n in range(4):\n",
    "    for j in range(3):\n",
    "        print(f\"n = {n} and j = {j}\")"
   ]
  },
  {
   "cell_type": "markdown",
   "id": "e5b2210e",
   "metadata": {},
   "source": [
    "另一个循环内的循环被称为嵌套循环，它们出现的频率比你想象的要高。你可以在for循环中嵌套while循环，反之亦然，甚至可以在两层以上的循环中嵌套!"
   ]
  },
  {
   "cell_type": "markdown",
   "id": "c6e070df",
   "metadata": {
    "slideshow": {
     "slide_type": "subslide"
    }
   },
   "source": [
    "But！\n",
    "\n",
    "嵌套循环本质上增加了你的代码的复杂性，你可以从前面的例子中与只有一个for循环的例子相比所运行的步骤数量的急剧增加中看到这点。\n",
    "使用嵌套循环有时是完成任务的唯一方法，但是过多的嵌套循环会对程序的性能产生负面影响。\n",
    "\n",
    "来算一算一共执行了多少次？\n"
   ]
  },
  {
   "attachments": {},
   "cell_type": "markdown",
   "id": "860c0dbf",
   "metadata": {},
   "source": [
    "\n",
    "### Exercise！\n",
    "- 1.使用range()函数写一个for循环，将整数2到10打印出来，每一个都在新的一行。\n",
    "- 2.使用while循环，打印出2到10的整数（提示：你需要先创建一个新的整数。）"
   ]
  },
  {
   "cell_type": "code",
   "execution_count": null,
   "id": "adfea63d",
   "metadata": {},
   "outputs": [],
   "source": []
  }
 ],
 "metadata": {
  "kernelspec": {
   "display_name": "Python 3",
   "language": "python",
   "name": "python3"
  },
  "language_info": {
   "codemirror_mode": {
    "name": "ipython",
    "version": 3
   },
   "file_extension": ".py",
   "mimetype": "text/x-python",
   "name": "python",
   "nbconvert_exporter": "python",
   "pygments_lexer": "ipython3",
   "version": "3.10.8"
  },
  "vscode": {
   "interpreter": {
    "hash": "b0fa6594d8f4cbf19f97940f81e996739fb7646882a419484c72d19e05852a7e"
   }
  }
 },
 "nbformat": 4,
 "nbformat_minor": 5
}
