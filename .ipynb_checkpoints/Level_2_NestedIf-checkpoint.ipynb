{
 "cells": [
  {
   "cell_type": "code",
   "execution_count": 3,
   "id": "75c07bd0",
   "metadata": {},
   "outputs": [
    {
     "name": "stdout",
     "output_type": "stream",
     "text": [
      "Enter a sport: basketball\n",
      "Enter player 1 score: 90\n",
      "Enter player 2 score: 80\n",
      "Player 1 wins.\n"
     ]
    }
   ],
   "source": [
    "sport = input(\"Enter a sport: \")\n",
    "p1_score = int(input(\"Enter player 1 score: \")) \n",
    "p2_score = int(input(\"Enter player 2 score: \"))\n",
    "#1\n",
    "if sport.lower() == \"basketball\": \n",
    "    if p1_score == p2_score:\n",
    "        print(\"The game is a draw.\") \n",
    "    elif p1_score > p2_score:\n",
    "        print(\"Player 1 wins.\") \n",
    "    else:\n",
    "        print(\"Player 2 wins.\")\n",
    "#2\n",
    "elif sport.lower() == \"golf\": \n",
    "    if p1_score == p2_score:\n",
    "        print(\"The game is a draw.\") \n",
    "    elif p1_score < p2_score:\n",
    "        print(\"Player 1 wins.\") \n",
    "    else:\n",
    "        print(\"Player 2 wins.\")\n",
    "#3\n",
    "else:\n",
    "    print(\"Unknown sport\")"
   ]
  },
  {
   "cell_type": "markdown",
   "id": "0277dbcc",
   "metadata": {},
   "source": [
    "# random 模块"
   ]
  },
  {
   "cell_type": "markdown",
   "id": "5e8a4226",
   "metadata": {},
   "source": [
    " > 模块：相关代码的集合\n",
    "\n",
    "Python 在随机模块中提供了几个用于生成随机数的函数。一个模块是一个相关代码的集合。Python 的标准库是一个有组织的模块集合，你可以将其导入自己的代码中，以解决各种问题。"
   ]
  },
  {
   "cell_type": "code",
   "execution_count": 1,
   "id": "a9db7d7d",
   "metadata": {},
   "outputs": [],
   "source": [
    "import random"
   ]
  },
  {
   "cell_type": "markdown",
   "id": "550533ee",
   "metadata": {},
   "source": [
    "现在我们可以在代码中使用随机模块的函数。例如，randint()有两个必要的参数，称为a和b，并返回一个大于或等于a和小于或等于b的随机整数，a和b都必须是整数。"
   ]
  },
  {
   "cell_type": "code",
   "execution_count": 2,
   "id": "563fd8e2",
   "metadata": {},
   "outputs": [
    {
     "data": {
      "text/plain": [
       "4"
      ]
     },
     "execution_count": 2,
     "metadata": {},
     "output_type": "execute_result"
    }
   ],
   "source": [
    "random.randint(1,10)"
   ]
  },
  {
   "cell_type": "markdown",
   "id": "6d54b898",
   "metadata": {},
   "source": [
    "由于randint()位于随机模块中，你必须在输入随机后加上一个点（.），然后再输入函数名，才能使用它。"
   ]
  },
  {
   "cell_type": "markdown",
   "id": "c10b6354",
   "metadata": {},
   "source": [
    "Attention 注意！\n",
    "\n",
    "返回的结果一定在两个参数之间或者等于两个参数，例如；"
   ]
  },
  {
   "cell_type": "code",
   "execution_count": 3,
   "id": "5506f2ba",
   "metadata": {},
   "outputs": [
    {
     "data": {
      "text/plain": [
       "1"
      ]
     },
     "execution_count": 3,
     "metadata": {},
     "output_type": "execute_result"
    }
   ],
   "source": [
    "random.randint(0,1)"
   ]
  },
  {
   "cell_type": "markdown",
   "id": "daad6b73",
   "metadata": {},
   "source": [
    "而且，每个在ab之间的数被返回的概率是相等的。"
   ]
  },
  {
   "cell_type": "markdown",
   "id": "bd45a662",
   "metadata": {},
   "source": [
    "# 模拟事件，并计算概率"
   ]
  },
  {
   "cell_type": "code",
   "execution_count": null,
   "id": "6919cff5",
   "metadata": {},
   "outputs": [],
   "source": []
  }
 ],
 "metadata": {
  "kernelspec": {
   "display_name": "Python [conda env:torch-gpu] *",
   "language": "python",
   "name": "conda-env-torch-gpu-py"
  },
  "language_info": {
   "codemirror_mode": {
    "name": "ipython",
    "version": 3
   },
   "file_extension": ".py",
   "mimetype": "text/x-python",
   "name": "python",
   "nbconvert_exporter": "python",
   "pygments_lexer": "ipython3",
   "version": "3.8.13"
  }
 },
 "nbformat": 4,
 "nbformat_minor": 5
}
