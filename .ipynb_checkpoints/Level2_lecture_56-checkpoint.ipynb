{
 "cells": [
  {
   "cell_type": "markdown",
   "id": "8634964d",
   "metadata": {},
   "source": [
    "# 万事万物皆映射 Mapping\n",
    "\n",
    "你要做的就是将现实生活中的问题和东西映射到python或者其他语言给你的工具上来\n",
    "\n",
    "咱们学的都是一些工具，工具基于不同的设计思想因此具有不同的规范，以后还会接触javascript、java、c++、scala等等\n",
    "\n",
    "下面我们看一下我们有哪些工具（building blocks）：\n",
    "\n",
    "### 元组 tuple\n",
    "\n",
    "\n"
   ]
  },
  {
   "cell_type": "code",
   "execution_count": 1,
   "id": "f1de0597",
   "metadata": {},
   "outputs": [
    {
     "data": {
      "text/plain": [
       "tuple"
      ]
     },
     "execution_count": 1,
     "metadata": {},
     "output_type": "execute_result"
    }
   ],
   "source": [
    "# 元组来源于数学，用于描述有限有序的值的序列\n",
    "\n",
    "# 创建元组\n",
    "\n",
    "# 1.字面量\n",
    "my_first_tuple = (1,2,3)\n",
    "\n",
    "type(my_first_tuple)\n"
   ]
  },
  {
   "cell_type": "markdown",
   "id": "b2417dc2",
   "metadata": {},
   "source": [
    "只有一个元素的元组的注意事项：\n"
   ]
  },
  {
   "cell_type": "code",
   "execution_count": 6,
   "id": "baedb4d4",
   "metadata": {},
   "outputs": [
    {
     "data": {
      "text/plain": [
       "(int, tuple)"
      ]
     },
     "execution_count": 6,
     "metadata": {},
     "output_type": "execute_result"
    }
   ],
   "source": [
    "x = (1)\n",
    "y = (1,)\n",
    "\n",
    "\n",
    "type(x),type(y)"
   ]
  },
  {
   "cell_type": "markdown",
   "id": "280c2fed",
   "metadata": {},
   "source": [
    "元组是一个序列，我们可以从其他的序列的类型（长得像序列的类型的来去创建一个元组）\n",
    "\n",
    "2.内置函数tuple()"
   ]
  },
  {
   "cell_type": "code",
   "execution_count": 7,
   "id": "70721602",
   "metadata": {},
   "outputs": [
    {
     "data": {
      "text/plain": [
       "('P', 'y', 't', 'h', 'o', 'n')"
      ]
     },
     "execution_count": 7,
     "metadata": {},
     "output_type": "execute_result"
    }
   ],
   "source": [
    "tuple(\"Python\")"
   ]
  },
  {
   "cell_type": "markdown",
   "id": "c493541f",
   "metadata": {},
   "source": [
    "但是这个函数只能接受一个参数，所以你不能将你希望创建的一个元组的每一个元素传入这个函数\n"
   ]
  },
  {
   "cell_type": "code",
   "execution_count": 8,
   "id": "7efed4a5",
   "metadata": {},
   "outputs": [
    {
     "ename": "TypeError",
     "evalue": "tuple expected at most 1 argument, got 3",
     "output_type": "error",
     "traceback": [
      "\u001b[0;31m---------------------------------------------------------------------------\u001b[0m",
      "\u001b[0;31mTypeError\u001b[0m                                 Traceback (most recent call last)",
      "Input \u001b[0;32mIn [8]\u001b[0m, in \u001b[0;36m<cell line: 1>\u001b[0;34m()\u001b[0m\n\u001b[0;32m----> 1\u001b[0m \u001b[38;5;28;43mtuple\u001b[39;49m\u001b[43m(\u001b[49m\u001b[38;5;241;43m1\u001b[39;49m\u001b[43m,\u001b[49m\u001b[38;5;241;43m2\u001b[39;49m\u001b[43m,\u001b[49m\u001b[38;5;241;43m3\u001b[39;49m\u001b[43m)\u001b[49m\n",
      "\u001b[0;31mTypeError\u001b[0m: tuple expected at most 1 argument, got 3"
     ]
    }
   ],
   "source": [
    "tuple(1,2,3)"
   ]
  },
  {
   "cell_type": "code",
   "execution_count": 9,
   "id": "fc654561",
   "metadata": {},
   "outputs": [
    {
     "ename": "TypeError",
     "evalue": "'int' object is not iterable",
     "output_type": "error",
     "traceback": [
      "\u001b[0;31m---------------------------------------------------------------------------\u001b[0m",
      "\u001b[0;31mTypeError\u001b[0m                                 Traceback (most recent call last)",
      "Input \u001b[0;32mIn [9]\u001b[0m, in \u001b[0;36m<cell line: 1>\u001b[0;34m()\u001b[0m\n\u001b[0;32m----> 1\u001b[0m \u001b[38;5;28;43mtuple\u001b[39;49m\u001b[43m(\u001b[49m\u001b[38;5;241;43m1\u001b[39;49m\u001b[43m)\u001b[49m\n",
      "\u001b[0;31mTypeError\u001b[0m: 'int' object is not iterable"
     ]
    }
   ],
   "source": [
    "tuple(1)"
   ]
  },
  {
   "cell_type": "markdown",
   "id": "c03077d7",
   "metadata": {},
   "source": [
    "iterable,可以迭代的，或者说可以遍历的，就是这个东西（数据结构）依次（有顺序，ordered）存储了很多东西（元素，数据项，item）\n",
    "\n",
    "或者说，这种数据类型没有包含可以一个接一个访问的多个值"
   ]
  },
  {
   "cell_type": "code",
   "execution_count": 10,
   "id": "153081d3",
   "metadata": {},
   "outputs": [
    {
     "data": {
      "text/plain": [
       "(0, 1, 2, 3, 4, 5, 6, 7, 8, 9)"
      ]
     },
     "execution_count": 10,
     "metadata": {},
     "output_type": "execute_result"
    }
   ],
   "source": [
    "tuple(range(10))"
   ]
  },
  {
   "cell_type": "markdown",
   "id": "1fe673e3",
   "metadata": {},
   "source": [
    "如果不传入任何参数会怎么样？"
   ]
  },
  {
   "cell_type": "code",
   "execution_count": 11,
   "id": "2104ab4b",
   "metadata": {},
   "outputs": [
    {
     "data": {
      "text/plain": [
       "()"
      ]
     },
     "execution_count": 11,
     "metadata": {},
     "output_type": "execute_result"
    }
   ],
   "source": [
    "tuple()"
   ]
  },
  {
   "cell_type": "code",
   "execution_count": 12,
   "id": "73185ff9",
   "metadata": {},
   "outputs": [
    {
     "data": {
      "text/plain": [
       "()"
      ]
     },
     "execution_count": 12,
     "metadata": {},
     "output_type": "execute_result"
    }
   ],
   "source": [
    "()"
   ]
  },
  {
   "cell_type": "code",
   "execution_count": 16,
   "id": "d539e319",
   "metadata": {},
   "outputs": [
    {
     "data": {
      "text/plain": [
       "True"
      ]
     },
     "execution_count": 16,
     "metadata": {},
     "output_type": "execute_result"
    }
   ],
   "source": [
    "tuple() == ()"
   ]
  },
  {
   "cell_type": "code",
   "execution_count": 18,
   "id": "37e192f3",
   "metadata": {},
   "outputs": [
    {
     "data": {
      "text/plain": [
       "(4312563776, 4312563776)"
      ]
     },
     "execution_count": 18,
     "metadata": {},
     "output_type": "execute_result"
    }
   ],
   "source": [
    "id(tuple()),id(())"
   ]
  },
  {
   "cell_type": "markdown",
   "id": "c2954178",
   "metadata": {},
   "source": [
    "### 我们来看一下字符串和元组之间的相似性 和不同点\n"
   ]
  },
  {
   "cell_type": "code",
   "execution_count": 19,
   "id": "14b6d090",
   "metadata": {},
   "outputs": [
    {
     "data": {
      "text/plain": [
       "(3, 3)"
      ]
     },
     "execution_count": 19,
     "metadata": {},
     "output_type": "execute_result"
    }
   ],
   "source": [
    "numbers = (1,2,3)\n",
    "name = \"hao\"\n",
    "len(numbers),len(name)"
   ]
  },
  {
   "cell_type": "markdown",
   "id": "6e211eab",
   "metadata": {},
   "source": [
    "都有length这个属性，对于字符串是character的个数，对于tuple是item 的个数"
   ]
  },
  {
   "cell_type": "code",
   "execution_count": 20,
   "id": "f8c9a6eb",
   "metadata": {},
   "outputs": [
    {
     "data": {
      "text/plain": [
       "('h', 1)"
      ]
     },
     "execution_count": 20,
     "metadata": {},
     "output_type": "execute_result"
    }
   ],
   "source": [
    "name[0],numbers[0]"
   ]
  },
  {
   "cell_type": "markdown",
   "id": "361b058f",
   "metadata": {},
   "source": [
    "都支持索引，就是说我们可以根据下标来访问其中不同的char和item\n",
    "\n",
    "想一想，如何获取任意一个字符串或者元组的最后一个元素？"
   ]
  },
  {
   "cell_type": "code",
   "execution_count": null,
   "id": "ffdd15c7",
   "metadata": {},
   "outputs": [],
   "source": []
  },
  {
   "cell_type": "markdown",
   "id": "b126a2e7",
   "metadata": {},
   "source": [
    "那获取某一些元素呢？"
   ]
  },
  {
   "cell_type": "code",
   "execution_count": 31,
   "id": "187cbd60",
   "metadata": {},
   "outputs": [
    {
     "data": {
      "text/plain": [
       "('zeng', 'hao')"
      ]
     },
     "execution_count": 31,
     "metadata": {},
     "output_type": "execute_result"
    }
   ],
   "source": [
    "fullname = \"zenghao\"\n",
    "family_name = fullname[0:4]\n",
    "first_name = fullname[4:7]\n",
    "family_name,first_name"
   ]
  },
  {
   "cell_type": "markdown",
   "id": "175a02f6",
   "metadata": {},
   "source": [
    "可以发现是这是一个左闭右开的区间，也就是左边的包含（include）右边的不包含（exclude）\n",
    "\n",
    "如果我们知道默认冒号左边的是0，右边的默认是最后一个元素的索引，我们还可以怎么写？"
   ]
  },
  {
   "cell_type": "code",
   "execution_count": null,
   "id": "f83d208c",
   "metadata": {},
   "outputs": [],
   "source": []
  },
  {
   "cell_type": "markdown",
   "id": "25c82cad",
   "metadata": {},
   "source": [
    "对于字符串成立的切片（slice）同样对元组成立"
   ]
  },
  {
   "cell_type": "code",
   "execution_count": 40,
   "id": "6d04c4f6",
   "metadata": {},
   "outputs": [],
   "source": [
    " number_100 = range(100)"
   ]
  },
  {
   "cell_type": "code",
   "execution_count": 42,
   "id": "662d28d0",
   "metadata": {},
   "outputs": [
    {
     "data": {
      "text/plain": [
       "range"
      ]
     },
     "execution_count": 42,
     "metadata": {},
     "output_type": "execute_result"
    }
   ],
   "source": [
    "number_100[:10]\n",
    "type(number_100)"
   ]
  },
  {
   "cell_type": "code",
   "execution_count": 37,
   "id": "8ca5f7de",
   "metadata": {},
   "outputs": [
    {
     "data": {
      "text/plain": [
       "(0, 1, 2, 3, 4, 5, 6, 7, 8, 9)"
      ]
     },
     "execution_count": 37,
     "metadata": {},
     "output_type": "execute_result"
    }
   ],
   "source": [
    "number_100 = tuple(range(100))\n",
    "number_100[:10]"
   ]
  },
  {
   "cell_type": "markdown",
   "id": "5332eb57",
   "metadata": {},
   "source": [
    "### Immutable \n",
    "\n",
    "not changing,or unable to be changed  永恒的，不可改变的\n",
    "\n",
    "人话就是不能重新赋值\n"
   ]
  },
  {
   "cell_type": "code",
   "execution_count": 43,
   "id": "baf4e03c",
   "metadata": {},
   "outputs": [
    {
     "data": {
      "text/plain": [
       "(0, 1, 2, 3, 4, 5, 6, 7, 8, 9)"
      ]
     },
     "execution_count": 43,
     "metadata": {},
     "output_type": "execute_result"
    }
   ],
   "source": [
    "values = tuple (range(10))\n",
    "values "
   ]
  },
  {
   "cell_type": "code",
   "execution_count": 44,
   "id": "5c2d9fc5",
   "metadata": {},
   "outputs": [
    {
     "ename": "TypeError",
     "evalue": "'tuple' object does not support item assignment",
     "output_type": "error",
     "traceback": [
      "\u001b[0;31m---------------------------------------------------------------------------\u001b[0m",
      "\u001b[0;31mTypeError\u001b[0m                                 Traceback (most recent call last)",
      "Input \u001b[0;32mIn [44]\u001b[0m, in \u001b[0;36m<cell line: 1>\u001b[0;34m()\u001b[0m\n\u001b[0;32m----> 1\u001b[0m \u001b[43mvalues\u001b[49m\u001b[43m[\u001b[49m\u001b[38;5;241;43m0\u001b[39;49m\u001b[43m]\u001b[49m \u001b[38;5;241m=\u001b[39m \u001b[38;5;241m1\u001b[39m\n",
      "\u001b[0;31mTypeError\u001b[0m: 'tuple' object does not support item assignment"
     ]
    }
   ],
   "source": [
    "values[0] = 1"
   ]
  },
  {
   "cell_type": "markdown",
   "id": "988107bf",
   "metadata": {},
   "source": [
    "### Iterable \n",
    "\n",
    "可以迭代的，可以被遍历的\n",
    "\n",
    "人话就是，可以用for 等循环对每一个其中的元素做一定的操作\n"
   ]
  },
  {
   "cell_type": "code",
   "execution_count": 53,
   "id": "fbca335a",
   "metadata": {},
   "outputs": [
    {
     "name": "stdout",
     "output_type": "stream",
     "text": [
      "A E I O U "
     ]
    }
   ],
   "source": [
    "vowels = \"aeiou\"\n",
    "\n",
    "vowel = tuple(vowels)\n",
    "for vowel in vowels :\n",
    "    print(vowel.upper(),end=' ')"
   ]
  },
  {
   "cell_type": "markdown",
   "id": "7eb13a0c",
   "metadata": {},
   "source": [
    "# 常见的用例\n",
    "\n",
    "packing 和unpacking"
   ]
  },
  {
   "cell_type": "code",
   "execution_count": 55,
   "id": "c72d4998",
   "metadata": {},
   "outputs": [
    {
     "data": {
      "text/plain": [
       "(4.21, 9.29)"
      ]
     },
     "execution_count": 55,
     "metadata": {},
     "output_type": "execute_result"
    }
   ],
   "source": [
    "coordinates = 4.21,9.29\n",
    "coordinates"
   ]
  },
  {
   "cell_type": "markdown",
   "id": "9f49e738",
   "metadata": {},
   "source": [
    "怎么看都像是将两个不同的值赋值给了一个varible变量，在某种感觉上说，这两个值被封装进了一个元组当中\n",
    "\n",
    "那么我们可以用type函数对其进行验证：\n"
   ]
  },
  {
   "cell_type": "code",
   "execution_count": 56,
   "id": "7b0b6b80",
   "metadata": {},
   "outputs": [
    {
     "data": {
      "text/plain": [
       "tuple"
      ]
     },
     "execution_count": 56,
     "metadata": {},
     "output_type": "execute_result"
    }
   ],
   "source": [
    "type(coordinates)"
   ]
  },
  {
   "cell_type": "markdown",
   "id": "363dd798",
   "metadata": {},
   "source": [
    "如果你能把值封装进一个元组，那么同样能将其解封才会有些道理：\n"
   ]
  },
  {
   "cell_type": "code",
   "execution_count": 58,
   "id": "886fbf47",
   "metadata": {},
   "outputs": [
    {
     "data": {
      "text/plain": [
       "4.21"
      ]
     },
     "execution_count": 58,
     "metadata": {},
     "output_type": "execute_result"
    }
   ],
   "source": [
    "x,y = coordinates\n",
    "x"
   ]
  },
  {
   "cell_type": "code",
   "execution_count": 59,
   "id": "6af6e641",
   "metadata": {},
   "outputs": [
    {
     "data": {
      "text/plain": [
       "9.29"
      ]
     },
     "execution_count": 59,
     "metadata": {},
     "output_type": "execute_result"
    }
   ],
   "source": [
    "y"
   ]
  },
  {
   "cell_type": "markdown",
   "id": "f263b570",
   "metadata": {},
   "source": [
    "下面我们就有比较好玩的use case（用例）了：\n",
    "\n",
    "同样的，这个是一个字符串和元组之间的不同的一个例子？\n",
    "\n",
    "看的出来吗？"
   ]
  },
  {
   "cell_type": "code",
   "execution_count": 60,
   "id": "86b62727",
   "metadata": {},
   "outputs": [],
   "source": [
    "name, age, occupation = \"David\", 34, \"programmer\""
   ]
  },
  {
   "cell_type": "code",
   "execution_count": 61,
   "id": "4deedb86",
   "metadata": {},
   "outputs": [
    {
     "data": {
      "text/plain": [
       "'David'"
      ]
     },
     "execution_count": 61,
     "metadata": {},
     "output_type": "execute_result"
    }
   ],
   "source": [
    "name "
   ]
  },
  {
   "cell_type": "code",
   "execution_count": 62,
   "id": "d494ee0d",
   "metadata": {},
   "outputs": [
    {
     "data": {
      "text/plain": [
       "34"
      ]
     },
     "execution_count": 62,
     "metadata": {},
     "output_type": "execute_result"
    }
   ],
   "source": [
    "age"
   ]
  },
  {
   "cell_type": "code",
   "execution_count": 63,
   "id": "1abb8a19",
   "metadata": {},
   "outputs": [
    {
     "data": {
      "text/plain": [
       "'programmer'"
      ]
     },
     "execution_count": 63,
     "metadata": {},
     "output_type": "execute_result"
    }
   ],
   "source": [
    "occupation"
   ]
  },
  {
   "cell_type": "markdown",
   "id": "783077ed",
   "metadata": {},
   "source": [
    "考虑一下我们如何交换两个变量的值？\n"
   ]
  },
  {
   "cell_type": "code",
   "execution_count": 64,
   "id": "9a4562e0",
   "metadata": {},
   "outputs": [
    {
     "data": {
      "text/plain": [
       "(1, 2)"
      ]
     },
     "execution_count": 64,
     "metadata": {},
     "output_type": "execute_result"
    }
   ],
   "source": [
    "x = 1\n",
    "y = 2\n",
    "x,y"
   ]
  },
  {
   "cell_type": "code",
   "execution_count": 65,
   "id": "5b5b9bf0",
   "metadata": {},
   "outputs": [
    {
     "data": {
      "text/plain": [
       "(2, 1)"
      ]
     },
     "execution_count": 65,
     "metadata": {},
     "output_type": "execute_result"
    }
   ],
   "source": [
    "temp = x \n",
    "x = y\n",
    "y = temp\n",
    "x,y "
   ]
  },
  {
   "cell_type": "markdown",
   "id": "5dc577e9",
   "metadata": {},
   "source": [
    "或者呢？ 如果将pack和unpack结合起来？\n"
   ]
  },
  {
   "cell_type": "code",
   "execution_count": null,
   "id": "a201f534",
   "metadata": {},
   "outputs": [],
   "source": []
  },
  {
   "cell_type": "markdown",
   "id": "e2ff803c",
   "metadata": {},
   "source": [
    "请记住，赋值表达式左边的变量名的数量必须等于右边元组中的值的数量，否则Python会产生一个ValueError。"
   ]
  },
  {
   "cell_type": "code",
   "execution_count": 66,
   "id": "dd7013df",
   "metadata": {},
   "outputs": [
    {
     "ename": "ValueError",
     "evalue": "not enough values to unpack (expected 4, got 3)",
     "output_type": "error",
     "traceback": [
      "\u001b[0;31m---------------------------------------------------------------------------\u001b[0m",
      "\u001b[0;31mValueError\u001b[0m                                Traceback (most recent call last)",
      "Input \u001b[0;32mIn [66]\u001b[0m, in \u001b[0;36m<cell line: 1>\u001b[0;34m()\u001b[0m\n\u001b[0;32m----> 1\u001b[0m a,b,c,d \u001b[38;5;241m=\u001b[39m \u001b[38;5;241m1\u001b[39m,\u001b[38;5;241m2\u001b[39m,\u001b[38;5;241m3\u001b[39m\n",
      "\u001b[0;31mValueError\u001b[0m: not enough values to unpack (expected 4, got 3)"
     ]
    }
   ],
   "source": [
    "a,b,c,d = 1,2,3"
   ]
  },
  {
   "cell_type": "markdown",
   "id": "e50cc300",
   "metadata": {},
   "source": [
    "### in 在什么里面， 一个值是否在一个元组内"
   ]
  },
  {
   "cell_type": "code",
   "execution_count": 69,
   "id": "6c781a0f",
   "metadata": {},
   "outputs": [
    {
     "data": {
      "text/plain": [
       "True"
      ]
     },
     "execution_count": 69,
     "metadata": {},
     "output_type": "execute_result"
    }
   ],
   "source": [
    "'o' in vowels"
   ]
  },
  {
   "cell_type": "code",
   "execution_count": 70,
   "id": "a729891e",
   "metadata": {},
   "outputs": [
    {
     "data": {
      "text/plain": [
       "False"
      ]
     },
     "execution_count": 70,
     "metadata": {},
     "output_type": "execute_result"
    }
   ],
   "source": [
    "'x' in vowels"
   ]
  },
  {
   "cell_type": "markdown",
   "id": "1ff2645b",
   "metadata": {},
   "source": [
    "记不记得成员表达式，成员表达式是一个fancy的说法"
   ]
  },
  {
   "cell_type": "markdown",
   "id": "684f746c",
   "metadata": {},
   "source": [
    "## Exercise time！ 下面我们做练习："
   ]
  },
  {
   "cell_type": "markdown",
   "id": "97b954d2",
   "metadata": {},
   "source": [
    "- 1. 创建一个名为cardinal_numberst的字符串 \"first\"、\"second \"和 \"third \"的upleliteral，按这个顺序排列。\n",
    "- 2. 使用索引符号和print()，显示cardinal_numbers中索引1的字符串。\n",
    "- 3. 在一行代码中，将cardinal_numbers中的值解压为三个新的字符串，分别命名为position1、position2和position3，然后在单独一行中打印每个值。\n",
    "- 4. 通过使用tuple()和一个字符串字面，创建一个名为my_nameth的元组，其中包含你的名字的字母。\n",
    "- 5. 使用in关键字检查字符 \"x \"是否在my_name中。\n",
    "- 6. 使用切分符号创建一个新的包含所有字母的tuple，但只包含my_name中的第一个字母。"
   ]
  },
  {
   "cell_type": "code",
   "execution_count": null,
   "id": "873209db",
   "metadata": {},
   "outputs": [],
   "source": []
  },
  {
   "cell_type": "markdown",
   "id": "610c4151",
   "metadata": {},
   "source": [
    "# 列表 list\n",
    "\n",
    "- 与元组最大的不同是 Lists are mutable"
   ]
  },
  {
   "cell_type": "markdown",
   "id": "45a5a8a0",
   "metadata": {},
   "source": [
    "#### 创建列表\n",
    "- 1.列表字面量"
   ]
  },
  {
   "cell_type": "code",
   "execution_count": 72,
   "id": "7bee863e",
   "metadata": {},
   "outputs": [],
   "source": [
    "colors = [\"red\",\"green\",\"blue\"]"
   ]
  },
  {
   "cell_type": "code",
   "execution_count": 73,
   "id": "ebe9b9df",
   "metadata": {},
   "outputs": [
    {
     "data": {
      "text/plain": [
       "['red', 'green', 'blue']"
      ]
     },
     "execution_count": 73,
     "metadata": {},
     "output_type": "execute_result"
    }
   ],
   "source": [
    "colors"
   ]
  },
  {
   "cell_type": "markdown",
   "id": "1d326c68",
   "metadata": {},
   "source": [
    "- 2.列表构造函数 list()函数\n",
    "\n",
    "可以从任意一个其他的序列类型创建，比如tuple，string\n"
   ]
  },
  {
   "cell_type": "code",
   "execution_count": 74,
   "id": "01808693",
   "metadata": {},
   "outputs": [
    {
     "data": {
      "text/plain": [
       "[1, 2, 3]"
      ]
     },
     "execution_count": 74,
     "metadata": {},
     "output_type": "execute_result"
    }
   ],
   "source": [
    "list((1,2,3))"
   ]
  },
  {
   "cell_type": "code",
   "execution_count": 75,
   "id": "54e5e4e2",
   "metadata": {},
   "outputs": [
    {
     "data": {
      "text/plain": [
       "['z', 'e', 'n', 'g', 'h', 'a', 'o']"
      ]
     },
     "execution_count": 75,
     "metadata": {},
     "output_type": "execute_result"
    }
   ],
   "source": [
    "list('zenghao')"
   ]
  },
  {
   "cell_type": "markdown",
   "id": "fd583309",
   "metadata": {},
   "source": [
    "#### split 分割函数\n",
    "\n",
    "根据正则表达式进行分割，人话就是，根据你指定的那个字符串进行分割"
   ]
  },
  {
   "cell_type": "code",
   "execution_count": 76,
   "id": "d622f204",
   "metadata": {},
   "outputs": [],
   "source": [
    "groceries = \"eggs, milk, cheese\""
   ]
  },
  {
   "cell_type": "code",
   "execution_count": 77,
   "id": "9061f0a2",
   "metadata": {},
   "outputs": [],
   "source": [
    "grocery_list = groceries.split(',')"
   ]
  },
  {
   "cell_type": "code",
   "execution_count": 78,
   "id": "bb0b10b1",
   "metadata": {},
   "outputs": [
    {
     "data": {
      "text/plain": [
       "['eggs', ' milk', ' cheese']"
      ]
     },
     "execution_count": 78,
     "metadata": {},
     "output_type": "execute_result"
    }
   ],
   "source": [
    "grocery_list"
   ]
  },
  {
   "cell_type": "markdown",
   "id": "4a9c7d8e",
   "metadata": {},
   "source": [
    "这个字符串叫做分割符seperator"
   ]
  },
  {
   "cell_type": "markdown",
   "id": "5943604d",
   "metadata": {},
   "source": [
    "总的来说，你已经看到了三种创建清单的方法。\n",
    "- 1. 字面量 literally\n",
    "- 2. 内置的 list()\n",
    "- 3. 字符串.split()方法\n",
    "\n",
    "列表支持tuple所支持的所有相同操作\n",
    "\n",
    "索引、切片、in "
   ]
  },
  {
   "cell_type": "code",
   "execution_count": 79,
   "id": "918d4502",
   "metadata": {},
   "outputs": [],
   "source": [
    "colors = [\"red\", \"yellow\", \"green\", \"blue\"]"
   ]
  },
  {
   "cell_type": "code",
   "execution_count": 80,
   "id": "5e4842c1",
   "metadata": {},
   "outputs": [],
   "source": [
    "colors[0] = 'purple'"
   ]
  },
  {
   "cell_type": "code",
   "execution_count": 81,
   "id": "5edaed7f",
   "metadata": {},
   "outputs": [
    {
     "data": {
      "text/plain": [
       "['purple', 'yellow', 'green', 'blue']"
      ]
     },
     "execution_count": 81,
     "metadata": {},
     "output_type": "execute_result"
    }
   ],
   "source": [
    "colors\n"
   ]
  },
  {
   "cell_type": "code",
   "execution_count": 82,
   "id": "12d13e39",
   "metadata": {},
   "outputs": [],
   "source": [
    "colors[1:3] = [\"orange\", \"magenta\", \"aqua\"]"
   ]
  },
  {
   "cell_type": "code",
   "execution_count": 83,
   "id": "f5b92fd6",
   "metadata": {},
   "outputs": [
    {
     "data": {
      "text/plain": [
       "['purple', 'orange', 'magenta', 'aqua', 'blue']"
      ]
     },
     "execution_count": 83,
     "metadata": {},
     "output_type": "execute_result"
    }
   ],
   "source": [
    "colors"
   ]
  },
  {
   "cell_type": "code",
   "execution_count": 84,
   "id": "1099436e",
   "metadata": {},
   "outputs": [],
   "source": [
    " colors[1:4] = [\"yellow\", \"green\"]"
   ]
  },
  {
   "cell_type": "code",
   "execution_count": 85,
   "id": "5455a2fa",
   "metadata": {},
   "outputs": [
    {
     "data": {
      "text/plain": [
       "['purple', 'yellow', 'green', 'blue']"
      ]
     },
     "execution_count": 85,
     "metadata": {},
     "output_type": "execute_result"
    }
   ],
   "source": [
    "colors"
   ]
  },
  {
   "cell_type": "markdown",
   "id": "920be076",
   "metadata": {},
   "source": [
    "### insert插入，pop弹出 ，append追加\n",
    "- list.insert(index,value)\n",
    "- list.pop(index)\n",
    "- list.append(value)\n",
    "\n",
    "\n",
    "增：insert，append\n",
    "删：pop"
   ]
  },
  {
   "cell_type": "code",
   "execution_count": 86,
   "id": "e06dade4",
   "metadata": {},
   "outputs": [
    {
     "data": {
      "text/plain": [
       "['purple', 'yellow', 'green', 'blue']"
      ]
     },
     "execution_count": 86,
     "metadata": {},
     "output_type": "execute_result"
    }
   ],
   "source": [
    "colors"
   ]
  },
  {
   "cell_type": "code",
   "execution_count": 87,
   "id": "2096db2f",
   "metadata": {},
   "outputs": [],
   "source": [
    "colors.insert(0,'red')"
   ]
  },
  {
   "cell_type": "code",
   "execution_count": 88,
   "id": "e927172b",
   "metadata": {},
   "outputs": [
    {
     "data": {
      "text/plain": [
       "['red', 'purple', 'yellow', 'green', 'blue']"
      ]
     },
     "execution_count": 88,
     "metadata": {},
     "output_type": "execute_result"
    }
   ],
   "source": [
    "colors"
   ]
  },
  {
   "cell_type": "code",
   "execution_count": 89,
   "id": "5e7e2316",
   "metadata": {},
   "outputs": [],
   "source": [
    "colors.insert(10,'violet')"
   ]
  },
  {
   "cell_type": "code",
   "execution_count": 90,
   "id": "c0793bc1",
   "metadata": {},
   "outputs": [
    {
     "data": {
      "text/plain": [
       "['red', 'purple', 'yellow', 'green', 'blue', 'violet']"
      ]
     },
     "execution_count": 90,
     "metadata": {},
     "output_type": "execute_result"
    }
   ],
   "source": [
    "colors"
   ]
  },
  {
   "cell_type": "markdown",
   "id": "385931e7",
   "metadata": {},
   "source": [
    "没有那么大的就加在列表的末尾"
   ]
  },
  {
   "cell_type": "code",
   "execution_count": 92,
   "id": "e15ad022",
   "metadata": {},
   "outputs": [],
   "source": [
    "colors.insert(-1,'indigo')"
   ]
  },
  {
   "cell_type": "code",
   "execution_count": 93,
   "id": "f7c3e21f",
   "metadata": {},
   "outputs": [
    {
     "data": {
      "text/plain": [
       "['red', 'purple', 'yellow', 'green', 'blue', 'indigo', 'violet']"
      ]
     },
     "execution_count": 93,
     "metadata": {},
     "output_type": "execute_result"
    }
   ],
   "source": [
    "colors"
   ]
  },
  {
   "cell_type": "markdown",
   "id": "276373ae",
   "metadata": {},
   "source": [
    "list.pop()方法接受一个参数，即索引i，并从列表中删除该索引的值。被移除的值会被该方法返回"
   ]
  },
  {
   "cell_type": "code",
   "execution_count": 94,
   "id": "0d075fe7",
   "metadata": {},
   "outputs": [],
   "source": [
    "color = colors.pop(3)"
   ]
  },
  {
   "cell_type": "code",
   "execution_count": 95,
   "id": "c6203657",
   "metadata": {},
   "outputs": [
    {
     "data": {
      "text/plain": [
       "'green'"
      ]
     },
     "execution_count": 95,
     "metadata": {},
     "output_type": "execute_result"
    }
   ],
   "source": [
    "color"
   ]
  },
  {
   "cell_type": "code",
   "execution_count": 96,
   "id": "fd918eb2",
   "metadata": {},
   "outputs": [
    {
     "ename": "IndexError",
     "evalue": "pop index out of range",
     "output_type": "error",
     "traceback": [
      "\u001b[0;31m---------------------------------------------------------------------------\u001b[0m",
      "\u001b[0;31mIndexError\u001b[0m                                Traceback (most recent call last)",
      "Input \u001b[0;32mIn [96]\u001b[0m, in \u001b[0;36m<cell line: 1>\u001b[0;34m()\u001b[0m\n\u001b[0;32m----> 1\u001b[0m \u001b[43mcolors\u001b[49m\u001b[38;5;241;43m.\u001b[39;49m\u001b[43mpop\u001b[49m\u001b[43m(\u001b[49m\u001b[38;5;241;43m10\u001b[39;49m\u001b[43m)\u001b[49m\n",
      "\u001b[0;31mIndexError\u001b[0m: pop index out of range"
     ]
    }
   ],
   "source": [
    "colors.pop(10)"
   ]
  },
  {
   "cell_type": "code",
   "execution_count": 97,
   "id": "2dc031cc",
   "metadata": {},
   "outputs": [
    {
     "data": {
      "text/plain": [
       "'violet'"
      ]
     },
     "execution_count": 97,
     "metadata": {},
     "output_type": "execute_result"
    }
   ],
   "source": [
    "colors.pop(len(colors)-1)"
   ]
  },
  {
   "cell_type": "code",
   "execution_count": 98,
   "id": "4f8f8878",
   "metadata": {},
   "outputs": [],
   "source": [
    "colors.append('violet')"
   ]
  },
  {
   "cell_type": "code",
   "execution_count": 99,
   "id": "ef5dc336",
   "metadata": {},
   "outputs": [
    {
     "data": {
      "text/plain": [
       "['red', 'purple', 'yellow', 'blue', 'indigo', 'violet']"
      ]
     },
     "execution_count": 99,
     "metadata": {},
     "output_type": "execute_result"
    }
   ],
   "source": [
    "colors\n"
   ]
  },
  {
   "cell_type": "code",
   "execution_count": 100,
   "id": "dc365145",
   "metadata": {},
   "outputs": [
    {
     "data": {
      "text/plain": [
       "['red', 'purple', 'yellow', 'blue', 'indigo', 'violet', 'violet']"
      ]
     },
     "execution_count": 100,
     "metadata": {},
     "output_type": "execute_result"
    }
   ],
   "source": [
    "colors.insert(len(colors),'violet')\n",
    "colors"
   ]
  },
  {
   "cell_type": "markdown",
   "id": "d92df94e",
   "metadata": {},
   "source": [
    "#### 追加多个怎么办？\n",
    "用list.extend()扩展方法\n",
    "\n",
    "参数是一个可迭代的对象"
   ]
  },
  {
   "cell_type": "code",
   "execution_count": 101,
   "id": "f80d6e3a",
   "metadata": {},
   "outputs": [],
   "source": [
    "colors.extend([\"violet\", \"ultraviolet\"])"
   ]
  },
  {
   "cell_type": "code",
   "execution_count": 102,
   "id": "175f2ee8",
   "metadata": {},
   "outputs": [
    {
     "data": {
      "text/plain": [
       "['red',\n",
       " 'purple',\n",
       " 'yellow',\n",
       " 'blue',\n",
       " 'indigo',\n",
       " 'violet',\n",
       " 'violet',\n",
       " 'violet',\n",
       " 'ultraviolet']"
      ]
     },
     "execution_count": 102,
     "metadata": {},
     "output_type": "execute_result"
    }
   ],
   "source": [
    "colors"
   ]
  },
  {
   "cell_type": "markdown",
   "id": "811eed81",
   "metadata": {},
   "source": [
    "|List 方法| 描述|\n",
    "|----|----|\n",
    "|.insert(i, x)|在指定的索引插入指定的值|\n",
    "|.append(x)|在列表最后插入值|\n",
    "|.extend(iterable)|按序在列表的最后插入所有值|\n",
    "|.pop(i)|移除并且返回在指定的位置的值|"
   ]
  },
  {
   "cell_type": "markdown",
   "id": "63e50b80",
   "metadata": {},
   "source": [
    "## List of Numbers 数组\n",
    "\n",
    "如何对一个列表求和？"
   ]
  },
  {
   "cell_type": "code",
   "execution_count": 104,
   "id": "4c5a0ded",
   "metadata": {},
   "outputs": [],
   "source": [
    "nums = [1,2,3,4,5]"
   ]
  },
  {
   "cell_type": "code",
   "execution_count": null,
   "id": "c46b71bd",
   "metadata": {},
   "outputs": [],
   "source": []
  },
  {
   "cell_type": "code",
   "execution_count": 105,
   "id": "a465f4e8",
   "metadata": {},
   "outputs": [
    {
     "data": {
      "text/plain": [
       "15"
      ]
     },
     "execution_count": 105,
     "metadata": {},
     "output_type": "execute_result"
    }
   ],
   "source": [
    "sum(nums)"
   ]
  },
  {
   "cell_type": "code",
   "execution_count": 106,
   "id": "81ea0070",
   "metadata": {},
   "outputs": [
    {
     "data": {
      "text/plain": [
       "1"
      ]
     },
     "execution_count": 106,
     "metadata": {},
     "output_type": "execute_result"
    }
   ],
   "source": [
    "min(nums)"
   ]
  },
  {
   "cell_type": "code",
   "execution_count": 107,
   "id": "0d1d8dbf",
   "metadata": {},
   "outputs": [
    {
     "data": {
      "text/plain": [
       "5"
      ]
     },
     "execution_count": 107,
     "metadata": {},
     "output_type": "execute_result"
    }
   ],
   "source": [
    "max(nums)"
   ]
  },
  {
   "cell_type": "markdown",
   "id": "95f70885",
   "metadata": {},
   "source": [
    "#### 列表推导式\n",
    "\n",
    "人话就是，for循环的简写形式"
   ]
  },
  {
   "cell_type": "code",
   "execution_count": 109,
   "id": "40c94e6f",
   "metadata": {},
   "outputs": [
    {
     "data": {
      "text/plain": [
       "[1, 2, 3, 4, 5]"
      ]
     },
     "execution_count": 109,
     "metadata": {},
     "output_type": "execute_result"
    }
   ],
   "source": [
    "nums = [ i+1 for i in range(5)]\n",
    "nums"
   ]
  },
  {
   "cell_type": "code",
   "execution_count": 110,
   "id": "cf10c83d",
   "metadata": {},
   "outputs": [],
   "source": [
    "str_numbers = [\"1.5\", \"2.3\", \"5.25\"]"
   ]
  },
  {
   "cell_type": "markdown",
   "id": "92eec54e",
   "metadata": {},
   "source": [
    " 如果你发现自己创建了一个空的列表，在其他一些可迭代的序列上循环，并向列表追加新的item，那么你有可能用一个列表理解来代替你的代码"
   ]
  },
  {
   "cell_type": "markdown",
   "id": "24eeea28",
   "metadata": {
    "slideshow": {
     "slide_type": "slide"
    }
   },
   "source": [
    "Exercise time！ \n",
    "- 1. Create a list named  food with two elements \"rice\" and \"beans\".\n",
    "- 2. Append the string \"broccoli\" to food using.append().\n",
    "- 3. Add the string \"bread\" and \"pizza\" to \"food\" using .extend().\n",
    "- 4. Print the first two items in the food list using print() and slicing notation.\n",
    "- 5. Print the last item in food using print() and index notation.\n",
    "- 6. Create a list called breakfast from the string \"eggs, fruit, orange，juice\" using the string .split() method.\n",
    "- 7. Verify that breakfast has three items using len().\n",
    "- 8. Create a new list called lengths using a list comprehension that contains the lengths of each string in the breakfast list."
   ]
  },
  {
   "cell_type": "code",
   "execution_count": null,
   "id": "6850f7c5",
   "metadata": {},
   "outputs": [],
   "source": []
  }
 ],
 "metadata": {
  "celltoolbar": "幻灯片",
  "kernelspec": {
   "display_name": "Python 3 (ipykernel)",
   "language": "python",
   "name": "python3"
  },
  "language_info": {
   "codemirror_mode": {
    "name": "ipython",
    "version": 3
   },
   "file_extension": ".py",
   "mimetype": "text/x-python",
   "name": "python",
   "nbconvert_exporter": "python",
   "pygments_lexer": "ipython3",
   "version": "3.8.13"
  }
 },
 "nbformat": 4,
 "nbformat_minor": 5
}
