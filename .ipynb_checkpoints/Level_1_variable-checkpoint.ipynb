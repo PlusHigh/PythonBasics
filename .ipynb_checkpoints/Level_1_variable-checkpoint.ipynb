{
 "cells": [
  {
   "cell_type": "markdown",
   "id": "da506d93",
   "metadata": {},
   "source": [
    "# 变量\n",
    "\n",
    "## 什么是变量，什么是对象。"
   ]
  },
  {
   "cell_type": "code",
   "execution_count": 8,
   "id": "d600445d",
   "metadata": {},
   "outputs": [
    {
     "name": "stdout",
     "output_type": "stream",
     "text": [
      "Hello world!\n",
      "Hello world!\n"
     ]
    }
   ],
   "source": [
    "message = 'Hello world!'\n",
    "print(message)\n",
    "mes = message\n",
    "print(mes)"
   ]
  },
  {
   "cell_type": "markdown",
   "id": "f5a1dc82",
   "metadata": {},
   "source": [
    "= 是什么?\n",
    "\n",
    "\n",
    "在数学中， = 是一个逻辑运算符，表示相等 \n",
    "\n",
    "在python中等号是赋值， 相等用 2个等号 =="
   ]
  },
  {
   "cell_type": "code",
   "execution_count": 2,
   "id": "5120725a",
   "metadata": {},
   "outputs": [
    {
     "name": "stdout",
     "output_type": "stream",
     "text": [
      "True\n"
     ]
    }
   ],
   "source": [
    "print(1+2 == 3)"
   ]
  },
  {
   "cell_type": "code",
   "execution_count": 4,
   "id": "fdcb2231",
   "metadata": {},
   "outputs": [
    {
     "name": "stdout",
     "output_type": "stream",
     "text": [
      "11\n"
     ]
    }
   ],
   "source": [
    "a = 5 \n",
    "b = 6 \n",
    "print( a + b )"
   ]
  },
  {
   "cell_type": "code",
   "execution_count": 7,
   "id": "539de358",
   "metadata": {},
   "outputs": [
    {
     "data": {
      "text/plain": [
       "(1, [1, 2], {1: 'a'}, 'abc')"
      ]
     },
     "execution_count": 7,
     "metadata": {},
     "output_type": "execute_result"
    }
   ],
   "source": [
    "n =1\n",
    "l = [1,2]\n",
    "d = {1:'a'}\n",
    "s = \"abc\"\n",
    "n,l,d,s"
   ]
  },
  {
   "cell_type": "markdown",
   "id": "2e255905",
   "metadata": {},
   "source": [
    "变量 = 对象\n",
    "\n",
    "\n",
    "变量是对象的别名\n",
    "\n",
    "\n",
    "变量的创建: 是在第一次赋值的时候生成的。\n",
    "\n",
    "其实保存的对象是保存它在内存中的引用，也就是地址，这个以后再说。\n"
   ]
  },
  {
   "cell_type": "markdown",
   "id": "5563a6cd",
   "metadata": {},
   "source": [
    "### 命明规则:（变量的名字是我们自己定义的，但是我们也不能随便定义）\n",
    "  * 字母、数字、下划线\n",
    "  * 只能以字母或下划线开头\n",
    "  * 不能包含空格 \n",
    "  * 避免python关键字(保留字)或函数\n",
    "  * 简短且具有描述性\n",
    "  * 区分大小写\n",
    "  \n",
    "  规范:小写字母，多个单词时，之间用_连接\n",
    "  "
   ]
  },
  {
   "cell_type": "code",
   "execution_count": null,
   "id": "3126f656",
   "metadata": {},
   "outputs": [],
   "source": []
  }
 ],
 "metadata": {
  "kernelspec": {
   "display_name": "Python 3 (ipykernel)",
   "language": "python",
   "name": "python3"
  },
  "language_info": {
   "codemirror_mode": {
    "name": "ipython",
    "version": 3
   },
   "file_extension": ".py",
   "mimetype": "text/x-python",
   "name": "python",
   "nbconvert_exporter": "python",
   "pygments_lexer": "ipython3",
   "version": "3.8.13"
  }
 },
 "nbformat": 4,
 "nbformat_minor": 5
}
