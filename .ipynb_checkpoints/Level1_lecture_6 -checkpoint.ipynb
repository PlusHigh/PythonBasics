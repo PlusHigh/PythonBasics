{
 "cells": [
  {
   "cell_type": "markdown",
   "id": "8634964d",
   "metadata": {
    "slideshow": {
     "slide_type": "slide"
    }
   },
   "source": [
    "# 万事万物皆映射 Mapping\n",
    "\n",
    "你已经学过了int、float、str等基本的数据类型，但是现实生活中的问题需要更多的数据类型/工具作为支撑\n",
    "\n",
    "比如，如何表示excel表格中的一条记录，如何存储登记表的每个人的信息\n",
    "\n",
    "所以，python给我们提供了更多可以使用的工具作为解决这些问题的支撑\n",
    "\n",
    "你要做的就是将现实生活中的问题和东西映射到python或者其他语言给你的工具上来\n",
    "\n",
    "咱们学的都是一些工具，工具基于不同的设计思想因此具有不同的规范，以后还会接触javascript、java、c++、scala等等\n",
    "\n",
    "下面我们看一下我们有哪些工具（building blocks）：\n",
    "\n",
    "\n",
    "### 元组 tuple\n",
    "\n",
    "\n"
   ]
  },
  {
   "cell_type": "markdown",
   "id": "0fa885c5",
   "metadata": {
    "slideshow": {
     "slide_type": "slide"
    }
   },
   "source": [
    "## 元组是不可变的序列\n",
    "\n",
    "序列，literally，从字面意义上就可以看出，有序，而且是一列，one by one一个接着一个\n",
    "\n",
    "什么叫有序？\n",
    "\n",
    "这个列中的每一个元素都会被赋予一个数字，我们把这个数字叫做索引，来标识这个元素是整个列中的第几个\n",
    "\n",
    "回想一下，我们可以用这个索引做什么？\n",
    "\n",
    "想一想有哪些东西可以被称为序列？\n",
    "\n",
    "你的成绩单从数学语文英语……\n",
    "\n",
    "alphabet\n"
   ]
  },
  {
   "cell_type": "code",
   "execution_count": 17,
   "id": "f1de0597",
   "metadata": {
    "slideshow": {
     "slide_type": "slide"
    }
   },
   "outputs": [
    {
     "data": {
      "text/plain": [
       "tuple"
      ]
     },
     "execution_count": 17,
     "metadata": {},
     "output_type": "execute_result"
    }
   ],
   "source": [
    "\n",
    "\n",
    "# 元组来源于数学，用于描述有限有序的值的序列\n",
    "\n",
    "# 创建元组\n",
    "\n",
    "# 1.字面量\n",
    "my_first_tuple = (1,2,'3')\n",
    "\n",
    "type(my_first_tuple)\n"
   ]
  },
  {
   "cell_type": "markdown",
   "id": "58979337",
   "metadata": {
    "slideshow": {
     "slide_type": "fragment"
    }
   },
   "source": [
    "字面量 literal \n",
    "\n",
    "人话就是 值\n",
    "\n",
    "元组可以包含任何元素，也就是说？"
   ]
  },
  {
   "cell_type": "markdown",
   "id": "b2417dc2",
   "metadata": {
    "slideshow": {
     "slide_type": "subslide"
    }
   },
   "source": [
    "你觉得如果一个元组只有一个元素会怎样？\n",
    "\n",
    "只有一个元素的元组的注意事项：\n"
   ]
  },
  {
   "cell_type": "code",
   "execution_count": 18,
   "id": "baedb4d4",
   "metadata": {
    "slideshow": {
     "slide_type": "subslide"
    }
   },
   "outputs": [
    {
     "data": {
      "text/plain": [
       "int"
      ]
     },
     "execution_count": 18,
     "metadata": {},
     "output_type": "execute_result"
    }
   ],
   "source": [
    "\n",
    "x = (1,)\n",
    "type(x)"
   ]
  },
  {
   "cell_type": "markdown",
   "id": "280c2fed",
   "metadata": {
    "slideshow": {
     "slide_type": "fragment"
    }
   },
   "source": [
    "元组是一个序列，我们可以从其他的序列的类型（长得像序列的类型的来去创建一个元组）\n",
    "\n",
    "2.内置函数tuple()"
   ]
  },
  {
   "cell_type": "code",
   "execution_count": 2,
   "id": "70721602",
   "metadata": {
    "slideshow": {
     "slide_type": "subslide"
    }
   },
   "outputs": [
    {
     "data": {
      "text/plain": [
       "('P', 'y', 't', 'h', 'o', 'n')"
      ]
     },
     "execution_count": 2,
     "metadata": {},
     "output_type": "execute_result"
    }
   ],
   "source": [
    "tuple(\"Python\")"
   ]
  },
  {
   "cell_type": "markdown",
   "id": "c493541f",
   "metadata": {
    "slideshow": {
     "slide_type": "fragment"
    }
   },
   "source": [
    "但是这个函数只能接受一个参数，所以你不能将你希望创建的一个元组的每一个元素传入这个函数\n"
   ]
  },
  {
   "cell_type": "code",
   "execution_count": 3,
   "id": "7efed4a5",
   "metadata": {
    "slideshow": {
     "slide_type": "subslide"
    }
   },
   "outputs": [
    {
     "ename": "TypeError",
     "evalue": "tuple expected at most 1 argument, got 3",
     "output_type": "error",
     "traceback": [
      "\u001b[0;31m---------------------------------------------------------------------------\u001b[0m",
      "\u001b[0;31mTypeError\u001b[0m                                 Traceback (most recent call last)",
      "Input \u001b[0;32mIn [3]\u001b[0m, in \u001b[0;36m<cell line: 1>\u001b[0;34m()\u001b[0m\n\u001b[0;32m----> 1\u001b[0m \u001b[38;5;28;43mtuple\u001b[39;49m\u001b[43m(\u001b[49m\u001b[38;5;241;43m1\u001b[39;49m\u001b[43m,\u001b[49m\u001b[38;5;241;43m2\u001b[39;49m\u001b[43m,\u001b[49m\u001b[38;5;241;43m3\u001b[39;49m\u001b[43m)\u001b[49m\n",
      "\u001b[0;31mTypeError\u001b[0m: tuple expected at most 1 argument, got 3"
     ]
    }
   ],
   "source": [
    "tuple(1,2,3)"
   ]
  },
  {
   "cell_type": "code",
   "execution_count": 9,
   "id": "fc654561",
   "metadata": {
    "slideshow": {
     "slide_type": "subslide"
    }
   },
   "outputs": [
    {
     "ename": "TypeError",
     "evalue": "'int' object is not iterable",
     "output_type": "error",
     "traceback": [
      "\u001b[0;31m---------------------------------------------------------------------------\u001b[0m",
      "\u001b[0;31mTypeError\u001b[0m                                 Traceback (most recent call last)",
      "Input \u001b[0;32mIn [9]\u001b[0m, in \u001b[0;36m<cell line: 1>\u001b[0;34m()\u001b[0m\n\u001b[0;32m----> 1\u001b[0m \u001b[38;5;28;43mtuple\u001b[39;49m\u001b[43m(\u001b[49m\u001b[38;5;241;43m1\u001b[39;49m\u001b[43m)\u001b[49m\n",
      "\u001b[0;31mTypeError\u001b[0m: 'int' object is not iterable"
     ]
    }
   ],
   "source": [
    "tuple(1)"
   ]
  },
  {
   "cell_type": "markdown",
   "id": "c03077d7",
   "metadata": {
    "slideshow": {
     "slide_type": "fragment"
    }
   },
   "source": [
    "iterable,可以迭代的，或者说可以遍历的，就是这个东西（数据结构）依次（有顺序，ordered）存储了很多东西（元素，数据项，item）\n",
    "\n",
    "或者说，这种数据类型没有包含可以一个接一个访问的多个值"
   ]
  },
  {
   "cell_type": "code",
   "execution_count": 4,
   "id": "153081d3",
   "metadata": {
    "slideshow": {
     "slide_type": "subslide"
    }
   },
   "outputs": [
    {
     "data": {
      "text/plain": [
       "(0, 1, 2, 3, 4, 5, 6, 7, 8, 9)"
      ]
     },
     "execution_count": 4,
     "metadata": {},
     "output_type": "execute_result"
    }
   ],
   "source": [
    "tuple(range(10))"
   ]
  },
  {
   "cell_type": "markdown",
   "id": "1fe673e3",
   "metadata": {
    "slideshow": {
     "slide_type": "fragment"
    }
   },
   "source": [
    "如果不传入任何参数会怎么样？"
   ]
  },
  {
   "cell_type": "code",
   "execution_count": 5,
   "id": "2104ab4b",
   "metadata": {
    "slideshow": {
     "slide_type": "subslide"
    }
   },
   "outputs": [
    {
     "data": {
      "text/plain": [
       "()"
      ]
     },
     "execution_count": 5,
     "metadata": {},
     "output_type": "execute_result"
    }
   ],
   "source": [
    "tuple()"
   ]
  },
  {
   "cell_type": "code",
   "execution_count": 12,
   "id": "73185ff9",
   "metadata": {
    "slideshow": {
     "slide_type": "subslide"
    }
   },
   "outputs": [
    {
     "data": {
      "text/plain": [
       "()"
      ]
     },
     "execution_count": 12,
     "metadata": {},
     "output_type": "execute_result"
    }
   ],
   "source": [
    "()"
   ]
  },
  {
   "cell_type": "code",
   "execution_count": 19,
   "id": "d539e319",
   "metadata": {
    "slideshow": {
     "slide_type": "subslide"
    }
   },
   "outputs": [
    {
     "data": {
      "text/plain": [
       "True"
      ]
     },
     "execution_count": 19,
     "metadata": {},
     "output_type": "execute_result"
    }
   ],
   "source": [
    "tuple() == ()"
   ]
  },
  {
   "cell_type": "code",
   "execution_count": 20,
   "id": "37e192f3",
   "metadata": {
    "slideshow": {
     "slide_type": "slide"
    }
   },
   "outputs": [
    {
     "data": {
      "text/plain": [
       "(4341334080, 4341334080)"
      ]
     },
     "execution_count": 20,
     "metadata": {},
     "output_type": "execute_result"
    }
   ],
   "source": [
    "id(tuple()),id(())"
   ]
  },
  {
   "cell_type": "markdown",
   "id": "c2954178",
   "metadata": {
    "slideshow": {
     "slide_type": "slide"
    }
   },
   "source": [
    "### 我们来看一下字符串和元组之间的相似性 和不同点\n",
    "\n",
    "最大的不同点是？\n",
    "\n",
    "字符串只能包含字符，而元组不是，元组可以包含任何类型"
   ]
  },
  {
   "cell_type": "code",
   "execution_count": 8,
   "id": "14b6d090",
   "metadata": {
    "slideshow": {
     "slide_type": "subslide"
    }
   },
   "outputs": [
    {
     "data": {
      "text/plain": [
       "(3, 3)"
      ]
     },
     "execution_count": 8,
     "metadata": {},
     "output_type": "execute_result"
    }
   ],
   "source": [
    "numbers = (1,2,3)\n",
    "name = \"hao\"\n",
    "len(numbers),len(name)"
   ]
  },
  {
   "cell_type": "markdown",
   "id": "6e211eab",
   "metadata": {
    "slideshow": {
     "slide_type": "fragment"
    }
   },
   "source": [
    "都有length这个属性，对于字符串是character的个数，对于tuple是item 的个数"
   ]
  },
  {
   "cell_type": "code",
   "execution_count": 20,
   "id": "f8c9a6eb",
   "metadata": {
    "slideshow": {
     "slide_type": "subslide"
    }
   },
   "outputs": [
    {
     "data": {
      "text/plain": [
       "('h', 1)"
      ]
     },
     "execution_count": 20,
     "metadata": {},
     "output_type": "execute_result"
    }
   ],
   "source": [
    "name[0],numbers[0]"
   ]
  },
  {
   "cell_type": "markdown",
   "id": "361b058f",
   "metadata": {
    "slideshow": {
     "slide_type": "fragment"
    }
   },
   "source": [
    "都支持索引，就是说我们可以根据下标来访问其中不同的char和item\n",
    "\n",
    "想一想，如何获取任意一个字符串或者元组的最后一个元素？"
   ]
  },
  {
   "cell_type": "code",
   "execution_count": null,
   "id": "ffdd15c7",
   "metadata": {},
   "outputs": [],
   "source": [
    "fullname = \"zeng\""
   ]
  },
  {
   "cell_type": "markdown",
   "id": "b126a2e7",
   "metadata": {
    "slideshow": {
     "slide_type": "fragment"
    }
   },
   "source": [
    "那获取某一些元素呢？"
   ]
  },
  {
   "cell_type": "code",
   "execution_count": 10,
   "id": "187cbd60",
   "metadata": {
    "slideshow": {
     "slide_type": "subslide"
    }
   },
   "outputs": [
    {
     "data": {
      "text/plain": [
       "('zeng', 'hao')"
      ]
     },
     "execution_count": 10,
     "metadata": {},
     "output_type": "execute_result"
    }
   ],
   "source": [
    "fullname = \"zenghao\"\n",
    "family_name = fullname[:4]\n",
    "first_name = fullname[4:]\n",
    "family_name,first_name"
   ]
  },
  {
   "cell_type": "markdown",
   "id": "175a02f6",
   "metadata": {
    "slideshow": {
     "slide_type": "fragment"
    }
   },
   "source": [
    "可以发现是这是一个左闭右开的区间，也就是左边的包含（include）右边的不包含（exclude）\n",
    "\n",
    "如果我们知道默认冒号左边的是0，右边的默认是最后一个元素的索引，我们还可以怎么写？"
   ]
  },
  {
   "cell_type": "code",
   "execution_count": null,
   "id": "f83d208c",
   "metadata": {},
   "outputs": [],
   "source": []
  },
  {
   "cell_type": "markdown",
   "id": "25c82cad",
   "metadata": {
    "slideshow": {
     "slide_type": "fragment"
    }
   },
   "source": [
    "对于字符串成立的切片（slice）同样对元组成立"
   ]
  },
  {
   "cell_type": "code",
   "execution_count": 22,
   "id": "6d04c4f6",
   "metadata": {
    "slideshow": {
     "slide_type": "subslide"
    }
   },
   "outputs": [],
   "source": [
    " number_100 = range(100)"
   ]
  },
  {
   "cell_type": "code",
   "execution_count": 23,
   "id": "662d28d0",
   "metadata": {
    "slideshow": {
     "slide_type": "subslide"
    }
   },
   "outputs": [
    {
     "data": {
      "text/plain": [
       "range(0, 10)"
      ]
     },
     "execution_count": 23,
     "metadata": {},
     "output_type": "execute_result"
    }
   ],
   "source": [
    "number_100[:10]\n"
   ]
  },
  {
   "cell_type": "code",
   "execution_count": 17,
   "id": "8ca5f7de",
   "metadata": {
    "slideshow": {
     "slide_type": "subslide"
    }
   },
   "outputs": [
    {
     "data": {
      "text/plain": [
       "(90, 91, 92, 93, 94, 95, 96, 97, 98, 99)"
      ]
     },
     "execution_count": 17,
     "metadata": {},
     "output_type": "execute_result"
    }
   ],
   "source": [
    "number_100 = tuple(range(100))\n",
    "number_100[-10:]"
   ]
  },
  {
   "cell_type": "markdown",
   "id": "5332eb57",
   "metadata": {
    "slideshow": {
     "slide_type": "slide"
    }
   },
   "source": [
    "### Immutable \n",
    "\n",
    "not changing,or unable to be changed  永恒的，不可改变的\n",
    "\n",
    "人话就是不能重新赋值\n"
   ]
  },
  {
   "cell_type": "code",
   "execution_count": 18,
   "id": "baf4e03c",
   "metadata": {
    "slideshow": {
     "slide_type": "subslide"
    }
   },
   "outputs": [
    {
     "data": {
      "text/plain": [
       "(0, 1, 2, 3, 4, 5, 6, 7, 8, 9)"
      ]
     },
     "execution_count": 18,
     "metadata": {},
     "output_type": "execute_result"
    }
   ],
   "source": [
    "values = tuple (range(10))\n",
    "values "
   ]
  },
  {
   "cell_type": "code",
   "execution_count": 20,
   "id": "5c2d9fc5",
   "metadata": {
    "slideshow": {
     "slide_type": "subslide"
    }
   },
   "outputs": [
    {
     "ename": "TypeError",
     "evalue": "'tuple' object does not support item assignment",
     "output_type": "error",
     "traceback": [
      "\u001b[0;31m---------------------------------------------------------------------------\u001b[0m",
      "\u001b[0;31mTypeError\u001b[0m                                 Traceback (most recent call last)",
      "Input \u001b[0;32mIn [20]\u001b[0m, in \u001b[0;36m<cell line: 1>\u001b[0;34m()\u001b[0m\n\u001b[0;32m----> 1\u001b[0m \u001b[43mvalues\u001b[49m\u001b[43m[\u001b[49m\u001b[38;5;241;43m0\u001b[39;49m\u001b[43m]\u001b[49m \u001b[38;5;241m=\u001b[39m \u001b[38;5;241m1\u001b[39m\n",
      "\u001b[0;31mTypeError\u001b[0m: 'tuple' object does not support item assignment"
     ]
    }
   ],
   "source": [
    "values[0] = 1"
   ]
  },
  {
   "cell_type": "markdown",
   "id": "988107bf",
   "metadata": {
    "slideshow": {
     "slide_type": "slide"
    }
   },
   "source": [
    "### Iterable \n",
    "\n",
    "可以迭代的，可以被遍历的\n",
    "\n",
    "人话就是，可以用for 等循环对每一个其中的元素做一定的操作\n"
   ]
  },
  {
   "cell_type": "code",
   "execution_count": 23,
   "id": "fbca335a",
   "metadata": {
    "slideshow": {
     "slide_type": "subslide"
    }
   },
   "outputs": [
    {
     "name": "stdout",
     "output_type": "stream",
     "text": [
      "A\r\n",
      "E\r\n",
      "I\r\n",
      "O\r\n",
      "U\r"
     ]
    }
   ],
   "source": [
    "vowels = \"aeiou\"\n",
    "\n",
    "vowel = tuple(vowels)\n",
    "for vowel in vowels :\n",
    "    print(vowel.upper(),end='\\r')"
   ]
  },
  {
   "cell_type": "markdown",
   "id": "7eb13a0c",
   "metadata": {
    "slideshow": {
     "slide_type": "slide"
    }
   },
   "source": [
    "# 常见的用例\n",
    "\n",
    "packing 和unpacking\n",
    "使……变成📦，打包，封装\n",
    "\n",
    "un是一个否定词前缀，所以就是与pack相反的含义\n",
    "\n",
    "所以是？\n"
   ]
  },
  {
   "cell_type": "code",
   "execution_count": 25,
   "id": "c72d4998",
   "metadata": {
    "slideshow": {
     "slide_type": "subslide"
    }
   },
   "outputs": [
    {
     "data": {
      "text/plain": [
       "(4.21, 9.29)"
      ]
     },
     "execution_count": 25,
     "metadata": {},
     "output_type": "execute_result"
    }
   ],
   "source": [
    "coordinates = 4.21,9.29\n",
    "coordinates"
   ]
  },
  {
   "cell_type": "markdown",
   "id": "9f49e738",
   "metadata": {
    "slideshow": {
     "slide_type": "subslide"
    }
   },
   "source": [
    "怎么看都像是将两个不同的值赋值给了一个variable变量，在某种感觉上说，这两个值被封装进了一个元组当中\n",
    "\n",
    "那么我们可以用type函数对其进行验证：\n"
   ]
  },
  {
   "cell_type": "code",
   "execution_count": 26,
   "id": "7b0b6b80",
   "metadata": {
    "slideshow": {
     "slide_type": "subslide"
    }
   },
   "outputs": [
    {
     "data": {
      "text/plain": [
       "tuple"
      ]
     },
     "execution_count": 26,
     "metadata": {},
     "output_type": "execute_result"
    }
   ],
   "source": [
    "type(coordinates)"
   ]
  },
  {
   "cell_type": "markdown",
   "id": "363dd798",
   "metadata": {
    "slideshow": {
     "slide_type": "subslide"
    }
   },
   "source": [
    "如果你能把值封装进一个元组，那么同样能将其解封才会有些道理：\n"
   ]
  },
  {
   "cell_type": "code",
   "execution_count": 27,
   "id": "886fbf47",
   "metadata": {
    "slideshow": {
     "slide_type": "subslide"
    }
   },
   "outputs": [
    {
     "data": {
      "text/plain": [
       "4.21"
      ]
     },
     "execution_count": 27,
     "metadata": {},
     "output_type": "execute_result"
    }
   ],
   "source": [
    "x,y = coordinates\n",
    "x"
   ]
  },
  {
   "cell_type": "code",
   "execution_count": 28,
   "id": "6af6e641",
   "metadata": {
    "slideshow": {
     "slide_type": "subslide"
    }
   },
   "outputs": [
    {
     "data": {
      "text/plain": [
       "9.29"
      ]
     },
     "execution_count": 28,
     "metadata": {},
     "output_type": "execute_result"
    }
   ],
   "source": [
    "y"
   ]
  },
  {
   "cell_type": "markdown",
   "id": "f263b570",
   "metadata": {
    "slideshow": {
     "slide_type": "fragment"
    }
   },
   "source": [
    "下面我们就有比较好玩的use case（用例）了：\n",
    "\n",
    "同样的，这个是一个字符串和元组之间的不同的一个例子？\n",
    "\n",
    "看的出来吗？"
   ]
  },
  {
   "cell_type": "code",
   "execution_count": 29,
   "id": "86b62727",
   "metadata": {
    "slideshow": {
     "slide_type": "subslide"
    }
   },
   "outputs": [],
   "source": [
    "name, age, occupation = \"David\", 34, \"programmer\""
   ]
  },
  {
   "cell_type": "code",
   "execution_count": 30,
   "id": "4deedb86",
   "metadata": {
    "slideshow": {
     "slide_type": "subslide"
    }
   },
   "outputs": [
    {
     "data": {
      "text/plain": [
       "'David'"
      ]
     },
     "execution_count": 30,
     "metadata": {},
     "output_type": "execute_result"
    }
   ],
   "source": [
    "name "
   ]
  },
  {
   "cell_type": "code",
   "execution_count": 31,
   "id": "d494ee0d",
   "metadata": {
    "slideshow": {
     "slide_type": "subslide"
    }
   },
   "outputs": [
    {
     "data": {
      "text/plain": [
       "34"
      ]
     },
     "execution_count": 31,
     "metadata": {},
     "output_type": "execute_result"
    }
   ],
   "source": [
    "age"
   ]
  },
  {
   "cell_type": "code",
   "execution_count": 32,
   "id": "1abb8a19",
   "metadata": {
    "slideshow": {
     "slide_type": "subslide"
    }
   },
   "outputs": [
    {
     "data": {
      "text/plain": [
       "'programmer'"
      ]
     },
     "execution_count": 32,
     "metadata": {},
     "output_type": "execute_result"
    }
   ],
   "source": [
    "occupation"
   ]
  },
  {
   "cell_type": "markdown",
   "id": "783077ed",
   "metadata": {
    "slideshow": {
     "slide_type": "fragment"
    }
   },
   "source": [
    "考虑一下我们如何交换两个变量的值？\n"
   ]
  },
  {
   "cell_type": "code",
   "execution_count": 64,
   "id": "9a4562e0",
   "metadata": {
    "slideshow": {
     "slide_type": "subslide"
    }
   },
   "outputs": [
    {
     "data": {
      "text/plain": [
       "(1, 2)"
      ]
     },
     "execution_count": 64,
     "metadata": {},
     "output_type": "execute_result"
    }
   ],
   "source": [
    "x = 1\n",
    "y = 2\n",
    "x,y"
   ]
  },
  {
   "cell_type": "code",
   "execution_count": 34,
   "id": "5b5b9bf0",
   "metadata": {
    "slideshow": {
     "slide_type": "subslide"
    }
   },
   "outputs": [
    {
     "data": {
      "text/plain": [
       "(4.21, 9.29)"
      ]
     },
     "execution_count": 34,
     "metadata": {},
     "output_type": "execute_result"
    }
   ],
   "source": [
    "temp = x \n",
    "x = y\n",
    "y = temp\n",
    "x,y "
   ]
  },
  {
   "cell_type": "markdown",
   "id": "5dc577e9",
   "metadata": {
    "slideshow": {
     "slide_type": "fragment"
    }
   },
   "source": [
    "或者呢？ 如果将pack和unpack结合起来？\n"
   ]
  },
  {
   "cell_type": "code",
   "execution_count": 33,
   "id": "a201f534",
   "metadata": {},
   "outputs": [
    {
     "data": {
      "text/plain": [
       "(9.29, 4.21)"
      ]
     },
     "execution_count": 33,
     "metadata": {},
     "output_type": "execute_result"
    }
   ],
   "source": [
    "x,y = y,x\n",
    "x,y"
   ]
  },
  {
   "cell_type": "markdown",
   "id": "e2ff803c",
   "metadata": {
    "slideshow": {
     "slide_type": "fragment"
    }
   },
   "source": [
    "请记住，赋值表达式左边的变量名的数量必须等于右边元组中的值的数量，否则Python会产生一个ValueError。"
   ]
  },
  {
   "cell_type": "code",
   "execution_count": 66,
   "id": "dd7013df",
   "metadata": {
    "slideshow": {
     "slide_type": "subslide"
    }
   },
   "outputs": [
    {
     "ename": "ValueError",
     "evalue": "not enough values to unpack (expected 4, got 3)",
     "output_type": "error",
     "traceback": [
      "\u001b[0;31m---------------------------------------------------------------------------\u001b[0m",
      "\u001b[0;31mValueError\u001b[0m                                Traceback (most recent call last)",
      "Input \u001b[0;32mIn [66]\u001b[0m, in \u001b[0;36m<cell line: 1>\u001b[0;34m()\u001b[0m\n\u001b[0;32m----> 1\u001b[0m a,b,c,d \u001b[38;5;241m=\u001b[39m \u001b[38;5;241m1\u001b[39m,\u001b[38;5;241m2\u001b[39m,\u001b[38;5;241m3\u001b[39m\n",
      "\u001b[0;31mValueError\u001b[0m: not enough values to unpack (expected 4, got 3)"
     ]
    }
   ],
   "source": [
    "a,b,c,d = 1,2,3"
   ]
  },
  {
   "cell_type": "markdown",
   "id": "e50cc300",
   "metadata": {
    "slideshow": {
     "slide_type": "slide"
    }
   },
   "source": [
    "### 检查一个元素是否在元组内\n",
    "in 在什么里面， 一个值是否在一个元组内"
   ]
  },
  {
   "cell_type": "code",
   "execution_count": 35,
   "id": "6c781a0f",
   "metadata": {
    "slideshow": {
     "slide_type": "subslide"
    }
   },
   "outputs": [
    {
     "data": {
      "text/plain": [
       "True"
      ]
     },
     "execution_count": 35,
     "metadata": {},
     "output_type": "execute_result"
    }
   ],
   "source": [
    "'o' in vowels"
   ]
  },
  {
   "cell_type": "code",
   "execution_count": 36,
   "id": "a729891e",
   "metadata": {
    "slideshow": {
     "slide_type": "subslide"
    }
   },
   "outputs": [
    {
     "data": {
      "text/plain": [
       "False"
      ]
     },
     "execution_count": 36,
     "metadata": {},
     "output_type": "execute_result"
    }
   ],
   "source": [
    "'x' in vowels"
   ]
  },
  {
   "cell_type": "markdown",
   "id": "1ff2645b",
   "metadata": {
    "slideshow": {
     "slide_type": "fragment"
    }
   },
   "source": [
    "记不记得成员表达式，成员表达式是一个fancy的说法"
   ]
  },
  {
   "cell_type": "markdown",
   "id": "684f746c",
   "metadata": {
    "slideshow": {
     "slide_type": "slide"
    }
   },
   "source": [
    "## Exercise time！ 下面我们做练习："
   ]
  },
  {
   "cell_type": "markdown",
   "id": "97b954d2",
   "metadata": {
    "slideshow": {
     "slide_type": "slide"
    }
   },
   "source": [
    "- 1. 创建一个名为cardinal_numberst的字符串 \"first\"、\"second \"和 \"third \"的upleliteral，按这个顺序排列。\n",
    "- 2. 使用索引符号和print()，显示cardinal_numbers中索引1的字符串。\n",
    "- 3. 在一行代码中，将cardinal_numbers中的值解压为三个新的字符串，分别命名为position1、position2和position3，然后在单独一行中打印每个值。\n",
    "- 4. 通过使用tuple()和一个字符串字面，创建一个名为my_nameth的元组，其中包含你的名字的字母。\n",
    "- 5. 使用in关键字检查字符 \"x \"是否在my_name中。\n",
    "- 6. 使用切分符号创建一个新的包含所有字母的tuple，但只包含my_name中的第一个字母。"
   ]
  },
  {
   "cell_type": "code",
   "execution_count": null,
   "id": "873209db",
   "metadata": {},
   "outputs": [],
   "source": []
  },
  {
   "cell_type": "markdown",
   "id": "610c4151",
   "metadata": {
    "slideshow": {
     "slide_type": "slide"
    }
   },
   "source": [
    "# 列表 list 列表是可变的序列\n",
    "\n",
    "除了可变这一条，其他的跟元组的操作类似\n",
    "\n"
   ]
  },
  {
   "cell_type": "markdown",
   "id": "45a5a8a0",
   "metadata": {
    "slideshow": {
     "slide_type": "fragment"
    }
   },
   "source": [
    "#### 创建列表\n",
    "- 1.列表字面量\n",
    "\n",
    "可以看到长得跟元组差不多，只不过把圆括号改成了方括号"
   ]
  },
  {
   "cell_type": "code",
   "execution_count": 72,
   "id": "7bee863e",
   "metadata": {
    "slideshow": {
     "slide_type": "subslide"
    }
   },
   "outputs": [],
   "source": [
    "colors = [\"red\",\"green\",\"blue\"]"
   ]
  },
  {
   "cell_type": "code",
   "execution_count": 24,
   "id": "ebe9b9df",
   "metadata": {
    "slideshow": {
     "slide_type": "subslide"
    }
   },
   "outputs": [
    {
     "data": {
      "text/plain": [
       "list"
      ]
     },
     "execution_count": 24,
     "metadata": {},
     "output_type": "execute_result"
    }
   ],
   "source": [
    "colors\n",
    "type(colors)"
   ]
  },
  {
   "cell_type": "markdown",
   "id": "1d326c68",
   "metadata": {
    "slideshow": {
     "slide_type": "subslide"
    }
   },
   "source": [
    "- 2.列表构造函数 list()函数\n",
    "\n",
    "可以从任意一个其他的序列类型创建，比如tuple，string\n"
   ]
  },
  {
   "cell_type": "code",
   "execution_count": 74,
   "id": "01808693",
   "metadata": {
    "slideshow": {
     "slide_type": "subslide"
    }
   },
   "outputs": [
    {
     "data": {
      "text/plain": [
       "[1, 2, 3]"
      ]
     },
     "execution_count": 74,
     "metadata": {},
     "output_type": "execute_result"
    }
   ],
   "source": [
    "list((1,2,3))"
   ]
  },
  {
   "cell_type": "code",
   "execution_count": 75,
   "id": "54e5e4e2",
   "metadata": {
    "slideshow": {
     "slide_type": "subslide"
    }
   },
   "outputs": [
    {
     "data": {
      "text/plain": [
       "['z', 'e', 'n', 'g', 'h', 'a', 'o']"
      ]
     },
     "execution_count": 75,
     "metadata": {},
     "output_type": "execute_result"
    }
   ],
   "source": [
    "list('zenghao')"
   ]
  },
  {
   "cell_type": "markdown",
   "id": "fd583309",
   "metadata": {
    "slideshow": {
     "slide_type": "fragment"
    }
   },
   "source": [
    "#### split 分割函数\n",
    "\n",
    "根据正则表达式进行分割，人话就是，根据你指定的那个字符串进行分割"
   ]
  },
  {
   "cell_type": "code",
   "execution_count": 28,
   "id": "d622f204",
   "metadata": {
    "slideshow": {
     "slide_type": "subslide"
    }
   },
   "outputs": [],
   "source": [
    "groceries = \"eggs milk cheese\""
   ]
  },
  {
   "cell_type": "code",
   "execution_count": 29,
   "id": "9061f0a2",
   "metadata": {
    "slideshow": {
     "slide_type": "subslide"
    }
   },
   "outputs": [],
   "source": [
    "grocery_list = groceries.split(' ')"
   ]
  },
  {
   "cell_type": "code",
   "execution_count": 30,
   "id": "bb0b10b1",
   "metadata": {
    "slideshow": {
     "slide_type": "subslide"
    }
   },
   "outputs": [
    {
     "data": {
      "text/plain": [
       "['eggs', 'milk', 'cheese']"
      ]
     },
     "execution_count": 30,
     "metadata": {},
     "output_type": "execute_result"
    }
   ],
   "source": [
    "grocery_list"
   ]
  },
  {
   "cell_type": "markdown",
   "id": "4a9c7d8e",
   "metadata": {
    "slideshow": {
     "slide_type": "fragment"
    }
   },
   "source": [
    "这个字符串叫做分割符seperator，有的地方也叫做delimiter"
   ]
  },
  {
   "cell_type": "markdown",
   "id": "5943604d",
   "metadata": {
    "slideshow": {
     "slide_type": "slide"
    }
   },
   "source": [
    "总的来说，你已经看到了三种创建清单的方法。\n",
    "- 1. 字面量 literally\n",
    "- 2. 内置的 list()\n",
    "- 3. 字符串.split()方法\n",
    "\n",
    "列表支持tuple所支持的所有相同操作\n",
    "\n",
    "索引、切片、in "
   ]
  },
  {
   "cell_type": "code",
   "execution_count": 31,
   "id": "918d4502",
   "metadata": {
    "slideshow": {
     "slide_type": "subslide"
    }
   },
   "outputs": [],
   "source": [
    "colors = [\"red\", \"yellow\", \"green\", \"blue\"]"
   ]
  },
  {
   "cell_type": "code",
   "execution_count": 33,
   "id": "5e4842c1",
   "metadata": {
    "slideshow": {
     "slide_type": "subslide"
    }
   },
   "outputs": [],
   "source": [
    "colors[0] = 'purple'"
   ]
  },
  {
   "cell_type": "code",
   "execution_count": 34,
   "id": "5edaed7f",
   "metadata": {
    "slideshow": {
     "slide_type": "subslide"
    }
   },
   "outputs": [
    {
     "data": {
      "text/plain": [
       "['purple', 'yellow', 'green', 'blue']"
      ]
     },
     "execution_count": 34,
     "metadata": {},
     "output_type": "execute_result"
    }
   ],
   "source": [
    "colors\n"
   ]
  },
  {
   "cell_type": "markdown",
   "id": "c30850e9",
   "metadata": {
    "slideshow": {
     "slide_type": "subslide"
    }
   },
   "source": [
    "### 切片这里跟元组稍微有点不一样，因为列表可变\n",
    "\n",
    "可以把列表想像成使用数字索引的一堆slot，槽，而且每个槽可以存放值同时每个槽都必须有值\n",
    "\n",
    "你可以把列表中某一个槽中的值替换为其他的值，这就叫做可变性，而对于元组，他是可变的还是不可变的？\n",
    "\n",
    "你可以使用切分同时对多个槽进行交换\n",
    "\n",
    "\n",
    "链表"
   ]
  },
  {
   "cell_type": "code",
   "execution_count": 35,
   "id": "9e5b1e89",
   "metadata": {},
   "outputs": [],
   "source": [
    "colors[1:3] = [\"orange\",\"magenta\"]"
   ]
  },
  {
   "cell_type": "code",
   "execution_count": 36,
   "id": "63778e60",
   "metadata": {},
   "outputs": [
    {
     "data": {
      "text/plain": [
       "['purple', 'orange', 'magenta', 'blue']"
      ]
     },
     "execution_count": 36,
     "metadata": {},
     "output_type": "execute_result"
    }
   ],
   "source": [
    "colors"
   ]
  },
  {
   "cell_type": "code",
   "execution_count": 37,
   "id": "12d13e39",
   "metadata": {
    "slideshow": {
     "slide_type": "subslide"
    }
   },
   "outputs": [],
   "source": [
    "colors = [\"red\", \"yellow\", \"green\", \"blue\"]\n",
    "colors[1:3] = [\"orange\", \"magenta\", \"aqua\"]"
   ]
  },
  {
   "cell_type": "code",
   "execution_count": 38,
   "id": "f5b92fd6",
   "metadata": {
    "slideshow": {
     "slide_type": "subslide"
    }
   },
   "outputs": [
    {
     "data": {
      "text/plain": [
       "['red', 'orange', 'magenta', 'aqua', 'blue']"
      ]
     },
     "execution_count": 38,
     "metadata": {},
     "output_type": "execute_result"
    }
   ],
   "source": [
    "colors"
   ]
  },
  {
   "cell_type": "code",
   "execution_count": 84,
   "id": "1099436e",
   "metadata": {
    "slideshow": {
     "slide_type": "subslide"
    }
   },
   "outputs": [],
   "source": [
    " colors[1:4] = [\"yellow\", \"green\"]"
   ]
  },
  {
   "cell_type": "code",
   "execution_count": 85,
   "id": "5455a2fa",
   "metadata": {
    "slideshow": {
     "slide_type": "subslide"
    }
   },
   "outputs": [
    {
     "data": {
      "text/plain": [
       "['purple', 'yellow', 'green', 'blue']"
      ]
     },
     "execution_count": 85,
     "metadata": {},
     "output_type": "execute_result"
    }
   ],
   "source": [
    "colors"
   ]
  },
  {
   "cell_type": "markdown",
   "id": "920be076",
   "metadata": {
    "slideshow": {
     "slide_type": "subslide"
    }
   },
   "source": [
    "### insert插入，pop弹出 ，append追加\n",
    "- list.insert(index,value)\n",
    "- list.pop(index)\n",
    "- list.append(value)\n",
    "\n",
    "\n",
    "增：insert，append\n",
    "删：pop"
   ]
  },
  {
   "cell_type": "code",
   "execution_count": 40,
   "id": "e06dade4",
   "metadata": {
    "slideshow": {
     "slide_type": "subslide"
    }
   },
   "outputs": [
    {
     "data": {
      "text/plain": [
       "['red', 'orange', 'magenta', 'aqua', 'blue']"
      ]
     },
     "execution_count": 40,
     "metadata": {},
     "output_type": "execute_result"
    }
   ],
   "source": [
    "colors"
   ]
  },
  {
   "cell_type": "code",
   "execution_count": 43,
   "id": "2096db2f",
   "metadata": {
    "slideshow": {
     "slide_type": "subslide"
    }
   },
   "outputs": [],
   "source": [
    "colors.insert(0,'black')"
   ]
  },
  {
   "cell_type": "code",
   "execution_count": 44,
   "id": "e927172b",
   "metadata": {
    "slideshow": {
     "slide_type": "subslide"
    }
   },
   "outputs": [
    {
     "data": {
      "text/plain": [
       "['black', 'red', 'red', 'orange', 'magenta', 'aqua', 'blue']"
      ]
     },
     "execution_count": 44,
     "metadata": {},
     "output_type": "execute_result"
    }
   ],
   "source": [
    "colors"
   ]
  },
  {
   "cell_type": "code",
   "execution_count": 47,
   "id": "5e7e2316",
   "metadata": {
    "slideshow": {
     "slide_type": "subslide"
    }
   },
   "outputs": [],
   "source": [
    "colors.insert(len(),'violet')"
   ]
  },
  {
   "cell_type": "code",
   "execution_count": 48,
   "id": "c0793bc1",
   "metadata": {
    "slideshow": {
     "slide_type": "subslide"
    }
   },
   "outputs": [
    {
     "data": {
      "text/plain": [
       "['black',\n",
       " 'red',\n",
       " 'red',\n",
       " 'orange',\n",
       " 'magenta',\n",
       " 'aqua',\n",
       " 'blue',\n",
       " 'violet',\n",
       " 'violet']"
      ]
     },
     "execution_count": 48,
     "metadata": {},
     "output_type": "execute_result"
    }
   ],
   "source": [
    "colors"
   ]
  },
  {
   "cell_type": "markdown",
   "id": "385931e7",
   "metadata": {
    "slideshow": {
     "slide_type": "subslide"
    }
   },
   "source": [
    "没有那么大的就加在列表的末尾"
   ]
  },
  {
   "cell_type": "code",
   "execution_count": 49,
   "id": "e15ad022",
   "metadata": {
    "slideshow": {
     "slide_type": "subslide"
    }
   },
   "outputs": [],
   "source": [
    "colors.insert(-1,'indigo')"
   ]
  },
  {
   "cell_type": "code",
   "execution_count": 54,
   "id": "f7c3e21f",
   "metadata": {
    "slideshow": {
     "slide_type": "subslide"
    }
   },
   "outputs": [],
   "source": [
    "colors= ['black', 'red', 'red', 'orange', 'magenta', 'aqua', 'blue']"
   ]
  },
  {
   "cell_type": "markdown",
   "id": "d2956a2c",
   "metadata": {},
   "source": [
    "# 注意\n",
    "\n",
    "\n",
    "当你使用了insert方法的时候，并不需要将已经操作的列表重新赋值给原来的列表，想一想为什么，如果你这么做了会怎么样？\n"
   ]
  },
  {
   "cell_type": "code",
   "execution_count": 55,
   "id": "0c4a5cf4",
   "metadata": {},
   "outputs": [],
   "source": [
    "colors.insert(-1, \"indigo\")"
   ]
  },
  {
   "cell_type": "code",
   "execution_count": 56,
   "id": "d89b3db6",
   "metadata": {
    "scrolled": true
   },
   "outputs": [
    {
     "name": "stdout",
     "output_type": "stream",
     "text": [
      "['black', 'red', 'red', 'orange', 'magenta', 'aqua', 'indigo', 'blue']\n"
     ]
    }
   ],
   "source": [
    "print(colors)"
   ]
  },
  {
   "cell_type": "markdown",
   "id": "74d36dbe",
   "metadata": {},
   "source": [
    "也就是说，这个方法其实是对这个变量指向的那块内存进行了修改，并且，没有返回值\n",
    "\n",
    "这叫做in-place操作，就是就地操作"
   ]
  },
  {
   "cell_type": "markdown",
   "id": "276373ae",
   "metadata": {
    "slideshow": {
     "slide_type": "subslide"
    }
   },
   "source": [
    "list.pop()方法接受一个参数，即索引i，并从列表中删除该索引的值。被移除的值会被该方法返回"
   ]
  },
  {
   "cell_type": "code",
   "execution_count": 59,
   "id": "0d075fe7",
   "metadata": {
    "slideshow": {
     "slide_type": "subslide"
    }
   },
   "outputs": [],
   "source": [
    "color = colors.pop()"
   ]
  },
  {
   "cell_type": "code",
   "execution_count": 64,
   "id": "c6203657",
   "metadata": {
    "slideshow": {
     "slide_type": "subslide"
    }
   },
   "outputs": [
    {
     "data": {
      "text/plain": [
       "['black', 'red', 'red', 'magenta', 'aqua', 'violet']"
      ]
     },
     "execution_count": 64,
     "metadata": {},
     "output_type": "execute_result"
    }
   ],
   "source": [
    "colors"
   ]
  },
  {
   "cell_type": "code",
   "execution_count": 96,
   "id": "fd918eb2",
   "metadata": {
    "slideshow": {
     "slide_type": "subslide"
    }
   },
   "outputs": [
    {
     "ename": "IndexError",
     "evalue": "pop index out of range",
     "output_type": "error",
     "traceback": [
      "\u001b[0;31m---------------------------------------------------------------------------\u001b[0m",
      "\u001b[0;31mIndexError\u001b[0m                                Traceback (most recent call last)",
      "Input \u001b[0;32mIn [96]\u001b[0m, in \u001b[0;36m<cell line: 1>\u001b[0;34m()\u001b[0m\n\u001b[0;32m----> 1\u001b[0m \u001b[43mcolors\u001b[49m\u001b[38;5;241;43m.\u001b[39;49m\u001b[43mpop\u001b[49m\u001b[43m(\u001b[49m\u001b[38;5;241;43m10\u001b[39;49m\u001b[43m)\u001b[49m\n",
      "\u001b[0;31mIndexError\u001b[0m: pop index out of range"
     ]
    }
   ],
   "source": [
    "colors.pop(10)"
   ]
  },
  {
   "cell_type": "code",
   "execution_count": 62,
   "id": "2dc031cc",
   "metadata": {
    "slideshow": {
     "slide_type": "subslide"
    }
   },
   "outputs": [
    {
     "data": {
      "text/plain": [
       "'indigo'"
      ]
     },
     "execution_count": 62,
     "metadata": {},
     "output_type": "execute_result"
    }
   ],
   "source": [
    "colors.pop(-1)"
   ]
  },
  {
   "cell_type": "code",
   "execution_count": 63,
   "id": "4f8f8878",
   "metadata": {
    "slideshow": {
     "slide_type": "subslide"
    }
   },
   "outputs": [],
   "source": [
    "colors.append('violet')"
   ]
  },
  {
   "cell_type": "code",
   "execution_count": 99,
   "id": "ef5dc336",
   "metadata": {
    "slideshow": {
     "slide_type": "subslide"
    }
   },
   "outputs": [
    {
     "data": {
      "text/plain": [
       "['red', 'purple', 'yellow', 'blue', 'indigo', 'violet']"
      ]
     },
     "execution_count": 99,
     "metadata": {},
     "output_type": "execute_result"
    }
   ],
   "source": [
    "colors\n"
   ]
  },
  {
   "cell_type": "code",
   "execution_count": 65,
   "id": "dc365145",
   "metadata": {
    "slideshow": {
     "slide_type": "subslide"
    }
   },
   "outputs": [
    {
     "data": {
      "text/plain": [
       "['black', 'red', 'red', 'magenta', 'aqua', 'violet', 'violet']"
      ]
     },
     "execution_count": 65,
     "metadata": {},
     "output_type": "execute_result"
    }
   ],
   "source": [
    "colors.insert(len(colors),'violet')\n",
    "colors"
   ]
  },
  {
   "cell_type": "markdown",
   "id": "d92df94e",
   "metadata": {
    "slideshow": {
     "slide_type": "fragment"
    }
   },
   "source": [
    "#### 追加多个怎么办？\n",
    "用list.extend()扩展方法\n",
    "\n",
    "参数是一个可迭代的对象"
   ]
  },
  {
   "cell_type": "code",
   "execution_count": 66,
   "id": "f80d6e3a",
   "metadata": {
    "slideshow": {
     "slide_type": "subslide"
    }
   },
   "outputs": [],
   "source": [
    "colors.extend([\"violet\", \"ultraviolet\"])"
   ]
  },
  {
   "cell_type": "code",
   "execution_count": 67,
   "id": "175f2ee8",
   "metadata": {
    "slideshow": {
     "slide_type": "subslide"
    }
   },
   "outputs": [
    {
     "data": {
      "text/plain": [
       "['black',\n",
       " 'red',\n",
       " 'red',\n",
       " 'magenta',\n",
       " 'aqua',\n",
       " 'violet',\n",
       " 'violet',\n",
       " 'violet',\n",
       " 'ultraviolet']"
      ]
     },
     "execution_count": 67,
     "metadata": {},
     "output_type": "execute_result"
    }
   ],
   "source": [
    "colors"
   ]
  },
  {
   "cell_type": "markdown",
   "id": "811eed81",
   "metadata": {
    "slideshow": {
     "slide_type": "slide"
    }
   },
   "source": [
    "|List 方法| 描述|\n",
    "|----|----|\n",
    "|.insert(i, x)|在指定的索引插入指定的值|\n",
    "|.append(x)|在列表最后插入值|\n",
    "|.extend(iterable)|按序在列表的最后插入所有值|\n",
    "|.pop(i)|移除并且返回在指定的位置的值|"
   ]
  },
  {
   "cell_type": "markdown",
   "id": "63e50b80",
   "metadata": {
    "slideshow": {
     "slide_type": "slide"
    }
   },
   "source": [
    "## List of Numbers 数组\n",
    "\n",
    "如何对一个列表求和？"
   ]
  },
  {
   "cell_type": "code",
   "execution_count": 75,
   "id": "4c5a0ded",
   "metadata": {
    "slideshow": {
     "slide_type": "slide"
    }
   },
   "outputs": [],
   "source": [
    "nums = [0,2,3,4,5,6]"
   ]
  },
  {
   "cell_type": "code",
   "execution_count": 70,
   "id": "c46b71bd",
   "metadata": {},
   "outputs": [
    {
     "name": "stdout",
     "output_type": "stream",
     "text": [
      "15\n"
     ]
    }
   ],
   "source": [
    "sum = 0\n",
    "for i in nums :\n",
    "    sum = sum + i\n",
    "print(sum)"
   ]
  },
  {
   "cell_type": "code",
   "execution_count": 74,
   "id": "a465f4e8",
   "metadata": {
    "slideshow": {
     "slide_type": "subslide"
    }
   },
   "outputs": [
    {
     "data": {
      "text/plain": [
       "21"
      ]
     },
     "execution_count": 74,
     "metadata": {},
     "output_type": "execute_result"
    }
   ],
   "source": [
    "sum(nums)"
   ]
  },
  {
   "cell_type": "code",
   "execution_count": 76,
   "id": "81ea0070",
   "metadata": {
    "slideshow": {
     "slide_type": "subslide"
    }
   },
   "outputs": [
    {
     "data": {
      "text/plain": [
       "0"
      ]
     },
     "execution_count": 76,
     "metadata": {},
     "output_type": "execute_result"
    }
   ],
   "source": [
    "min(nums)"
   ]
  },
  {
   "cell_type": "code",
   "execution_count": 77,
   "id": "0d1d8dbf",
   "metadata": {
    "slideshow": {
     "slide_type": "subslide"
    }
   },
   "outputs": [
    {
     "data": {
      "text/plain": [
       "6"
      ]
     },
     "execution_count": 77,
     "metadata": {},
     "output_type": "execute_result"
    }
   ],
   "source": [
    "max(nums)"
   ]
  },
  {
   "cell_type": "markdown",
   "id": "95f70885",
   "metadata": {
    "slideshow": {
     "slide_type": "subslide"
    }
   },
   "source": [
    "#### 列表推导式 list comprehension\n",
    "\n",
    "人话就是，for循环的简写形式"
   ]
  },
  {
   "cell_type": "code",
   "execution_count": 79,
   "id": "40c94e6f",
   "metadata": {},
   "outputs": [
    {
     "data": {
      "text/plain": [
       "[1, 2, 3, 4, 5]"
      ]
     },
     "execution_count": 79,
     "metadata": {},
     "output_type": "execute_result"
    }
   ],
   "source": [
    "nums = [ i+1 for i in range(5)]\n",
    "nums"
   ]
  },
  {
   "cell_type": "code",
   "execution_count": 81,
   "id": "cf10c83d",
   "metadata": {
    "slideshow": {
     "slide_type": "subslide"
    }
   },
   "outputs": [
    {
     "name": "stdout",
     "output_type": "stream",
     "text": [
      "[1.5, 2.3, 5.25]\n"
     ]
    }
   ],
   "source": [
    "str_numbers = [\"1.5\", \"2.3\", \"5.25\"]\n",
    "\n",
    "pure_numbers = []\n",
    "for i in str_numbers :\n",
    "    pure_numbers.append(float(i))\n",
    "print(pure_numbers)"
   ]
  },
  {
   "cell_type": "markdown",
   "id": "92eec54e",
   "metadata": {
    "slideshow": {
     "slide_type": "fragment"
    }
   },
   "source": [
    "什么时候使用列表推导式？\n",
    "\n",
    "如果你发现自己创建了一个空的列表，在其他一些可迭代的序列上循环，并向列表追加新的item，那么你有可能用一个列表理解来代替你的代码"
   ]
  },
  {
   "cell_type": "markdown",
   "id": "24eeea28",
   "metadata": {
    "slideshow": {
     "slide_type": "slide"
    }
   },
   "source": [
    "# Exercise time！ \n",
    "- 1. Create a list named  food with two elements \"rice\" and \"beans\".\n",
    "    \n",
    "    \n",
    "    创建一个叫做food的列表，里面有两个元素分别是rice和beans。\n",
    "- 2. Append the string \"broccoli\" to food using.append().\n",
    "    \n",
    "    \n",
    "    使用append()方法将brocoli添加到food列表中\n",
    "- 3. Add the string \"bread\" and \"pizza\" to \"food\" using .extend().\n",
    "    \n",
    "    \n",
    "    使用extend()方法将bread和pizza添加到food中\n",
    "- 4. Print the first two items in the food list using print() and slicing notation.\n",
    "    \n",
    "    \n",
    "    使用print函数和切片表示法打印food列表中的前两项\n",
    "- 5. Print the last item in food using print() and index notation.\n",
    "    \n",
    "    \n",
    "    使用print和索引表示法打印出food列表的最后一项\n",
    "- 6. Create a list called breakfast from the string \"eggs, fruit, orange，juice\" using the string .split() method.\n",
    "    \n",
    "    \n",
    "    使用split方法从字符串\"eggs, fruit, orange，juice\"中创建一个叫做breakfast的列表\n",
    "- 7. Verify that breakfast has three items using len().\n",
    "    \n",
    "    \n",
    "    使用len方法验证其有三项\n",
    "- 8. Create a new list called lengths using a list comprehension that contains the lengths of each string in the breakfast list.\n",
    "    \n",
    "    \n",
    "    使用列表推导式创建一个叫做lengths的新的列表，其中每一项为breakfast列表中每一个字符床的长度。"
   ]
  },
  {
   "cell_type": "code",
   "execution_count": null,
   "id": "6850f7c5",
   "metadata": {},
   "outputs": [],
   "source": []
  }
 ],
 "metadata": {
  "celltoolbar": "幻灯片",
  "kernelspec": {
   "display_name": "Python 3 (ipykernel)",
   "language": "python",
   "name": "python3"
  },
  "language_info": {
   "codemirror_mode": {
    "name": "ipython",
    "version": 3
   },
   "file_extension": ".py",
   "mimetype": "text/x-python",
   "name": "python",
   "nbconvert_exporter": "python",
   "pygments_lexer": "ipython3",
   "version": "3.9.13"
  },
  "vscode": {
   "interpreter": {
    "hash": "b816af80ce6e57c39048368ff3aa3448b5b147bd154d524c2f8f356fb26241bb"
   }
  }
 },
 "nbformat": 4,
 "nbformat_minor": 5
}
